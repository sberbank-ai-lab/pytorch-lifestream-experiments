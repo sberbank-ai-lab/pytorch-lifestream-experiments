{
 "cells": [
  {
   "cell_type": "markdown",
   "id": "monthly-russian",
   "metadata": {},
   "source": [
    "Train substitute model and attack test data\n",
    "\n",
    "Dataset:\n",
    "```\n",
    "|-----------------------------------|-valid-|-test--|\n",
    "|------target-----|----substitute---|-valid-|-test--|\n",
    "| train agg_model | train rnn_model |       |       |\n",
    "|                 | make adversarial for v and  t\n",
    "| estimate score on original and adv v and t\n",
    "```"
   ]
  },
  {
   "cell_type": "code",
   "execution_count": null,
   "id": "leading-table",
   "metadata": {},
   "outputs": [],
   "source": []
  },
  {
   "cell_type": "code",
   "execution_count": 1,
   "id": "russian-light",
   "metadata": {},
   "outputs": [
    {
     "name": "stdout",
     "output_type": "stream",
     "text": [
      "/mnt2/kireev/pycharm-deploy/pytorch-lifestream/experiments/scenario_gender\n"
     ]
    }
   ],
   "source": [
    "%cd ../"
   ]
  },
  {
   "cell_type": "code",
   "execution_count": 2,
   "id": "eight-radio",
   "metadata": {},
   "outputs": [],
   "source": [
    "import sys\n",
    "sys.path.append('../../')"
   ]
  },
  {
   "cell_type": "code",
   "execution_count": 3,
   "id": "strange-flour",
   "metadata": {},
   "outputs": [],
   "source": [
    "import os\n",
    "os.environ['CUDA_VISIBLE_DEVICES'] = \"3\""
   ]
  },
  {
   "cell_type": "code",
   "execution_count": 4,
   "id": "perceived-roberts",
   "metadata": {},
   "outputs": [],
   "source": [
    "import logging"
   ]
  },
  {
   "cell_type": "code",
   "execution_count": 5,
   "id": "jewish-premiere",
   "metadata": {},
   "outputs": [],
   "source": [
    "from itertools import chain, islice, product, cycle"
   ]
  },
  {
   "cell_type": "code",
   "execution_count": 6,
   "id": "posted-catering",
   "metadata": {},
   "outputs": [],
   "source": [
    "import json\n",
    "import jsonlines\n",
    "import matplotlib.pyplot as plt\n",
    "import lightgbm\n",
    "import numpy as np\n",
    "import pandas as pd\n",
    "import pickle\n",
    "import pytorch_lightning as pl\n",
    "import random\n",
    "import torch"
   ]
  },
  {
   "cell_type": "code",
   "execution_count": 7,
   "id": "latin-algebra",
   "metadata": {},
   "outputs": [],
   "source": [
    "from copy import deepcopy\n",
    "from tqdm.auto import tqdm\n",
    "from pyhocon import ConfigFactory\n",
    "from torch.utils.data import DataLoader\n",
    "from sklearn.decomposition import PCA\n",
    "from IPython.display import display"
   ]
  },
  {
   "cell_type": "code",
   "execution_count": 8,
   "id": "white-connecticut",
   "metadata": {},
   "outputs": [],
   "source": [
    "from sklearn.metrics import roc_auc_score, recall_score, precision_score"
   ]
  },
  {
   "cell_type": "code",
   "execution_count": 9,
   "id": "honest-point",
   "metadata": {},
   "outputs": [],
   "source": [
    "from embeddings_validation.tasks.report_collect import t_pm, t_int_l, t_int_h"
   ]
  },
  {
   "cell_type": "code",
   "execution_count": 10,
   "id": "dying-triangle",
   "metadata": {},
   "outputs": [],
   "source": [
    "from dltranz.data_load import padded_collate, IterableChain, IterableAugmentations\n",
    "from dltranz.data_load.augmentations.build_augmentations import build_augmentations\n",
    "from dltranz.data_load.data_module.map_augmentation_dataset import MapAugmentationDataset\n",
    "from dltranz.data_load.iterable_processing.category_size_clip import CategorySizeClip\n",
    "from dltranz.data_load.iterable_processing.feature_filter import FeatureFilter\n",
    "from dltranz.data_load.iterable_processing.feature_type_cast import FeatureTypeCast\n",
    "from dltranz.data_load.iterable_processing.seq_len_filter import SeqLenFilter\n",
    "from dltranz.data_load.parquet_dataset import ParquetFiles, ParquetDataset\n",
    "from dltranz.data_load.list_splitter import ListSplitter\n",
    "from dltranz.data_load.iterable_processing.target_join import TargetJoin\n",
    "from dltranz.data_load.iterable_processing.id_filter import IdFilter\n",
    "from dltranz.models import create_head_layers\n",
    "from dltranz.seq_encoder import create_encoder\n",
    "from dltranz.seq_to_target import SequenceToTarget\n",
    "from dltranz.train import score_model2\n",
    "from dltranz.trx_encoder import PaddedBatch\n",
    "from dltranz.util import get_cls"
   ]
  },
  {
   "cell_type": "code",
   "execution_count": 11,
   "id": "prostate-church",
   "metadata": {},
   "outputs": [],
   "source": [
    "logger = logging.getLogger(__name__)\n",
    "logging.basicConfig(level=logging.INFO, format='%(asctime)s %(levelname)-7s %(funcName)-20s   : %(message)s')"
   ]
  },
  {
   "cell_type": "code",
   "execution_count": null,
   "id": "adjacent-given",
   "metadata": {},
   "outputs": [],
   "source": []
  },
  {
   "cell_type": "code",
   "execution_count": 12,
   "id": "anonymous-robinson",
   "metadata": {},
   "outputs": [
    {
     "data": {
      "text/plain": [
       "57034"
      ]
     },
     "execution_count": 12,
     "metadata": {},
     "output_type": "execute_result"
    }
   ],
   "source": [
    "random.randint(1, 2**16)"
   ]
  },
  {
   "cell_type": "code",
   "execution_count": 13,
   "id": "cosmetic-offer",
   "metadata": {},
   "outputs": [],
   "source": [
    "config_text = \"\"\"\n",
    "{\n",
    "  seed_everything: 42\n",
    "\n",
    "  data_module: {\n",
    "    setup: {\n",
    "      dataset_files: {\n",
    "        train_data_path: \"data/train_trx.parquet\"\n",
    "        test_data_path: \"data/test_trx.parquet\"\n",
    "      }\n",
    "      target_file_path: \"data/gender_train.csv\"\n",
    "      \n",
    "      col_id: customer_id\n",
    "      col_id_dtype: int\n",
    "      col_target: gender\n",
    "\n",
    "      split_seed: 23921\n",
    "      cv_folds: 5\n",
    "      substitute_part: 0.5\n",
    "      valid_part: 0.1\n",
    "    }\n",
    "    train: {\n",
    "        min_seq_len: 0\n",
    "        augmentations: [\n",
    "            [RandomSlice, {min_len: 250, max_len: 350, rate_for_min: 0.9}]\n",
    "            [DropoutTrx, {trx_dropout: 0.01}]\n",
    "        ]\n",
    "        num_workers: 16\n",
    "        batch_size: 32\n",
    "        drop_last: true\n",
    "    }\n",
    "\n",
    "    valid: {\n",
    "        augmentations: [\n",
    "            [SeqLenLimit, {max_seq_len: 1200}]\n",
    "        ]\n",
    "        num_workers: 8\n",
    "        batch_size: 64   # 512\n",
    "        drop_last: true\n",
    "    }\n",
    "    test: {\n",
    "        augmentations: [\n",
    "            [SeqLenLimit, {max_seq_len: 1200}]\n",
    "        ]\n",
    "        num_workers: 0\n",
    "        batch_size: 500\n",
    "    }\n",
    "  }\n",
    "  \n",
    "  substitute:\n",
    "  {\n",
    "      logger_name: adv_substitute\n",
    "      trainer: {\n",
    "        gpus: 1\n",
    "        auto_select_gpus: false\n",
    "\n",
    "        # max_epochs: 50\n",
    "        max_epochs: 50\n",
    "        \n",
    "        checkpoint_callback: false\n",
    "        deterministic: True\n",
    "      }\n",
    "      params: {\n",
    "        score_metric: [auroc, accuracy]\n",
    "\n",
    "        encoder_type: rnn,\n",
    "        trx_encoder: {\n",
    "          norm_embeddings: false,\n",
    "          embeddings_noise: 0.003,\n",
    "          embeddings: {\n",
    "            mcc_code: {in: 200, out: 48},\n",
    "            tr_type: {in: 100, out: 24}\n",
    "          },\n",
    "          numeric_values: {\n",
    "            amount: identity\n",
    "          }\n",
    "        },\n",
    "        rnn: {\n",
    "          hidden_size: 48,\n",
    "          type: gru,\n",
    "          bidir: false,\n",
    "          trainable_starter: static\n",
    "        },\n",
    "\n",
    "        head_layers: [\n",
    "            [BatchNorm1d, {num_features: \"{seq_encoder.embedding_size}\"}]\n",
    "            [Linear, {\"in_features\": \"{seq_encoder.embedding_size}\", \"out_features\": 1}]\n",
    "            [Sigmoid, {}]\n",
    "            [Squeeze, {}]\n",
    "        ]\n",
    "\n",
    "        train: {\n",
    "          random_neg: false,\n",
    "          loss: bce,\n",
    "          lr: 0.005,\n",
    "          weight_decay: 0.0,\n",
    "        },\n",
    "        lr_scheduler: {\n",
    "          step_size: 1,\n",
    "          step_gamma: 0.70\n",
    "        }\n",
    "      }\n",
    "  }\n",
    "  \n",
    "  attack: {\n",
    "      mcc_len: 2\n",
    "      max_mcc: 70\n",
    "      # sample_rate: 0.1\n",
    "      sample_rate: 0.1\n",
    "  }\n",
    "  \n",
    "  agg_target: {\n",
    "    params: {\n",
    "        encoder_type: agg_features\n",
    "        trx_encoder: {\n",
    "          embeddings: {\n",
    "            mcc_code: {in: 200}\n",
    "            tr_type: {in: 100}\n",
    "          }\n",
    "          numeric_values: {\n",
    "            amount: identity\n",
    "          }\n",
    "          was_logified: true\n",
    "          log_scale_factor: 1\n",
    "        }\n",
    "    }\n",
    "  }\n",
    "  coles_target: {\n",
    "        trainer: {\n",
    "            # max_epochs: 150\n",
    "            # max_epochs: 5\n",
    "            max_epochs: 100\n",
    "        }\n",
    "        train: {\n",
    "          min_seq_len: 25\n",
    "          split_strategy: {\n",
    "            split_strategy: \"SampleSlices\"\n",
    "            split_count: 5\n",
    "            cnt_min: 15\n",
    "            cnt_max: 75\n",
    "          }\n",
    "          trx_dropout: 0.01\n",
    "          num_workers: 8\n",
    "          batch_size: 128\n",
    "        }\n",
    "        valid: {\n",
    "          split_strategy: {\n",
    "            split_strategy: SampleSlices\n",
    "            split_count: 5\n",
    "            cnt_min: 25\n",
    "            cnt_max: 100\n",
    "          }\n",
    "          num_workers: 16\n",
    "          batch_size: 1024\n",
    "        }\n",
    "      params: {\n",
    "            validation_metric_params: {\n",
    "                K: 4\n",
    "                metric: cosine\n",
    "            }\n",
    "\n",
    "            encoder_type: rnn,\n",
    "            trx_encoder: {\n",
    "              norm_embeddings: false,\n",
    "              embeddings_noise: 0.003,\n",
    "              embeddings: {\n",
    "                mcc_code: {in: 200, out: 48},\n",
    "                tr_type: {in: 100, out: 24}\n",
    "              },\n",
    "              numeric_values: {\n",
    "                amount: identity\n",
    "              }\n",
    "            },\n",
    "            rnn: {\n",
    "              type: gru,\n",
    "              hidden_size: 512,\n",
    "              bidir: false,\n",
    "              trainable_starter: static\n",
    "            },\n",
    "            head_layers: [\n",
    "                [NormEncoder, {}],\n",
    "            ]\n",
    "\n",
    "            lr_scheduler: {\n",
    "              step_size: 10,\n",
    "              step_gamma: 0.9025\n",
    "            },\n",
    "            train: {\n",
    "              sampling_strategy: HardNegativePair,\n",
    "              neg_count: 5,\n",
    "              loss: ContrastiveLoss,\n",
    "              margin: 0.5,\n",
    "              lr: 0.002,\n",
    "              weight_decay: 0.0\n",
    "            }\n",
    "      }\n",
    "  }\n",
    "  target_rnn: {\n",
    "      trainer: {\n",
    "        gpus: 1\n",
    "        auto_select_gpus: false\n",
    "\n",
    "        # max_epochs: 50\n",
    "        max_epochs: 25\n",
    "        \n",
    "        deterministic: True\n",
    "      }\n",
    "      params: {\n",
    "        score_metric: [auroc, accuracy]\n",
    "\n",
    "        encoder_type: rnn,\n",
    "        trx_encoder: {\n",
    "          norm_embeddings: false,\n",
    "          embeddings_noise: 0.003,\n",
    "          embeddings: {\n",
    "            mcc_code: {in: 200, out: 48},\n",
    "            tr_type: {in: 100, out: 24}\n",
    "          },\n",
    "          numeric_values: {\n",
    "            amount: identity\n",
    "          }\n",
    "        },\n",
    "        rnn: {\n",
    "          hidden_size: 48,\n",
    "          type: gru,\n",
    "          bidir: false,\n",
    "          trainable_starter: static\n",
    "        },\n",
    "\n",
    "        head_layers: [\n",
    "            [BatchNorm1d, {num_features: \"{seq_encoder.embedding_size}\"}]\n",
    "            [Linear, {\"in_features\": \"{seq_encoder.embedding_size}\", \"out_features\": 1}]\n",
    "            [Sigmoid, {}]\n",
    "            [Squeeze, {}]\n",
    "        ]\n",
    "\n",
    "        train: {\n",
    "          random_neg: false,\n",
    "          loss: bce,\n",
    "          lr: 0.005,\n",
    "          weight_decay: 0.0,\n",
    "        },\n",
    "        lr_scheduler: {\n",
    "          step_size: 1,\n",
    "          step_gamma: 0.70\n",
    "        }\n",
    "      }\n",
    "  }\n",
    "  lgbm_params: {\n",
    "        n_estimators: 500\n",
    "        boosting_type: gbdt\n",
    "        objective: binary\n",
    "        metric: auc\n",
    "        subsample: 0.5\n",
    "        subsample_freq: 1\n",
    "        learning_rate: 0.02\n",
    "        feature_fraction: 0.75\n",
    "        max_depth: 6\n",
    "        lambda_l1: 1\n",
    "        lambda_l2: 1\n",
    "        min_data_in_leaf: 50\n",
    "        random_state: 42\n",
    "        n_jobs: 8\n",
    "        reg_alpha: null\n",
    "        reg_lambda: null\n",
    "        colsample_bytree: null\n",
    "        min_child_samples: null\n",
    "  }\n",
    "\n",
    "}\n",
    "\"\"\"\n",
    "\n",
    "conf = ConfigFactory.parse_string(config_text)"
   ]
  },
  {
   "cell_type": "code",
   "execution_count": null,
   "id": "monetary-reynolds",
   "metadata": {},
   "outputs": [],
   "source": []
  },
  {
   "cell_type": "markdown",
   "id": "canadian-neighbor",
   "metadata": {},
   "source": [
    "# Classes"
   ]
  },
  {
   "cell_type": "code",
   "execution_count": 14,
   "id": "honest-animal",
   "metadata": {},
   "outputs": [],
   "source": [
    "class TargetToDict(IterableProcessingDataset):\n",
    "    def __init__(self, col_id):\n",
    "        super().__init__()\n",
    "        \n",
    "        self.col_id = col_id\n",
    "    \n",
    "    def __iter__(self):\n",
    "        for x, y in self._src:\n",
    "            _id = x[self.col_id]\n",
    "            yield x, {'id': _id, 'y': y}"
   ]
  },
  {
   "cell_type": "code",
   "execution_count": 15,
   "id": "robust-sewing",
   "metadata": {},
   "outputs": [],
   "source": [
    "from sklearn.model_selection import KFold"
   ]
  },
  {
   "cell_type": "code",
   "execution_count": 16,
   "id": "communist-victim",
   "metadata": {},
   "outputs": [],
   "source": [
    "class DataSplitter:\n",
    "    def __init__(self, conf):\n",
    "        self.setup_conf = conf['setup']\n",
    "        self.split()\n",
    "        \n",
    "    def split(self):\n",
    "        train_data_files = ParquetFiles(self.setup_conf['dataset_files.train_data_path']).data_files\n",
    "        test_data_files = ParquetFiles(self.setup_conf['dataset_files.test_data_path']).data_files\n",
    "\n",
    "        train_data_files = np.array(train_data_files)\n",
    "        kf = KFold(n_splits=self.setup_conf['cv_folds'], shuffle=True, random_state=self.setup_conf['split_seed']) \n",
    "        \n",
    "        self.folds = {}\n",
    "        for i, (i_train, i_valid) in enumerate(kf.split(train_data_files)):\n",
    "            target_subst_spliter = ListSplitter(\n",
    "                train_data_files[i_train].tolist(), valid_size=self.setup_conf['substitute_part'], \n",
    "                seed=self.setup_conf['split_seed'])\n",
    "            substitute_splitter = ListSplitter(\n",
    "                target_subst_spliter.valid, valid_size=self.setup_conf['valid_part'], \n",
    "                seed=self.setup_conf['split_seed'])\n",
    "\n",
    "            self.folds[i] = {\n",
    "                'test': test_data_files,\n",
    "                'valid': train_data_files[i_valid].tolist(),\n",
    "                'target': target_subst_spliter.train,\n",
    "                'substitute_train': substitute_splitter.train,\n",
    "                'substitute_valid': substitute_splitter.valid,\n",
    "            }"
   ]
  },
  {
   "cell_type": "code",
   "execution_count": 17,
   "id": "dried-geology",
   "metadata": {},
   "outputs": [],
   "source": [
    "class AdversarialTrainDataModule(pl.LightningDataModule):\n",
    "    def __init__(self, conf, pl_module, *files):\n",
    "        super().__init__()\n",
    "\n",
    "        self.mode = None\n",
    "        \n",
    "        self.setup_conf = conf['setup']\n",
    "        self.train_conf = conf['train']\n",
    "        self.valid_conf = conf['valid']\n",
    "        \n",
    "        self.train_files, self.valid_files = files\n",
    "\n",
    "        self.col_id = self.setup_conf['col_id']\n",
    "        self.col_id_dtype = {\n",
    "            'str': str,\n",
    "            'int': int,\n",
    "        }[self.setup_conf['col_id_dtype']]\n",
    "        self.col_target = self.setup_conf['col_target']\n",
    "        self.y_cast = int\n",
    "        self.category_names = pl_module.seq_encoder.category_names\n",
    "        self.category_names.add('event_time')\n",
    "        self.category_max_size = pl_module.seq_encoder.category_max_size\n",
    "\n",
    "    def prepare_data(self):\n",
    "        self.load_target()\n",
    "        self.setup_iterable_files()\n",
    "        self.setup_map()\n",
    "\n",
    "    def load_target(self):\n",
    "        df = pd.read_csv(self.setup_conf['target_file_path'])\n",
    "        df[self.col_id] = df[self.col_id].astype(self.col_id_dtype)\n",
    "        df[self.col_target] = df[self.col_target].astype(self.y_cast)\n",
    "        self._targets = df.set_index(self.col_id)[self.col_target].to_dict()\n",
    "        \n",
    "    def setup_iterable_files(self):\n",
    "        self.train_dataset = ParquetDataset(\n",
    "            self.train_files,\n",
    "            post_processing=IterableChain(*self.build_iterable_processing('train')),\n",
    "            shuffle_files=True,\n",
    "        )\n",
    "        self.valid_dataset = ParquetDataset(\n",
    "            self.valid_files,\n",
    "            post_processing=IterableChain(*self.build_iterable_processing('valid')),\n",
    "            shuffle_files=False,\n",
    "        )\n",
    "\n",
    "    def build_iterable_processing(self, part):\n",
    "        yield FeatureTypeCast({self.col_id: self.col_id_dtype})\n",
    "        yield IdFilter(id_col=self.col_id, relevant_ids=list(self._targets.keys()))\n",
    "        if part == 'train':\n",
    "            yield SeqLenFilter(min_seq_len=self.train_conf['min_seq_len'])\n",
    "        \n",
    "        yield TargetJoin(self.col_id, self._targets, self.y_cast)\n",
    "\n",
    "        yield FeatureFilter(keep_feature_names=self.category_names)\n",
    "        yield CategorySizeClip(self.category_max_size)\n",
    "\n",
    "    def build_augmentations(self, part):\n",
    "        if part == 'train':\n",
    "            return build_augmentations(self.train_conf['augmentations'])\n",
    "        elif part == 'valid':\n",
    "            return build_augmentations(self.valid_conf['augmentations'])\n",
    "\n",
    "    def setup_map(self):\n",
    "        self.train_dataset = list(tqdm(iter(self.train_dataset)))\n",
    "        logger.info(f'Loaded {len(self.train_dataset)} for train model')\n",
    "        self.valid_dataset = list(tqdm(iter(self.valid_dataset)))\n",
    "        logger.info(f'Loaded {len(self.valid_dataset)} for valid model')\n",
    "\n",
    "        self.train_dataset = MapAugmentationDataset(\n",
    "            base_dataset=self.train_dataset,\n",
    "            a_chain=self.build_augmentations('train'),\n",
    "        )\n",
    "        self.valid_dataset = MapAugmentationDataset(\n",
    "            base_dataset=self.valid_dataset,\n",
    "            a_chain=self.build_augmentations('valid'),\n",
    "        )\n",
    "\n",
    "    def train_dataloader(self):\n",
    "        return DataLoader(\n",
    "            dataset=self.train_dataset,\n",
    "            collate_fn=padded_collate,\n",
    "            shuffle=True,\n",
    "            num_workers=self.train_conf['num_workers'],\n",
    "            batch_size=self.train_conf['batch_size'],\n",
    "            drop_last=self.train_conf.get('drop_last', False)\n",
    "        )\n",
    "\n",
    "    def val_dataloader(self):\n",
    "        return DataLoader(\n",
    "            dataset=self.valid_dataset,\n",
    "            collate_fn=padded_collate,\n",
    "            num_workers=self.valid_conf['num_workers'],\n",
    "            batch_size=self.valid_conf['batch_size'],\n",
    "            drop_last=self.train_conf.get('drop_last', False),\n",
    "        )"
   ]
  },
  {
   "cell_type": "code",
   "execution_count": 18,
   "id": "fixed-christmas",
   "metadata": {},
   "outputs": [],
   "source": [
    "class GreadyAttacker:\n",
    "    def __init__(self, is_sample_mcc=True, mcc_freq=None):\n",
    "        self._src = None\n",
    "        \n",
    "        self.mcc_len = conf['attack.mcc_len']\n",
    "        self.max_mcc = conf['attack.max_mcc']\n",
    "        self.sample_rate = conf['attack.sample_rate']\n",
    "\n",
    "        self.tr_for_mcc = {}\n",
    "        for m in range(2, self.max_mcc):\n",
    "            t = mcc_freq.loc[m]['tr_type_freq']\n",
    "            t = t.index[torch.multinomial(\n",
    "                torch.from_numpy(t.values), 1000, replacement=True).numpy()].values.tolist()\n",
    "            self.tr_for_mcc[m] = cycle(t)\n",
    "            \n",
    "        self.amount_dist = mcc_freq[['a_min', 'a_max']].to_dict(orient='index')\n",
    "        self.is_sample_mcc = is_sample_mcc\n",
    "\n",
    "    def __call__(self, src):\n",
    "        self._src = src\n",
    "        return iter(self)\n",
    "\n",
    "    def __iter__(self):\n",
    "        for rec in self._src:\n",
    "            for t in self.process(rec):\n",
    "                yield t\n",
    "\n",
    "    def process(self, x):\n",
    "        # original record\n",
    "        rec, d = x\n",
    "        # yield rec, {'id': d['id'], 'y': d['y'], 'new_trx': None, 'new_trx_len': 0}\n",
    "        \n",
    "        if not self.is_sample_mcc:\n",
    "            return \n",
    "        \n",
    "        mcc_len = self.mcc_len\n",
    "        mcc_product = list(product(*[range(2, self.max_mcc) for _ in range(mcc_len)]))\n",
    "        n = int(len(mcc_product) * self.sample_rate)\n",
    "        if n <= 1:\n",
    "            print(n)\n",
    "        sel_ids = set(np.random.choice(len(mcc_product), n, replace=False).tolist())\n",
    "        for i, new_mcc in enumerate(mcc_product):\n",
    "            if i not in sel_ids:\n",
    "                continue\n",
    "                \n",
    "            new_rec = {}\n",
    "            new_rec['mcc_code'] = torch.cat([rec['mcc_code'], torch.tensor(new_mcc)])\n",
    "            \n",
    "            v = rec['event_time'][-1]\n",
    "            new_event_time = [v + 1, v + 2]\n",
    "            new_rec['event_time'] = torch.cat([rec['event_time'], torch.tensor(new_event_time)])\n",
    "            \n",
    "            new_tr_type = []\n",
    "            new_amount = []\n",
    "            for m in new_mcc:\n",
    "                t = next(self.tr_for_mcc[m])\n",
    "                new_tr_type.append(t)\n",
    "                \n",
    "                ix = (rec['mcc_code'] == m) & (rec['tr_type'] == t)\n",
    "                if ix.sum() == 0:\n",
    "                    # no such trx for this client, sample similar trx\n",
    "                    v = self.amount_dist[(m, t)]\n",
    "                    a = random.random() * (v['a_max'] - v['a_min']) + v['a_min']\n",
    "                else:\n",
    "                    # take amount from history\n",
    "                    v = rec['amount'][ix]\n",
    "                    a = v[random.choice(range(len(v)))].item()         \n",
    "                new_amount.append(a)\n",
    "                \n",
    "            new_rec['tr_type'] = torch.cat([rec['tr_type'], torch.tensor(new_tr_type)])\n",
    "            new_rec['amount'] = torch.cat([rec['amount'], torch.tensor(new_amount)])\n",
    "                \n",
    "            yield new_rec, {'id': d['id'], 'y': d['y'], 'new_trx': {\n",
    "                'mcc_code': list(new_mcc),\n",
    "                'tr_type': new_tr_type,\n",
    "                'amount': new_amount,\n",
    "                'event_time': new_event_time,\n",
    "            }, 'new_trx_len': len(new_mcc)}"
   ]
  },
  {
   "cell_type": "code",
   "execution_count": 19,
   "id": "warming-company",
   "metadata": {},
   "outputs": [],
   "source": [
    "class AdversarialAttackDataModule(pl.LightningDataModule):\n",
    "    def __init__(self, conf, pl_module, mcc_freq, *files):\n",
    "        super().__init__()\n",
    "\n",
    "        self.mode = None\n",
    "        \n",
    "        self.setup_conf = conf['setup']\n",
    "        self.test_conf = conf.get('test')\n",
    "        \n",
    "        self.test_files = files\n",
    "\n",
    "        self.col_id = self.setup_conf['col_id']\n",
    "        self.col_id_dtype = {\n",
    "            'str': str,\n",
    "            'int': int,\n",
    "        }[self.setup_conf['col_id_dtype']]\n",
    "        self.col_target = self.setup_conf['col_target']\n",
    "        self.y_cast = int\n",
    "        self.category_names = pl_module.seq_encoder.category_names\n",
    "        self.category_names.add('event_time')\n",
    "        self.category_max_size = pl_module.seq_encoder.category_max_size\n",
    "\n",
    "    def prepare_data(self):\n",
    "        self.load_target()\n",
    "        self.setup_iterable_files()\n",
    "\n",
    "    def load_target(self):\n",
    "        df = pd.read_csv(self.setup_conf['target_file_path'])\n",
    "        df[self.col_id] = df[self.col_id].astype(self.col_id_dtype)\n",
    "        df[self.col_target] = df[self.col_target].astype(self.y_cast)\n",
    "        self._targets = df.set_index(self.col_id)[self.col_target].to_dict()\n",
    "        \n",
    "    def setup_iterable_files(self):\n",
    "        self.test_dataset = ParquetDataset(\n",
    "            self.test_files,\n",
    "            post_processing=IterableChain(*self.build_iterable_processing('test')),\n",
    "            shuffle_files=False,\n",
    "        )\n",
    "        self.history_dataset = ParquetDataset(\n",
    "            self.test_files,\n",
    "            post_processing=IterableChain(*self.build_iterable_processing('history')),\n",
    "            shuffle_files=False,\n",
    "        )\n",
    "\n",
    "    def build_iterable_processing(self, part):\n",
    "        yield FeatureTypeCast({self.col_id: self.col_id_dtype})\n",
    "        yield IdFilter(id_col=self.col_id, relevant_ids=list(self._targets.keys()))\n",
    "        \n",
    "        yield TargetJoin(self.col_id, self._targets, self.y_cast)\n",
    "        yield TargetToDict(self.col_id)\n",
    "        yield FeatureFilter(keep_feature_names=self.category_names)\n",
    "        yield CategorySizeClip(self.category_max_size)\n",
    "        yield IterableAugmentations(self.build_augmentations(part))\n",
    "        \n",
    "        if part == 'test':\n",
    "            yield GreadyAttacker(is_sample_mcc=True, mcc_freq=mcc_freq)\n",
    "        else:\n",
    "            yield GreadyAttacker(is_sample_mcc=False, mcc_freq=mcc_freq)\n",
    "\n",
    "    def build_augmentations(self, part):\n",
    "        return build_augmentations(self.test_conf['augmentations'])\n",
    "\n",
    "    def test_dataloader(self):\n",
    "        return DataLoader(\n",
    "            dataset=self.test_dataset,\n",
    "            collate_fn=padded_collate,\n",
    "            shuffle=False,\n",
    "            num_workers=self.test_conf['num_workers'],\n",
    "            batch_size=self.test_conf['batch_size'],\n",
    "            drop_last=False,\n",
    "        )"
   ]
  },
  {
   "cell_type": "code",
   "execution_count": 20,
   "id": "empirical-supplement",
   "metadata": {},
   "outputs": [],
   "source": [
    "def get_dataset(conf, seq_encoder, files, apply_attacks=[]):\n",
    "    # load_target\n",
    "    col_id = conf['setup.col_id']\n",
    "    col_id_dtype = {\n",
    "        'str': str,\n",
    "        'int': int,\n",
    "    }[conf['setup.col_id_dtype']]\n",
    "    col_target = conf['setup.col_target']\n",
    "    y_cast = int\n",
    "    \n",
    "    df = pd.read_csv(conf['setup.target_file_path'])\n",
    "    df[col_id] = df[col_id].astype(col_id_dtype)\n",
    "    df[col_target] = df[col_target].astype(y_cast)\n",
    "    _targets = df.set_index(col_id)[col_target].to_dict()\n",
    "    \n",
    "    category_names = seq_encoder.category_names\n",
    "    category_names.add('event_time')\n",
    "\n",
    "    dataset = ParquetDataset(\n",
    "        files,\n",
    "        post_processing=IterableChain(\n",
    "            FeatureTypeCast({col_id: col_id_dtype}),\n",
    "            IdFilter(id_col=col_id, relevant_ids=list(_targets.keys())),\n",
    "            TargetJoin(col_id, _targets, y_cast),\n",
    "            TargetToDict(col_id),\n",
    "            *apply_attacks,\n",
    "            FeatureFilter(keep_feature_names=category_names),\n",
    "            CategorySizeClip(seq_encoder.category_max_size),\n",
    "            IterableAugmentations(build_augmentations(conf['test.augmentations'])),\n",
    "        ),\n",
    "        shuffle_files=False,\n",
    "    )\n",
    "\n",
    "    return dataset"
   ]
  },
  {
   "cell_type": "code",
   "execution_count": 21,
   "id": "civilian-moment",
   "metadata": {},
   "outputs": [],
   "source": [
    "class PretrainedAttack(IterableProcessingDataset):\n",
    "    def __init__(self, col_id, attacks):\n",
    "        super().__init__()\n",
    "        \n",
    "        self.col_id = col_id\n",
    "        self.attacks = attacks\n",
    "            \n",
    "    def process(self, x):\n",
    "        _id = x[self.col_id]\n",
    "        a = self.attacks[_id]\n",
    "        for k, v in a.items():\n",
    "            x[k] = torch.cat([x[k], torch.tensor(v)])\n",
    "        return x"
   ]
  },
  {
   "cell_type": "markdown",
   "id": "center-privilege",
   "metadata": {},
   "source": [
    "# Run"
   ]
  },
  {
   "cell_type": "code",
   "execution_count": 22,
   "id": "legendary-orientation",
   "metadata": {},
   "outputs": [
    {
     "name": "stderr",
     "output_type": "stream",
     "text": [
      "Global seed set to 42\n"
     ]
    }
   ],
   "source": [
    "if 'seed_everything' in conf:\n",
    "    pl.seed_everything(conf['seed_everything'])"
   ]
  },
  {
   "cell_type": "code",
   "execution_count": 23,
   "id": "faced-yacht",
   "metadata": {},
   "outputs": [],
   "source": [
    "torch.multiprocessing.set_sharing_strategy('file_system')"
   ]
  },
  {
   "cell_type": "code",
   "execution_count": 24,
   "id": "according-entrepreneur",
   "metadata": {},
   "outputs": [],
   "source": [
    "data_splitter = DataSplitter(conf['data_module'])"
   ]
  },
  {
   "cell_type": "code",
   "execution_count": 25,
   "id": "fundamental-douglas",
   "metadata": {},
   "outputs": [],
   "source": [
    "def get_mcc_freq(substitute_dm):\n",
    "    df_mcc_freq = [[], [], []]\n",
    "\n",
    "    for rec in chain(\n",
    "        substitute_dm.train_dataloader().dataset,\n",
    "        substitute_dm.val_dataloader().dataset,\n",
    "    ):\n",
    "        for i, k in enumerate(['mcc_code', 'tr_type', 'amount']):\n",
    "            df_mcc_freq[i].append(rec[0][k].numpy())\n",
    "\n",
    "    df_mcc_freq = pd.DataFrame({\n",
    "        'mcc_code': np.concatenate(df_mcc_freq[0]),\n",
    "        'tr_type': np.concatenate(df_mcc_freq[1]), \n",
    "        'amount': np.concatenate(df_mcc_freq[2]),\n",
    "    })\n",
    "\n",
    "    df_mcc_freq1 = df_mcc_freq\n",
    "    df_mcc_freq = df_mcc_freq.groupby('mcc_code')\n",
    "    df_mcc_freq = pd.concat([\n",
    "        df_mcc_freq.apply(lambda x: x['tr_type'].value_counts(normalize=True).rename('tr_type_freq'))\n",
    "    ], axis=1)\n",
    "\n",
    "    df_mcc_freq = pd.concat([\n",
    "        df_mcc_freq,\n",
    "        df_mcc_freq1.groupby(['mcc_code', 'tr_type']).apply(lambda x: x['amount'].quantile([0.25, 0.75])) \n",
    "        .rename(columns={0.25: 'a_min', 0.75: 'a_max'}),\n",
    "    ], axis=1)\n",
    "    return df_mcc_freq"
   ]
  },
  {
   "cell_type": "code",
   "execution_count": 26,
   "id": "billion-school",
   "metadata": {},
   "outputs": [],
   "source": [
    "def train_substitute_model(fold_id, fold, l_conf):\n",
    "    _substitute_trainer_params = l_conf['trainer']\n",
    "    if 'logger_name' in l_conf:\n",
    "        _substitute_trainer_params['logger'] = pl.loggers.TensorBoardLogger(\n",
    "            save_dir='lightning_logs',\n",
    "            name=f'[{fold_id}]: ' + l_conf.get('logger_name'),\n",
    "        )\n",
    "    _substitute_trainer_params['callbacks'] = [\n",
    "        pl.callbacks.EarlyStopping(monitor='val_auroc', mode='max', min_delta=0.0005, patience=2)\n",
    "    ]\n",
    "    substitute_trainer = pl.Trainer(**_substitute_trainer_params)\n",
    "\n",
    "    substitute_model = SequenceToTarget(l_conf['params'])\n",
    "    substitute_dm = AdversarialTrainDataModule(conf['data_module'], substitute_model,\n",
    "                                               fold['substitute_train'], fold['substitute_valid'])\n",
    "    substitute_dm.prepare_data()\n",
    "    mcc_freq = get_mcc_freq(substitute_dm)\n",
    "\n",
    "    \n",
    "    substitute_trainer.fit(substitute_model, substitute_dm)\n",
    "    substitute_valid_metrics = {\n",
    "        name: float(mf.compute().item()) for name, mf in substitute_model.valid_metrics.items()}\n",
    "    logger.info(f'[{fold_id}]: ' + ', '.join([f'valid_{name}: {v:.4f}'\n",
    "                                              for name, v in substitute_valid_metrics.items()]))\n",
    "    \n",
    "    \n",
    "    return substitute_model, mcc_freq"
   ]
  },
  {
   "cell_type": "code",
   "execution_count": 27,
   "id": "animated-advantage",
   "metadata": {},
   "outputs": [],
   "source": [
    "def estimate_data(embedding_model, cls_model, files, pretrained_attacks):\n",
    "    # orig\n",
    "    dataloader = DataLoader(\n",
    "        dataset=get_dataset(conf['data_module'], embedding_model, files),\n",
    "        collate_fn=padded_collate,\n",
    "        shuffle=False,\n",
    "        num_workers=conf['data_module.test.num_workers'],\n",
    "        batch_size=conf['data_module.test.batch_size'],\n",
    "        drop_last=False,\n",
    "    )\n",
    "    X, y = score_model2(embedding_model, dataloader, {'device': 'cuda'})\n",
    "    y = np.array([e['y'] for e in y])\n",
    "    orig_scores = cls_model.predict_proba(X)[:, 1]\n",
    "    yield 'auroc_orig', roc_auc_score(y, orig_scores)\n",
    "    yield 'recall_orig', recall_score(y, orig_scores > 0.5)\n",
    "    yield 'precision_orig', precision_score(y, orig_scores > 0.5)\n",
    "\n",
    "    p_a = [PretrainedAttack(conf['data_module.setup.col_id'], pretrained_attacks)]\n",
    "    dataloader = DataLoader(\n",
    "        dataset=get_dataset(conf['data_module'], embedding_model, files, p_a),\n",
    "        collate_fn=padded_collate,\n",
    "        shuffle=False,\n",
    "        num_workers=conf['data_module.test.num_workers'],\n",
    "        batch_size=conf['data_module.test.batch_size'],\n",
    "        drop_last=False,\n",
    "    )\n",
    "    X, y = score_model2(embedding_model, dataloader, {'device': 'cuda'})\n",
    "    y = np.array([e['y'] for e in y])\n",
    "    att_scores = cls_model.predict_proba(X)[:, 1]\n",
    "    yield 'auroc_adv',  roc_auc_score(y, att_scores)\n",
    "    yield 'recall_adv', recall_score(y, att_scores > 0.5)\n",
    "    yield 'precision_adv', precision_score(y, att_scores > 0.5)\n",
    "\n",
    "    yield 'p_drop', (orig_scores - att_scores).mean()"
   ]
  },
  {
   "cell_type": "code",
   "execution_count": 28,
   "id": "mighty-portugal",
   "metadata": {},
   "outputs": [],
   "source": [
    "def train_target_model_agg_feature(fold_id, fold, pretrained_attacks):        \n",
    "    target_model = create_encoder(conf['agg_target.params'], is_reduce_sequence=True)\n",
    "    train_dataloader = DataLoader(\n",
    "        dataset=get_dataset(conf['data_module'], target_model, fold['target']),\n",
    "        collate_fn=padded_collate,\n",
    "        shuffle=False,\n",
    "        num_workers=conf['data_module.test.num_workers'],\n",
    "        batch_size=conf['data_module.test.batch_size'],\n",
    "        drop_last=False,\n",
    "    )\n",
    "    train_X, train_y = score_model2(target_model, train_dataloader, {'device': 'cuda'})\n",
    "    train_y = np.array([e['y'] for e in train_y])\n",
    "    lgb_cls = lightgbm.LGBMClassifier(**conf['lgbm_params'])\n",
    "    lgb_cls.fit(train_X, train_y)\n",
    "    \n",
    "    for fields in estimate_data(target_model, lgb_cls, files=fold['valid'],\n",
    "                                pretrained_attacks=pretrained_attacks):\n",
    "        yield 'agg_features', 'lgb_cls', 'valid', *fields\n",
    "    for fields in estimate_data(target_model, lgb_cls, files=fold['test'],\n",
    "                                pretrained_attacks=pretrained_attacks):\n",
    "        yield 'agg_features', 'lgb_cls', 'test', *fields"
   ]
  },
  {
   "cell_type": "code",
   "execution_count": null,
   "id": "applied-findings",
   "metadata": {},
   "outputs": [],
   "source": []
  },
  {
   "cell_type": "code",
   "execution_count": 29,
   "id": "adaptive-likelihood",
   "metadata": {},
   "outputs": [],
   "source": [
    "from dltranz.lightning_modules.coles_module import CoLESModule\n",
    "from dltranz.data_load.data_module.coles_data_module import coles_collate_fn\n",
    "from dltranz.metric_learn.dataset import split_strategy\n",
    "from dltranz.metric_learn.dataset.splitting_dataset import IterableSplittingDataset, MapSplittingDataset"
   ]
  },
  {
   "cell_type": "code",
   "execution_count": 30,
   "id": "desperate-norman",
   "metadata": {},
   "outputs": [],
   "source": [
    "def train_target_model_coles(fold_id, fold, pretrained_attacks):        \n",
    "    target_module = CoLESModule(conf['coles_target.params'])\n",
    "    train_files, valid_files = fold['target'][:-5], fold['target'][-5:]    \n",
    "    \n",
    "    category_names = target_module.seq_encoder.category_names\n",
    "    category_names.add('event_time')\n",
    "    train_dataset = ParquetDataset(\n",
    "        train_files,\n",
    "        post_processing=IterableChain(\n",
    "            SeqLenFilter(min_seq_len=conf['coles_target.train']['min_seq_len']),\n",
    "            FeatureFilter(keep_feature_names=category_names),\n",
    "            CategorySizeClip(target_module.seq_encoder.category_max_size),\n",
    "        ),\n",
    "        shuffle_files=False,\n",
    "    )\n",
    "    valid_dataset = ParquetDataset(\n",
    "        valid_files,\n",
    "        post_processing=IterableChain(\n",
    "            FeatureFilter(keep_feature_names=category_names),\n",
    "            CategorySizeClip(target_module.seq_encoder.category_max_size),\n",
    "        ),\n",
    "        shuffle_files=False,\n",
    "    )\n",
    "    \n",
    "    train_dataset = list(train_dataset)\n",
    "    valid_dataset = list(valid_dataset)\n",
    "    \n",
    "    train_dataset = MapSplittingDataset(\n",
    "        base_dataset=train_dataset,\n",
    "        splitter=split_strategy.create(**conf['coles_target.train']['split_strategy']),\n",
    "        a_chain=lambda x: x,\n",
    "    )\n",
    "    valid_dataset = MapSplittingDataset(\n",
    "        base_dataset=valid_dataset,\n",
    "        splitter=split_strategy.create(**conf['coles_target.valid']['split_strategy']),\n",
    "        a_chain=lambda x: x,\n",
    "    )\n",
    "    \n",
    "    train_dataloader = DataLoader(\n",
    "        dataset=train_dataset,\n",
    "        collate_fn=coles_collate_fn,\n",
    "        shuffle=True,\n",
    "        num_workers=conf['coles_target.train']['num_workers'],\n",
    "        batch_size=conf['coles_target.train']['batch_size'],\n",
    "    )\n",
    "    val_dataloader = DataLoader(\n",
    "        dataset=valid_dataset,\n",
    "        collate_fn=coles_collate_fn,\n",
    "        num_workers=conf['coles_target.valid']['num_workers'],\n",
    "        batch_size=conf['coles_target.valid']['batch_size'],\n",
    "    )\n",
    "    \n",
    "    if 'logger_name' in conf:\n",
    "        _trainer_params['logger'] = TensorBoardLogger(\n",
    "            save_dir='lightning_logs',\n",
    "            name=conf.get('logger_name'),\n",
    "        )\n",
    "\n",
    "    trainer = pl.Trainer(\n",
    "        gpus=1,\n",
    "        auto_select_gpus=False,\n",
    "        checkpoint_callback=False,\n",
    "        logger=pl.loggers.TensorBoardLogger(\n",
    "            save_dir='lightning_logs',\n",
    "            name=f'[{fold_id}]: coles_model',\n",
    "        ),\n",
    "        **conf['coles_target.trainer']\n",
    "    )\n",
    "    trainer.fit(target_module, train_dataloader=train_dataloader, val_dataloaders=val_dataloader)\n",
    "    \n",
    "    target_model = target_module.seq_encoder\n",
    "    target_model.is_reduce_sequence = True\n",
    "    \n",
    "    # make inference on train for LGB\n",
    "    train_dataloader = DataLoader(\n",
    "        dataset=get_dataset(conf['data_module'], target_model, fold['target']),\n",
    "        collate_fn=padded_collate,\n",
    "        shuffle=False,\n",
    "        num_workers=conf['data_module.test.num_workers'],\n",
    "        batch_size=conf['data_module.test.batch_size'],\n",
    "        drop_last=False,\n",
    "    )\n",
    "    train_X, train_y = score_model2(target_model, train_dataloader, {'device': 'cuda'})\n",
    "    train_y = np.array([e['y'] for e in train_y])\n",
    "    lgb_cls = lightgbm.LGBMClassifier(**conf['lgbm_params'])\n",
    "    lgb_cls.fit(train_X, train_y)\n",
    "    \n",
    "    for fields in estimate_data(target_model, lgb_cls, files=fold['valid'],\n",
    "                                pretrained_attacks=pretrained_attacks):\n",
    "        yield 'coles_embeddings', 'lgb_cls', 'valid', *fields\n",
    "    for fields in estimate_data(target_model, lgb_cls, files=fold['test'],\n",
    "                                pretrained_attacks=pretrained_attacks):\n",
    "        yield 'coles_embeddings', 'lgb_cls', 'test', *fields"
   ]
  },
  {
   "cell_type": "code",
   "execution_count": 31,
   "id": "rubber-behavior",
   "metadata": {},
   "outputs": [],
   "source": [
    "def train_target_model_rnn(fold_id, fold, pretrained_attacks):\n",
    "#     s = ListSplitter(fold['target'], valid_size=0.1, seed=42)\n",
    "#     train_files, valid_files = s.train, s.valid\n",
    "\n",
    "    target_model = SequenceToTarget(conf['target_rnn.params'])\n",
    "    target_dm = AdversarialTrainDataModule(conf['data_module'], target_model, fold['target'], [])\n",
    "    target_dm.prepare_data()\n",
    "    trainer = pl.Trainer(\n",
    "        logger=pl.loggers.TensorBoardLogger(\n",
    "            save_dir='lightning_logs',\n",
    "            name=f'[{fold_id}]: target_rnn',\n",
    "        ),\n",
    "        callbacks=[\n",
    "            pl.callbacks.EarlyStopping(monitor='val_auroc', mode='max', min_delta=0.0005, patience=2)\n",
    "        ],\n",
    "        **conf['target_rnn.trainer']\n",
    "    )\n",
    "    trainer.fit(target_model, target_dm.train_dataloader())\n",
    "    target_model = target_model.seq_encoder\n",
    "        \n",
    "    # make inference on train for LGB\n",
    "    train_dataloader = DataLoader(\n",
    "        dataset=get_dataset(conf['data_module'], target_model, fold['target']),\n",
    "        collate_fn=padded_collate,\n",
    "        shuffle=False,\n",
    "        num_workers=conf['data_module.test.num_workers'],\n",
    "        batch_size=conf['data_module.test.batch_size'],\n",
    "        drop_last=False,\n",
    "    )\n",
    "    train_X, train_y = score_model2(target_model, train_dataloader, {'device': 'cuda'})\n",
    "    train_y = np.array([e['y'] for e in train_y])\n",
    "    lgb_cls = lightgbm.LGBMClassifier(**conf['lgbm_params'])\n",
    "    lgb_cls.fit(train_X, train_y)\n",
    "    \n",
    "    for fields in estimate_data(target_model, lgb_cls, files=fold['valid'],\n",
    "                                pretrained_attacks=pretrained_attacks):\n",
    "        yield 'rnn_model', 'lgb_cls', 'valid', *fields\n",
    "    for fields in estimate_data(target_model, lgb_cls, files=fold['test'],\n",
    "                                pretrained_attacks=pretrained_attacks):\n",
    "        yield 'rnn_model', 'lgb_cls', 'test', *fields"
   ]
  },
  {
   "cell_type": "code",
   "execution_count": null,
   "id": "integral-integration",
   "metadata": {},
   "outputs": [],
   "source": []
  },
  {
   "cell_type": "code",
   "execution_count": 32,
   "id": "faced-demographic",
   "metadata": {
    "scrolled": false
   },
   "outputs": [
    {
     "name": "stderr",
     "output_type": "stream",
     "text": [
      "GPU available: True, used: True\n",
      "TPU available: False, using: 0 TPU cores\n"
     ]
    },
    {
     "data": {
      "application/vnd.jupyter.widget-view+json": {
       "model_id": "ddc357cc6c5f496a863a3fc7549c000c",
       "version_major": 2,
       "version_minor": 0
      },
      "text/plain": [
       "0it [00:00, ?it/s]"
      ]
     },
     "metadata": {},
     "output_type": "display_data"
    },
    {
     "name": "stderr",
     "output_type": "stream",
     "text": [
      "2021-06-22 16:18:51,061 INFO    setup_map              : Loaded 2517 for train model\n"
     ]
    },
    {
     "data": {
      "application/vnd.jupyter.widget-view+json": {
       "model_id": "0a094da040964ea4a2203378fb34f674",
       "version_major": 2,
       "version_minor": 0
      },
      "text/plain": [
       "0it [00:00, ?it/s]"
      ]
     },
     "metadata": {},
     "output_type": "display_data"
    },
    {
     "name": "stderr",
     "output_type": "stream",
     "text": [
      "2021-06-22 16:18:51,117 INFO    setup_map              : Loaded 398 for valid model\n",
      "LOCAL_RANK: 0 - CUDA_VISIBLE_DEVICES: [3]\n",
      "2021-06-22 16:18:56,222 INFO    get_lr_scheduler       : StepLR lr_scheduler used\n",
      "\n",
      "  | Name          | Type          | Params\n",
      "------------------------------------------------\n",
      "0 | loss          | BCELoss       | 0     \n",
      "1 | _seq_encoder  | RnnSeqEncoder | 29.8 K\n",
      "2 | _head         | Sequential    | 145   \n",
      "3 | train_metrics | ModuleDict    | 0     \n",
      "4 | valid_metrics | ModuleDict    | 0     \n",
      "5 | test_metrics  | ModuleDict    | 0     \n",
      "------------------------------------------------\n",
      "29.9 K    Trainable params\n",
      "0         Non-trainable params\n",
      "29.9 K    Total params\n",
      "0.120     Total estimated model params size (MB)\n"
     ]
    },
    {
     "data": {
      "application/vnd.jupyter.widget-view+json": {
       "model_id": "",
       "version_major": 2,
       "version_minor": 0
      },
      "text/plain": [
       "Validation sanity check: 0it [00:00, ?it/s]"
      ]
     },
     "metadata": {},
     "output_type": "display_data"
    },
    {
     "name": "stderr",
     "output_type": "stream",
     "text": [
      "Global seed set to 42\n"
     ]
    },
    {
     "data": {
      "application/vnd.jupyter.widget-view+json": {
       "model_id": "9f21ec65af5540698f631e8eb92fc8cd",
       "version_major": 2,
       "version_minor": 0
      },
      "text/plain": [
       "Training: 0it [00:00, ?it/s]"
      ]
     },
     "metadata": {},
     "output_type": "display_data"
    },
    {
     "data": {
      "application/vnd.jupyter.widget-view+json": {
       "model_id": "",
       "version_major": 2,
       "version_minor": 0
      },
      "text/plain": [
       "Validating: 0it [00:00, ?it/s]"
      ]
     },
     "metadata": {},
     "output_type": "display_data"
    },
    {
     "data": {
      "application/vnd.jupyter.widget-view+json": {
       "model_id": "",
       "version_major": 2,
       "version_minor": 0
      },
      "text/plain": [
       "Validating: 0it [00:00, ?it/s]"
      ]
     },
     "metadata": {},
     "output_type": "display_data"
    },
    {
     "data": {
      "application/vnd.jupyter.widget-view+json": {
       "model_id": "",
       "version_major": 2,
       "version_minor": 0
      },
      "text/plain": [
       "Validating: 0it [00:00, ?it/s]"
      ]
     },
     "metadata": {},
     "output_type": "display_data"
    },
    {
     "data": {
      "application/vnd.jupyter.widget-view+json": {
       "model_id": "",
       "version_major": 2,
       "version_minor": 0
      },
      "text/plain": [
       "Validating: 0it [00:00, ?it/s]"
      ]
     },
     "metadata": {},
     "output_type": "display_data"
    },
    {
     "data": {
      "application/vnd.jupyter.widget-view+json": {
       "model_id": "",
       "version_major": 2,
       "version_minor": 0
      },
      "text/plain": [
       "Validating: 0it [00:00, ?it/s]"
      ]
     },
     "metadata": {},
     "output_type": "display_data"
    },
    {
     "data": {
      "application/vnd.jupyter.widget-view+json": {
       "model_id": "",
       "version_major": 2,
       "version_minor": 0
      },
      "text/plain": [
       "Validating: 0it [00:00, ?it/s]"
      ]
     },
     "metadata": {},
     "output_type": "display_data"
    },
    {
     "data": {
      "application/vnd.jupyter.widget-view+json": {
       "model_id": "",
       "version_major": 2,
       "version_minor": 0
      },
      "text/plain": [
       "Validating: 0it [00:00, ?it/s]"
      ]
     },
     "metadata": {},
     "output_type": "display_data"
    },
    {
     "data": {
      "application/vnd.jupyter.widget-view+json": {
       "model_id": "",
       "version_major": 2,
       "version_minor": 0
      },
      "text/plain": [
       "Validating: 0it [00:00, ?it/s]"
      ]
     },
     "metadata": {},
     "output_type": "display_data"
    },
    {
     "data": {
      "application/vnd.jupyter.widget-view+json": {
       "model_id": "",
       "version_major": 2,
       "version_minor": 0
      },
      "text/plain": [
       "Validating: 0it [00:00, ?it/s]"
      ]
     },
     "metadata": {},
     "output_type": "display_data"
    },
    {
     "data": {
      "application/vnd.jupyter.widget-view+json": {
       "model_id": "",
       "version_major": 2,
       "version_minor": 0
      },
      "text/plain": [
       "Validating: 0it [00:00, ?it/s]"
      ]
     },
     "metadata": {},
     "output_type": "display_data"
    },
    {
     "data": {
      "application/vnd.jupyter.widget-view+json": {
       "model_id": "",
       "version_major": 2,
       "version_minor": 0
      },
      "text/plain": [
       "Validating: 0it [00:00, ?it/s]"
      ]
     },
     "metadata": {},
     "output_type": "display_data"
    },
    {
     "data": {
      "application/vnd.jupyter.widget-view+json": {
       "model_id": "",
       "version_major": 2,
       "version_minor": 0
      },
      "text/plain": [
       "Validating: 0it [00:00, ?it/s]"
      ]
     },
     "metadata": {},
     "output_type": "display_data"
    },
    {
     "data": {
      "application/vnd.jupyter.widget-view+json": {
       "model_id": "",
       "version_major": 2,
       "version_minor": 0
      },
      "text/plain": [
       "Validating: 0it [00:00, ?it/s]"
      ]
     },
     "metadata": {},
     "output_type": "display_data"
    },
    {
     "data": {
      "application/vnd.jupyter.widget-view+json": {
       "model_id": "",
       "version_major": 2,
       "version_minor": 0
      },
      "text/plain": [
       "Validating: 0it [00:00, ?it/s]"
      ]
     },
     "metadata": {},
     "output_type": "display_data"
    },
    {
     "data": {
      "application/vnd.jupyter.widget-view+json": {
       "model_id": "",
       "version_major": 2,
       "version_minor": 0
      },
      "text/plain": [
       "Validating: 0it [00:00, ?it/s]"
      ]
     },
     "metadata": {},
     "output_type": "display_data"
    },
    {
     "data": {
      "application/vnd.jupyter.widget-view+json": {
       "model_id": "",
       "version_major": 2,
       "version_minor": 0
      },
      "text/plain": [
       "Validating: 0it [00:00, ?it/s]"
      ]
     },
     "metadata": {},
     "output_type": "display_data"
    },
    {
     "data": {
      "application/vnd.jupyter.widget-view+json": {
       "model_id": "",
       "version_major": 2,
       "version_minor": 0
      },
      "text/plain": [
       "Validating: 0it [00:00, ?it/s]"
      ]
     },
     "metadata": {},
     "output_type": "display_data"
    },
    {
     "data": {
      "application/vnd.jupyter.widget-view+json": {
       "model_id": "",
       "version_major": 2,
       "version_minor": 0
      },
      "text/plain": [
       "Validating: 0it [00:00, ?it/s]"
      ]
     },
     "metadata": {},
     "output_type": "display_data"
    },
    {
     "data": {
      "application/vnd.jupyter.widget-view+json": {
       "model_id": "",
       "version_major": 2,
       "version_minor": 0
      },
      "text/plain": [
       "Validating: 0it [00:00, ?it/s]"
      ]
     },
     "metadata": {},
     "output_type": "display_data"
    },
    {
     "data": {
      "application/vnd.jupyter.widget-view+json": {
       "model_id": "",
       "version_major": 2,
       "version_minor": 0
      },
      "text/plain": [
       "Validating: 0it [00:00, ?it/s]"
      ]
     },
     "metadata": {},
     "output_type": "display_data"
    },
    {
     "data": {
      "application/vnd.jupyter.widget-view+json": {
       "model_id": "",
       "version_major": 2,
       "version_minor": 0
      },
      "text/plain": [
       "Validating: 0it [00:00, ?it/s]"
      ]
     },
     "metadata": {},
     "output_type": "display_data"
    },
    {
     "data": {
      "application/vnd.jupyter.widget-view+json": {
       "model_id": "",
       "version_major": 2,
       "version_minor": 0
      },
      "text/plain": [
       "Validating: 0it [00:00, ?it/s]"
      ]
     },
     "metadata": {},
     "output_type": "display_data"
    },
    {
     "data": {
      "application/vnd.jupyter.widget-view+json": {
       "model_id": "",
       "version_major": 2,
       "version_minor": 0
      },
      "text/plain": [
       "Validating: 0it [00:00, ?it/s]"
      ]
     },
     "metadata": {},
     "output_type": "display_data"
    },
    {
     "data": {
      "application/vnd.jupyter.widget-view+json": {
       "model_id": "",
       "version_major": 2,
       "version_minor": 0
      },
      "text/plain": [
       "Validating: 0it [00:00, ?it/s]"
      ]
     },
     "metadata": {},
     "output_type": "display_data"
    },
    {
     "data": {
      "application/vnd.jupyter.widget-view+json": {
       "model_id": "",
       "version_major": 2,
       "version_minor": 0
      },
      "text/plain": [
       "Validating: 0it [00:00, ?it/s]"
      ]
     },
     "metadata": {},
     "output_type": "display_data"
    },
    {
     "data": {
      "application/vnd.jupyter.widget-view+json": {
       "model_id": "",
       "version_major": 2,
       "version_minor": 0
      },
      "text/plain": [
       "Validating: 0it [00:00, ?it/s]"
      ]
     },
     "metadata": {},
     "output_type": "display_data"
    },
    {
     "data": {
      "application/vnd.jupyter.widget-view+json": {
       "model_id": "",
       "version_major": 2,
       "version_minor": 0
      },
      "text/plain": [
       "Validating: 0it [00:00, ?it/s]"
      ]
     },
     "metadata": {},
     "output_type": "display_data"
    },
    {
     "data": {
      "application/vnd.jupyter.widget-view+json": {
       "model_id": "",
       "version_major": 2,
       "version_minor": 0
      },
      "text/plain": [
       "Validating: 0it [00:00, ?it/s]"
      ]
     },
     "metadata": {},
     "output_type": "display_data"
    },
    {
     "data": {
      "application/vnd.jupyter.widget-view+json": {
       "model_id": "",
       "version_major": 2,
       "version_minor": 0
      },
      "text/plain": [
       "Validating: 0it [00:00, ?it/s]"
      ]
     },
     "metadata": {},
     "output_type": "display_data"
    },
    {
     "data": {
      "application/vnd.jupyter.widget-view+json": {
       "model_id": "",
       "version_major": 2,
       "version_minor": 0
      },
      "text/plain": [
       "Validating: 0it [00:00, ?it/s]"
      ]
     },
     "metadata": {},
     "output_type": "display_data"
    },
    {
     "data": {
      "application/vnd.jupyter.widget-view+json": {
       "model_id": "",
       "version_major": 2,
       "version_minor": 0
      },
      "text/plain": [
       "Validating: 0it [00:00, ?it/s]"
      ]
     },
     "metadata": {},
     "output_type": "display_data"
    },
    {
     "data": {
      "application/vnd.jupyter.widget-view+json": {
       "model_id": "",
       "version_major": 2,
       "version_minor": 0
      },
      "text/plain": [
       "Validating: 0it [00:00, ?it/s]"
      ]
     },
     "metadata": {},
     "output_type": "display_data"
    },
    {
     "name": "stderr",
     "output_type": "stream",
     "text": [
      "2021-06-22 16:20:32,999 INFO    train_substitute_model   : [0]: valid_auroc: 0.8101, valid_accuracy: 0.7494\n",
      "2021-06-22 16:20:33,098 INFO    <module>               : Calculate attacks\n",
      "                         \r"
     ]
    },
    {
     "data": {
      "application/vnd.jupyter.widget-view+json": {
       "model_id": "0623f30a2ef04f358936fc2ef31cf7d7",
       "version_major": 2,
       "version_minor": 0
      },
      "text/plain": [
       "0it [00:00, ?it/s]"
      ]
     },
     "metadata": {},
     "output_type": "display_data"
    },
    {
     "name": "stderr",
     "output_type": "stream",
     "text": [
      "2021-06-22 16:25:19,644 INFO    setup_map              : Loaded 3251 for train model\n"
     ]
    },
    {
     "data": {
      "application/vnd.jupyter.widget-view+json": {
       "model_id": "e9575d5e2bbb42daa36904dfb0d2479d",
       "version_major": 2,
       "version_minor": 0
      },
      "text/plain": [
       "0it [00:00, ?it/s]"
      ]
     },
     "metadata": {},
     "output_type": "display_data"
    },
    {
     "name": "stderr",
     "output_type": "stream",
     "text": [
      "2021-06-22 16:25:19,665 INFO    setup_map              : Loaded 0 for valid model\n",
      "GPU available: True, used: True\n",
      "TPU available: False, using: 0 TPU cores\n",
      "/mnt2/kireev/pipenv_envs/pytorch-lifestream-bcSZKFyz/lib/python3.8/site-packages/pytorch_lightning/utilities/distributed.py:69: UserWarning: you defined a validation_step but have no val_dataloader. Skipping val loop\n",
      "  warnings.warn(*args, **kwargs)\n",
      "LOCAL_RANK: 0 - CUDA_VISIBLE_DEVICES: [3]\n",
      "2021-06-22 16:25:19,676 INFO    get_lr_scheduler       : StepLR lr_scheduler used\n",
      "\n",
      "  | Name          | Type          | Params\n",
      "------------------------------------------------\n",
      "0 | loss          | BCELoss       | 0     \n",
      "1 | _seq_encoder  | RnnSeqEncoder | 29.8 K\n",
      "2 | _head         | Sequential    | 145   \n",
      "3 | train_metrics | ModuleDict    | 0     \n",
      "4 | valid_metrics | ModuleDict    | 0     \n",
      "5 | test_metrics  | ModuleDict    | 0     \n",
      "------------------------------------------------\n",
      "29.9 K    Trainable params\n",
      "0         Non-trainable params\n",
      "29.9 K    Total params\n",
      "0.120     Total estimated model params size (MB)\n"
     ]
    },
    {
     "data": {
      "application/vnd.jupyter.widget-view+json": {
       "model_id": "",
       "version_major": 2,
       "version_minor": 0
      },
      "text/plain": [
       "Validation sanity check: 0it [00:00, ?it/s]"
      ]
     },
     "metadata": {},
     "output_type": "display_data"
    },
    {
     "name": "stderr",
     "output_type": "stream",
     "text": [
      "Global seed set to 42\n"
     ]
    },
    {
     "data": {
      "application/vnd.jupyter.widget-view+json": {
       "model_id": "a15959d04ca84ce9a561c48754e0b1ba",
       "version_major": 2,
       "version_minor": 0
      },
      "text/plain": [
       "Training: 0it [00:00, ?it/s]"
      ]
     },
     "metadata": {},
     "output_type": "display_data"
    },
    {
     "name": "stderr",
     "output_type": "stream",
     "text": [
      "0it [00:00, ?it/s]    "
     ]
    },
    {
     "name": "stdout",
     "output_type": "stream",
     "text": [
      "[0]: ('rnn_model', 'lgb_cls', 'valid', 'auroc_orig', 0.8412320600023283)\n",
      "[0]: ('rnn_model', 'lgb_cls', 'valid', 'recall_orig', 0.6926751592356688)\n",
      "[0]: ('rnn_model', 'lgb_cls', 'valid', 'precision_orig', 0.7591623036649214)\n"
     ]
    },
    {
     "name": "stderr",
     "output_type": "stream",
     "text": [
      "0it [00:00, ?it/s]    "
     ]
    },
    {
     "name": "stdout",
     "output_type": "stream",
     "text": [
      "[0]: ('rnn_model', 'lgb_cls', 'valid', 'auroc_adv', 0.8335134955347491)\n",
      "[0]: ('rnn_model', 'lgb_cls', 'valid', 'recall_adv', 0.5366242038216561)\n",
      "[0]: ('rnn_model', 'lgb_cls', 'valid', 'precision_adv', 0.828009828009828)\n",
      "[0]: ('rnn_model', 'lgb_cls', 'valid', 'p_drop', 0.12711835206333022)\n"
     ]
    },
    {
     "name": "stderr",
     "output_type": "stream",
     "text": [
      "0it [00:00, ?it/s]    "
     ]
    },
    {
     "name": "stdout",
     "output_type": "stream",
     "text": [
      "[0]: ('rnn_model', 'lgb_cls', 'test', 'auroc_orig', 0.8514374815050875)\n",
      "[0]: ('rnn_model', 'lgb_cls', 'test', 'recall_orig', 0.7157360406091371)\n",
      "[0]: ('rnn_model', 'lgb_cls', 'test', 'precision_orig', 0.7560321715817694)\n"
     ]
    },
    {
     "name": "stderr",
     "output_type": "stream",
     "text": [
      "GPU available: True, used: True\n",
      "TPU available: False, using: 0 TPU cores\n"
     ]
    },
    {
     "name": "stdout",
     "output_type": "stream",
     "text": [
      "[0]: ('rnn_model', 'lgb_cls', 'test', 'auroc_adv', 0.8422469326899001)\n",
      "[0]: ('rnn_model', 'lgb_cls', 'test', 'recall_adv', 0.5456852791878173)\n",
      "[0]: ('rnn_model', 'lgb_cls', 'test', 'precision_adv', 0.8464566929133859)\n",
      "[0]: ('rnn_model', 'lgb_cls', 'test', 'p_drop', 0.1272383166520305)\n"
     ]
    },
    {
     "data": {
      "application/vnd.jupyter.widget-view+json": {
       "model_id": "d8da0e3b78034ece834e9535532de942",
       "version_major": 2,
       "version_minor": 0
      },
      "text/plain": [
       "0it [00:00, ?it/s]"
      ]
     },
     "metadata": {},
     "output_type": "display_data"
    },
    {
     "name": "stderr",
     "output_type": "stream",
     "text": [
      "2021-06-22 16:27:08,353 INFO    setup_map              : Loaded 2500 for train model\n"
     ]
    },
    {
     "data": {
      "application/vnd.jupyter.widget-view+json": {
       "model_id": "2d94124116ae4fffbcd17a6735fcd6bb",
       "version_major": 2,
       "version_minor": 0
      },
      "text/plain": [
       "0it [00:00, ?it/s]"
      ]
     },
     "metadata": {},
     "output_type": "display_data"
    },
    {
     "name": "stderr",
     "output_type": "stream",
     "text": [
      "2021-06-22 16:27:08,414 INFO    setup_map              : Loaded 374 for valid model\n",
      "LOCAL_RANK: 0 - CUDA_VISIBLE_DEVICES: [3]\n",
      "2021-06-22 16:27:10,091 INFO    get_lr_scheduler       : StepLR lr_scheduler used\n",
      "\n",
      "  | Name          | Type          | Params\n",
      "------------------------------------------------\n",
      "0 | loss          | BCELoss       | 0     \n",
      "1 | _seq_encoder  | RnnSeqEncoder | 29.8 K\n",
      "2 | _head         | Sequential    | 145   \n",
      "3 | train_metrics | ModuleDict    | 0     \n",
      "4 | valid_metrics | ModuleDict    | 0     \n",
      "5 | test_metrics  | ModuleDict    | 0     \n",
      "------------------------------------------------\n",
      "29.9 K    Trainable params\n",
      "0         Non-trainable params\n",
      "29.9 K    Total params\n",
      "0.120     Total estimated model params size (MB)\n"
     ]
    },
    {
     "data": {
      "application/vnd.jupyter.widget-view+json": {
       "model_id": "",
       "version_major": 2,
       "version_minor": 0
      },
      "text/plain": [
       "Validation sanity check: 0it [00:00, ?it/s]"
      ]
     },
     "metadata": {},
     "output_type": "display_data"
    },
    {
     "name": "stderr",
     "output_type": "stream",
     "text": [
      "Global seed set to 42\n"
     ]
    },
    {
     "data": {
      "application/vnd.jupyter.widget-view+json": {
       "model_id": "cd969fa2db234ade9510a3bfa1988f82",
       "version_major": 2,
       "version_minor": 0
      },
      "text/plain": [
       "Training: 0it [00:00, ?it/s]"
      ]
     },
     "metadata": {},
     "output_type": "display_data"
    },
    {
     "data": {
      "application/vnd.jupyter.widget-view+json": {
       "model_id": "",
       "version_major": 2,
       "version_minor": 0
      },
      "text/plain": [
       "Validating: 0it [00:00, ?it/s]"
      ]
     },
     "metadata": {},
     "output_type": "display_data"
    },
    {
     "data": {
      "application/vnd.jupyter.widget-view+json": {
       "model_id": "",
       "version_major": 2,
       "version_minor": 0
      },
      "text/plain": [
       "Validating: 0it [00:00, ?it/s]"
      ]
     },
     "metadata": {},
     "output_type": "display_data"
    },
    {
     "data": {
      "application/vnd.jupyter.widget-view+json": {
       "model_id": "",
       "version_major": 2,
       "version_minor": 0
      },
      "text/plain": [
       "Validating: 0it [00:00, ?it/s]"
      ]
     },
     "metadata": {},
     "output_type": "display_data"
    },
    {
     "data": {
      "application/vnd.jupyter.widget-view+json": {
       "model_id": "",
       "version_major": 2,
       "version_minor": 0
      },
      "text/plain": [
       "Validating: 0it [00:00, ?it/s]"
      ]
     },
     "metadata": {},
     "output_type": "display_data"
    },
    {
     "data": {
      "application/vnd.jupyter.widget-view+json": {
       "model_id": "",
       "version_major": 2,
       "version_minor": 0
      },
      "text/plain": [
       "Validating: 0it [00:00, ?it/s]"
      ]
     },
     "metadata": {},
     "output_type": "display_data"
    },
    {
     "data": {
      "application/vnd.jupyter.widget-view+json": {
       "model_id": "",
       "version_major": 2,
       "version_minor": 0
      },
      "text/plain": [
       "Validating: 0it [00:00, ?it/s]"
      ]
     },
     "metadata": {},
     "output_type": "display_data"
    },
    {
     "data": {
      "application/vnd.jupyter.widget-view+json": {
       "model_id": "",
       "version_major": 2,
       "version_minor": 0
      },
      "text/plain": [
       "Validating: 0it [00:00, ?it/s]"
      ]
     },
     "metadata": {},
     "output_type": "display_data"
    },
    {
     "data": {
      "application/vnd.jupyter.widget-view+json": {
       "model_id": "",
       "version_major": 2,
       "version_minor": 0
      },
      "text/plain": [
       "Validating: 0it [00:00, ?it/s]"
      ]
     },
     "metadata": {},
     "output_type": "display_data"
    },
    {
     "data": {
      "application/vnd.jupyter.widget-view+json": {
       "model_id": "",
       "version_major": 2,
       "version_minor": 0
      },
      "text/plain": [
       "Validating: 0it [00:00, ?it/s]"
      ]
     },
     "metadata": {},
     "output_type": "display_data"
    },
    {
     "data": {
      "application/vnd.jupyter.widget-view+json": {
       "model_id": "",
       "version_major": 2,
       "version_minor": 0
      },
      "text/plain": [
       "Validating: 0it [00:00, ?it/s]"
      ]
     },
     "metadata": {},
     "output_type": "display_data"
    },
    {
     "data": {
      "application/vnd.jupyter.widget-view+json": {
       "model_id": "",
       "version_major": 2,
       "version_minor": 0
      },
      "text/plain": [
       "Validating: 0it [00:00, ?it/s]"
      ]
     },
     "metadata": {},
     "output_type": "display_data"
    },
    {
     "data": {
      "application/vnd.jupyter.widget-view+json": {
       "model_id": "",
       "version_major": 2,
       "version_minor": 0
      },
      "text/plain": [
       "Validating: 0it [00:00, ?it/s]"
      ]
     },
     "metadata": {},
     "output_type": "display_data"
    },
    {
     "data": {
      "application/vnd.jupyter.widget-view+json": {
       "model_id": "",
       "version_major": 2,
       "version_minor": 0
      },
      "text/plain": [
       "Validating: 0it [00:00, ?it/s]"
      ]
     },
     "metadata": {},
     "output_type": "display_data"
    },
    {
     "data": {
      "application/vnd.jupyter.widget-view+json": {
       "model_id": "",
       "version_major": 2,
       "version_minor": 0
      },
      "text/plain": [
       "Validating: 0it [00:00, ?it/s]"
      ]
     },
     "metadata": {},
     "output_type": "display_data"
    },
    {
     "data": {
      "application/vnd.jupyter.widget-view+json": {
       "model_id": "",
       "version_major": 2,
       "version_minor": 0
      },
      "text/plain": [
       "Validating: 0it [00:00, ?it/s]"
      ]
     },
     "metadata": {},
     "output_type": "display_data"
    },
    {
     "data": {
      "application/vnd.jupyter.widget-view+json": {
       "model_id": "",
       "version_major": 2,
       "version_minor": 0
      },
      "text/plain": [
       "Validating: 0it [00:00, ?it/s]"
      ]
     },
     "metadata": {},
     "output_type": "display_data"
    },
    {
     "data": {
      "application/vnd.jupyter.widget-view+json": {
       "model_id": "",
       "version_major": 2,
       "version_minor": 0
      },
      "text/plain": [
       "Validating: 0it [00:00, ?it/s]"
      ]
     },
     "metadata": {},
     "output_type": "display_data"
    },
    {
     "data": {
      "application/vnd.jupyter.widget-view+json": {
       "model_id": "",
       "version_major": 2,
       "version_minor": 0
      },
      "text/plain": [
       "Validating: 0it [00:00, ?it/s]"
      ]
     },
     "metadata": {},
     "output_type": "display_data"
    },
    {
     "data": {
      "application/vnd.jupyter.widget-view+json": {
       "model_id": "",
       "version_major": 2,
       "version_minor": 0
      },
      "text/plain": [
       "Validating: 0it [00:00, ?it/s]"
      ]
     },
     "metadata": {},
     "output_type": "display_data"
    },
    {
     "data": {
      "application/vnd.jupyter.widget-view+json": {
       "model_id": "",
       "version_major": 2,
       "version_minor": 0
      },
      "text/plain": [
       "Validating: 0it [00:00, ?it/s]"
      ]
     },
     "metadata": {},
     "output_type": "display_data"
    },
    {
     "data": {
      "application/vnd.jupyter.widget-view+json": {
       "model_id": "",
       "version_major": 2,
       "version_minor": 0
      },
      "text/plain": [
       "Validating: 0it [00:00, ?it/s]"
      ]
     },
     "metadata": {},
     "output_type": "display_data"
    },
    {
     "data": {
      "application/vnd.jupyter.widget-view+json": {
       "model_id": "",
       "version_major": 2,
       "version_minor": 0
      },
      "text/plain": [
       "Validating: 0it [00:00, ?it/s]"
      ]
     },
     "metadata": {},
     "output_type": "display_data"
    },
    {
     "data": {
      "application/vnd.jupyter.widget-view+json": {
       "model_id": "",
       "version_major": 2,
       "version_minor": 0
      },
      "text/plain": [
       "Validating: 0it [00:00, ?it/s]"
      ]
     },
     "metadata": {},
     "output_type": "display_data"
    },
    {
     "data": {
      "application/vnd.jupyter.widget-view+json": {
       "model_id": "",
       "version_major": 2,
       "version_minor": 0
      },
      "text/plain": [
       "Validating: 0it [00:00, ?it/s]"
      ]
     },
     "metadata": {},
     "output_type": "display_data"
    },
    {
     "data": {
      "application/vnd.jupyter.widget-view+json": {
       "model_id": "",
       "version_major": 2,
       "version_minor": 0
      },
      "text/plain": [
       "Validating: 0it [00:00, ?it/s]"
      ]
     },
     "metadata": {},
     "output_type": "display_data"
    },
    {
     "data": {
      "application/vnd.jupyter.widget-view+json": {
       "model_id": "",
       "version_major": 2,
       "version_minor": 0
      },
      "text/plain": [
       "Validating: 0it [00:00, ?it/s]"
      ]
     },
     "metadata": {},
     "output_type": "display_data"
    },
    {
     "data": {
      "application/vnd.jupyter.widget-view+json": {
       "model_id": "",
       "version_major": 2,
       "version_minor": 0
      },
      "text/plain": [
       "Validating: 0it [00:00, ?it/s]"
      ]
     },
     "metadata": {},
     "output_type": "display_data"
    },
    {
     "data": {
      "application/vnd.jupyter.widget-view+json": {
       "model_id": "",
       "version_major": 2,
       "version_minor": 0
      },
      "text/plain": [
       "Validating: 0it [00:00, ?it/s]"
      ]
     },
     "metadata": {},
     "output_type": "display_data"
    },
    {
     "data": {
      "application/vnd.jupyter.widget-view+json": {
       "model_id": "",
       "version_major": 2,
       "version_minor": 0
      },
      "text/plain": [
       "Validating: 0it [00:00, ?it/s]"
      ]
     },
     "metadata": {},
     "output_type": "display_data"
    },
    {
     "name": "stderr",
     "output_type": "stream",
     "text": [
      "2021-06-22 16:29:33,736 INFO    train_substitute_model   : [1]: valid_auroc: 0.7829, valid_accuracy: 0.7038\n",
      "2021-06-22 16:29:33,833 INFO    <module>               : Calculate attacks\n",
      "                         \r"
     ]
    },
    {
     "data": {
      "application/vnd.jupyter.widget-view+json": {
       "model_id": "c4c3627b874748be8438b6c8d4865a32",
       "version_major": 2,
       "version_minor": 0
      },
      "text/plain": [
       "0it [00:00, ?it/s]"
      ]
     },
     "metadata": {},
     "output_type": "display_data"
    },
    {
     "name": "stderr",
     "output_type": "stream",
     "text": [
      "2021-06-22 16:35:08,725 INFO    setup_map              : Loaded 3028 for train model\n"
     ]
    },
    {
     "data": {
      "application/vnd.jupyter.widget-view+json": {
       "model_id": "56e284679f82495fa118845bda891f26",
       "version_major": 2,
       "version_minor": 0
      },
      "text/plain": [
       "0it [00:00, ?it/s]"
      ]
     },
     "metadata": {},
     "output_type": "display_data"
    },
    {
     "name": "stderr",
     "output_type": "stream",
     "text": [
      "2021-06-22 16:35:08,745 INFO    setup_map              : Loaded 0 for valid model\n",
      "GPU available: True, used: True\n",
      "TPU available: False, using: 0 TPU cores\n",
      "/mnt2/kireev/pipenv_envs/pytorch-lifestream-bcSZKFyz/lib/python3.8/site-packages/pytorch_lightning/utilities/distributed.py:69: UserWarning: you defined a validation_step but have no val_dataloader. Skipping val loop\n",
      "  warnings.warn(*args, **kwargs)\n",
      "LOCAL_RANK: 0 - CUDA_VISIBLE_DEVICES: [3]\n",
      "2021-06-22 16:35:08,755 INFO    get_lr_scheduler       : StepLR lr_scheduler used\n",
      "\n",
      "  | Name          | Type          | Params\n",
      "------------------------------------------------\n",
      "0 | loss          | BCELoss       | 0     \n",
      "1 | _seq_encoder  | RnnSeqEncoder | 29.8 K\n",
      "2 | _head         | Sequential    | 145   \n",
      "3 | train_metrics | ModuleDict    | 0     \n",
      "4 | valid_metrics | ModuleDict    | 0     \n",
      "5 | test_metrics  | ModuleDict    | 0     \n",
      "------------------------------------------------\n",
      "29.9 K    Trainable params\n",
      "0         Non-trainable params\n",
      "29.9 K    Total params\n",
      "0.120     Total estimated model params size (MB)\n"
     ]
    },
    {
     "data": {
      "application/vnd.jupyter.widget-view+json": {
       "model_id": "",
       "version_major": 2,
       "version_minor": 0
      },
      "text/plain": [
       "Validation sanity check: 0it [00:00, ?it/s]"
      ]
     },
     "metadata": {},
     "output_type": "display_data"
    },
    {
     "name": "stderr",
     "output_type": "stream",
     "text": [
      "Global seed set to 42\n"
     ]
    },
    {
     "data": {
      "application/vnd.jupyter.widget-view+json": {
       "model_id": "833120e0439f47b696e0965cdeb349a5",
       "version_major": 2,
       "version_minor": 0
      },
      "text/plain": [
       "Training: 0it [00:00, ?it/s]"
      ]
     },
     "metadata": {},
     "output_type": "display_data"
    },
    {
     "name": "stderr",
     "output_type": "stream",
     "text": [
      "0it [00:00, ?it/s]    "
     ]
    },
    {
     "name": "stdout",
     "output_type": "stream",
     "text": [
      "[1]: ('rnn_model', 'lgb_cls', 'valid', 'auroc_orig', 0.8316644033334077)\n",
      "[1]: ('rnn_model', 'lgb_cls', 'valid', 'recall_orig', 0.7082748948106592)\n",
      "[1]: ('rnn_model', 'lgb_cls', 'valid', 'precision_orig', 0.7224606580829757)\n"
     ]
    },
    {
     "name": "stderr",
     "output_type": "stream",
     "text": [
      "0it [00:00, ?it/s]    "
     ]
    },
    {
     "name": "stdout",
     "output_type": "stream",
     "text": [
      "[1]: ('rnn_model', 'lgb_cls', 'valid', 'auroc_adv', 0.8276660952677782)\n",
      "[1]: ('rnn_model', 'lgb_cls', 'valid', 'recall_adv', 0.6479663394109397)\n",
      "[1]: ('rnn_model', 'lgb_cls', 'valid', 'precision_adv', 0.7561374795417348)\n",
      "[1]: ('rnn_model', 'lgb_cls', 'valid', 'p_drop', 0.061716477796377754)\n"
     ]
    },
    {
     "name": "stderr",
     "output_type": "stream",
     "text": [
      "0it [00:00, ?it/s]    "
     ]
    },
    {
     "name": "stdout",
     "output_type": "stream",
     "text": [
      "[1]: ('rnn_model', 'lgb_cls', 'test', 'auroc_orig', 0.8410518768068107)\n",
      "[1]: ('rnn_model', 'lgb_cls', 'test', 'recall_orig', 0.7360406091370558)\n",
      "[1]: ('rnn_model', 'lgb_cls', 'test', 'precision_orig', 0.7795698924731183)\n"
     ]
    },
    {
     "name": "stderr",
     "output_type": "stream",
     "text": [
      "GPU available: True, used: True\n",
      "TPU available: False, using: 0 TPU cores\n"
     ]
    },
    {
     "name": "stdout",
     "output_type": "stream",
     "text": [
      "[1]: ('rnn_model', 'lgb_cls', 'test', 'auroc_adv', 0.843515968222895)\n",
      "[1]: ('rnn_model', 'lgb_cls', 'test', 'recall_adv', 0.6522842639593909)\n",
      "[1]: ('rnn_model', 'lgb_cls', 'test', 'precision_adv', 0.8006230529595015)\n",
      "[1]: ('rnn_model', 'lgb_cls', 'test', 'p_drop', 0.06078347854654396)\n"
     ]
    },
    {
     "data": {
      "application/vnd.jupyter.widget-view+json": {
       "model_id": "fffe8180aa77443ab835c813ab41e513",
       "version_major": 2,
       "version_minor": 0
      },
      "text/plain": [
       "0it [00:00, ?it/s]"
      ]
     },
     "metadata": {},
     "output_type": "display_data"
    },
    {
     "name": "stderr",
     "output_type": "stream",
     "text": [
      "2021-06-22 16:37:17,187 INFO    setup_map              : Loaded 2418 for train model\n"
     ]
    },
    {
     "data": {
      "application/vnd.jupyter.widget-view+json": {
       "model_id": "293c2c88ada4445d9f839362cb41b380",
       "version_major": 2,
       "version_minor": 0
      },
      "text/plain": [
       "0it [00:00, ?it/s]"
      ]
     },
     "metadata": {},
     "output_type": "display_data"
    },
    {
     "name": "stderr",
     "output_type": "stream",
     "text": [
      "2021-06-22 16:37:17,250 INFO    setup_map              : Loaded 395 for valid model\n",
      "LOCAL_RANK: 0 - CUDA_VISIBLE_DEVICES: [3]\n",
      "2021-06-22 16:37:18,927 INFO    get_lr_scheduler       : StepLR lr_scheduler used\n",
      "\n",
      "  | Name          | Type          | Params\n",
      "------------------------------------------------\n",
      "0 | loss          | BCELoss       | 0     \n",
      "1 | _seq_encoder  | RnnSeqEncoder | 29.8 K\n",
      "2 | _head         | Sequential    | 145   \n",
      "3 | train_metrics | ModuleDict    | 0     \n",
      "4 | valid_metrics | ModuleDict    | 0     \n",
      "5 | test_metrics  | ModuleDict    | 0     \n",
      "------------------------------------------------\n",
      "29.9 K    Trainable params\n",
      "0         Non-trainable params\n",
      "29.9 K    Total params\n",
      "0.120     Total estimated model params size (MB)\n"
     ]
    },
    {
     "data": {
      "application/vnd.jupyter.widget-view+json": {
       "model_id": "",
       "version_major": 2,
       "version_minor": 0
      },
      "text/plain": [
       "Validation sanity check: 0it [00:00, ?it/s]"
      ]
     },
     "metadata": {},
     "output_type": "display_data"
    },
    {
     "name": "stderr",
     "output_type": "stream",
     "text": [
      "Global seed set to 42\n"
     ]
    },
    {
     "data": {
      "application/vnd.jupyter.widget-view+json": {
       "model_id": "04a63924a2f64a8a9c02943c78783f9e",
       "version_major": 2,
       "version_minor": 0
      },
      "text/plain": [
       "Training: 0it [00:00, ?it/s]"
      ]
     },
     "metadata": {},
     "output_type": "display_data"
    },
    {
     "data": {
      "application/vnd.jupyter.widget-view+json": {
       "model_id": "",
       "version_major": 2,
       "version_minor": 0
      },
      "text/plain": [
       "Validating: 0it [00:00, ?it/s]"
      ]
     },
     "metadata": {},
     "output_type": "display_data"
    },
    {
     "data": {
      "application/vnd.jupyter.widget-view+json": {
       "model_id": "",
       "version_major": 2,
       "version_minor": 0
      },
      "text/plain": [
       "Validating: 0it [00:00, ?it/s]"
      ]
     },
     "metadata": {},
     "output_type": "display_data"
    },
    {
     "data": {
      "application/vnd.jupyter.widget-view+json": {
       "model_id": "",
       "version_major": 2,
       "version_minor": 0
      },
      "text/plain": [
       "Validating: 0it [00:00, ?it/s]"
      ]
     },
     "metadata": {},
     "output_type": "display_data"
    },
    {
     "data": {
      "application/vnd.jupyter.widget-view+json": {
       "model_id": "",
       "version_major": 2,
       "version_minor": 0
      },
      "text/plain": [
       "Validating: 0it [00:00, ?it/s]"
      ]
     },
     "metadata": {},
     "output_type": "display_data"
    },
    {
     "data": {
      "application/vnd.jupyter.widget-view+json": {
       "model_id": "",
       "version_major": 2,
       "version_minor": 0
      },
      "text/plain": [
       "Validating: 0it [00:00, ?it/s]"
      ]
     },
     "metadata": {},
     "output_type": "display_data"
    },
    {
     "data": {
      "application/vnd.jupyter.widget-view+json": {
       "model_id": "",
       "version_major": 2,
       "version_minor": 0
      },
      "text/plain": [
       "Validating: 0it [00:00, ?it/s]"
      ]
     },
     "metadata": {},
     "output_type": "display_data"
    },
    {
     "data": {
      "application/vnd.jupyter.widget-view+json": {
       "model_id": "",
       "version_major": 2,
       "version_minor": 0
      },
      "text/plain": [
       "Validating: 0it [00:00, ?it/s]"
      ]
     },
     "metadata": {},
     "output_type": "display_data"
    },
    {
     "data": {
      "application/vnd.jupyter.widget-view+json": {
       "model_id": "",
       "version_major": 2,
       "version_minor": 0
      },
      "text/plain": [
       "Validating: 0it [00:00, ?it/s]"
      ]
     },
     "metadata": {},
     "output_type": "display_data"
    },
    {
     "data": {
      "application/vnd.jupyter.widget-view+json": {
       "model_id": "",
       "version_major": 2,
       "version_minor": 0
      },
      "text/plain": [
       "Validating: 0it [00:00, ?it/s]"
      ]
     },
     "metadata": {},
     "output_type": "display_data"
    },
    {
     "data": {
      "application/vnd.jupyter.widget-view+json": {
       "model_id": "",
       "version_major": 2,
       "version_minor": 0
      },
      "text/plain": [
       "Validating: 0it [00:00, ?it/s]"
      ]
     },
     "metadata": {},
     "output_type": "display_data"
    },
    {
     "data": {
      "application/vnd.jupyter.widget-view+json": {
       "model_id": "",
       "version_major": 2,
       "version_minor": 0
      },
      "text/plain": [
       "Validating: 0it [00:00, ?it/s]"
      ]
     },
     "metadata": {},
     "output_type": "display_data"
    },
    {
     "data": {
      "application/vnd.jupyter.widget-view+json": {
       "model_id": "",
       "version_major": 2,
       "version_minor": 0
      },
      "text/plain": [
       "Validating: 0it [00:00, ?it/s]"
      ]
     },
     "metadata": {},
     "output_type": "display_data"
    },
    {
     "data": {
      "application/vnd.jupyter.widget-view+json": {
       "model_id": "",
       "version_major": 2,
       "version_minor": 0
      },
      "text/plain": [
       "Validating: 0it [00:00, ?it/s]"
      ]
     },
     "metadata": {},
     "output_type": "display_data"
    },
    {
     "data": {
      "application/vnd.jupyter.widget-view+json": {
       "model_id": "",
       "version_major": 2,
       "version_minor": 0
      },
      "text/plain": [
       "Validating: 0it [00:00, ?it/s]"
      ]
     },
     "metadata": {},
     "output_type": "display_data"
    },
    {
     "data": {
      "application/vnd.jupyter.widget-view+json": {
       "model_id": "",
       "version_major": 2,
       "version_minor": 0
      },
      "text/plain": [
       "Validating: 0it [00:00, ?it/s]"
      ]
     },
     "metadata": {},
     "output_type": "display_data"
    },
    {
     "data": {
      "application/vnd.jupyter.widget-view+json": {
       "model_id": "",
       "version_major": 2,
       "version_minor": 0
      },
      "text/plain": [
       "Validating: 0it [00:00, ?it/s]"
      ]
     },
     "metadata": {},
     "output_type": "display_data"
    },
    {
     "data": {
      "application/vnd.jupyter.widget-view+json": {
       "model_id": "",
       "version_major": 2,
       "version_minor": 0
      },
      "text/plain": [
       "Validating: 0it [00:00, ?it/s]"
      ]
     },
     "metadata": {},
     "output_type": "display_data"
    },
    {
     "data": {
      "application/vnd.jupyter.widget-view+json": {
       "model_id": "",
       "version_major": 2,
       "version_minor": 0
      },
      "text/plain": [
       "Validating: 0it [00:00, ?it/s]"
      ]
     },
     "metadata": {},
     "output_type": "display_data"
    },
    {
     "data": {
      "application/vnd.jupyter.widget-view+json": {
       "model_id": "",
       "version_major": 2,
       "version_minor": 0
      },
      "text/plain": [
       "Validating: 0it [00:00, ?it/s]"
      ]
     },
     "metadata": {},
     "output_type": "display_data"
    },
    {
     "data": {
      "application/vnd.jupyter.widget-view+json": {
       "model_id": "",
       "version_major": 2,
       "version_minor": 0
      },
      "text/plain": [
       "Validating: 0it [00:00, ?it/s]"
      ]
     },
     "metadata": {},
     "output_type": "display_data"
    },
    {
     "data": {
      "application/vnd.jupyter.widget-view+json": {
       "model_id": "",
       "version_major": 2,
       "version_minor": 0
      },
      "text/plain": [
       "Validating: 0it [00:00, ?it/s]"
      ]
     },
     "metadata": {},
     "output_type": "display_data"
    },
    {
     "data": {
      "application/vnd.jupyter.widget-view+json": {
       "model_id": "",
       "version_major": 2,
       "version_minor": 0
      },
      "text/plain": [
       "Validating: 0it [00:00, ?it/s]"
      ]
     },
     "metadata": {},
     "output_type": "display_data"
    },
    {
     "data": {
      "application/vnd.jupyter.widget-view+json": {
       "model_id": "",
       "version_major": 2,
       "version_minor": 0
      },
      "text/plain": [
       "Validating: 0it [00:00, ?it/s]"
      ]
     },
     "metadata": {},
     "output_type": "display_data"
    },
    {
     "data": {
      "application/vnd.jupyter.widget-view+json": {
       "model_id": "",
       "version_major": 2,
       "version_minor": 0
      },
      "text/plain": [
       "Validating: 0it [00:00, ?it/s]"
      ]
     },
     "metadata": {},
     "output_type": "display_data"
    },
    {
     "data": {
      "application/vnd.jupyter.widget-view+json": {
       "model_id": "",
       "version_major": 2,
       "version_minor": 0
      },
      "text/plain": [
       "Validating: 0it [00:00, ?it/s]"
      ]
     },
     "metadata": {},
     "output_type": "display_data"
    },
    {
     "data": {
      "application/vnd.jupyter.widget-view+json": {
       "model_id": "",
       "version_major": 2,
       "version_minor": 0
      },
      "text/plain": [
       "Validating: 0it [00:00, ?it/s]"
      ]
     },
     "metadata": {},
     "output_type": "display_data"
    },
    {
     "data": {
      "application/vnd.jupyter.widget-view+json": {
       "model_id": "",
       "version_major": 2,
       "version_minor": 0
      },
      "text/plain": [
       "Validating: 0it [00:00, ?it/s]"
      ]
     },
     "metadata": {},
     "output_type": "display_data"
    },
    {
     "data": {
      "application/vnd.jupyter.widget-view+json": {
       "model_id": "",
       "version_major": 2,
       "version_minor": 0
      },
      "text/plain": [
       "Validating: 0it [00:00, ?it/s]"
      ]
     },
     "metadata": {},
     "output_type": "display_data"
    },
    {
     "data": {
      "application/vnd.jupyter.widget-view+json": {
       "model_id": "",
       "version_major": 2,
       "version_minor": 0
      },
      "text/plain": [
       "Validating: 0it [00:00, ?it/s]"
      ]
     },
     "metadata": {},
     "output_type": "display_data"
    },
    {
     "data": {
      "application/vnd.jupyter.widget-view+json": {
       "model_id": "",
       "version_major": 2,
       "version_minor": 0
      },
      "text/plain": [
       "Validating: 0it [00:00, ?it/s]"
      ]
     },
     "metadata": {},
     "output_type": "display_data"
    },
    {
     "data": {
      "application/vnd.jupyter.widget-view+json": {
       "model_id": "",
       "version_major": 2,
       "version_minor": 0
      },
      "text/plain": [
       "Validating: 0it [00:00, ?it/s]"
      ]
     },
     "metadata": {},
     "output_type": "display_data"
    },
    {
     "data": {
      "application/vnd.jupyter.widget-view+json": {
       "model_id": "",
       "version_major": 2,
       "version_minor": 0
      },
      "text/plain": [
       "Validating: 0it [00:00, ?it/s]"
      ]
     },
     "metadata": {},
     "output_type": "display_data"
    },
    {
     "data": {
      "application/vnd.jupyter.widget-view+json": {
       "model_id": "",
       "version_major": 2,
       "version_minor": 0
      },
      "text/plain": [
       "Validating: 0it [00:00, ?it/s]"
      ]
     },
     "metadata": {},
     "output_type": "display_data"
    },
    {
     "data": {
      "application/vnd.jupyter.widget-view+json": {
       "model_id": "",
       "version_major": 2,
       "version_minor": 0
      },
      "text/plain": [
       "Validating: 0it [00:00, ?it/s]"
      ]
     },
     "metadata": {},
     "output_type": "display_data"
    },
    {
     "data": {
      "application/vnd.jupyter.widget-view+json": {
       "model_id": "",
       "version_major": 2,
       "version_minor": 0
      },
      "text/plain": [
       "Validating: 0it [00:00, ?it/s]"
      ]
     },
     "metadata": {},
     "output_type": "display_data"
    },
    {
     "name": "stderr",
     "output_type": "stream",
     "text": [
      "2021-06-22 16:40:55,608 INFO    train_substitute_model   : [2]: valid_auroc: 0.8291, valid_accuracy: 0.7521\n",
      "2021-06-22 16:40:55,706 INFO    <module>               : Calculate attacks\n",
      "                         \r"
     ]
    },
    {
     "data": {
      "application/vnd.jupyter.widget-view+json": {
       "model_id": "c713bd1ef23f4fc283481fdcf7006529",
       "version_major": 2,
       "version_minor": 0
      },
      "text/plain": [
       "0it [00:00, ?it/s]"
      ]
     },
     "metadata": {},
     "output_type": "display_data"
    },
    {
     "name": "stderr",
     "output_type": "stream",
     "text": [
      "2021-06-22 16:46:37,909 INFO    setup_map              : Loaded 3006 for train model\n"
     ]
    },
    {
     "data": {
      "application/vnd.jupyter.widget-view+json": {
       "model_id": "fe259600b4e74ef8b53edf820d98299f",
       "version_major": 2,
       "version_minor": 0
      },
      "text/plain": [
       "0it [00:00, ?it/s]"
      ]
     },
     "metadata": {},
     "output_type": "display_data"
    },
    {
     "name": "stderr",
     "output_type": "stream",
     "text": [
      "2021-06-22 16:46:37,929 INFO    setup_map              : Loaded 0 for valid model\n",
      "GPU available: True, used: True\n",
      "TPU available: False, using: 0 TPU cores\n",
      "/mnt2/kireev/pipenv_envs/pytorch-lifestream-bcSZKFyz/lib/python3.8/site-packages/pytorch_lightning/utilities/distributed.py:69: UserWarning: you defined a validation_step but have no val_dataloader. Skipping val loop\n",
      "  warnings.warn(*args, **kwargs)\n",
      "LOCAL_RANK: 0 - CUDA_VISIBLE_DEVICES: [3]\n",
      "2021-06-22 16:46:37,939 INFO    get_lr_scheduler       : StepLR lr_scheduler used\n",
      "\n",
      "  | Name          | Type          | Params\n",
      "------------------------------------------------\n",
      "0 | loss          | BCELoss       | 0     \n",
      "1 | _seq_encoder  | RnnSeqEncoder | 29.8 K\n",
      "2 | _head         | Sequential    | 145   \n",
      "3 | train_metrics | ModuleDict    | 0     \n",
      "4 | valid_metrics | ModuleDict    | 0     \n",
      "5 | test_metrics  | ModuleDict    | 0     \n",
      "------------------------------------------------\n",
      "29.9 K    Trainable params\n",
      "0         Non-trainable params\n",
      "29.9 K    Total params\n",
      "0.120     Total estimated model params size (MB)\n"
     ]
    },
    {
     "data": {
      "application/vnd.jupyter.widget-view+json": {
       "model_id": "",
       "version_major": 2,
       "version_minor": 0
      },
      "text/plain": [
       "Validation sanity check: 0it [00:00, ?it/s]"
      ]
     },
     "metadata": {},
     "output_type": "display_data"
    },
    {
     "name": "stderr",
     "output_type": "stream",
     "text": [
      "Global seed set to 42\n"
     ]
    },
    {
     "data": {
      "application/vnd.jupyter.widget-view+json": {
       "model_id": "b86dff8cce65441698ff1ec1ae933d01",
       "version_major": 2,
       "version_minor": 0
      },
      "text/plain": [
       "Training: 0it [00:00, ?it/s]"
      ]
     },
     "metadata": {},
     "output_type": "display_data"
    },
    {
     "name": "stderr",
     "output_type": "stream",
     "text": [
      "0it [00:00, ?it/s]    "
     ]
    },
    {
     "name": "stdout",
     "output_type": "stream",
     "text": [
      "[2]: ('rnn_model', 'lgb_cls', 'valid', 'auroc_orig', 0.8143457402236506)\n",
      "[2]: ('rnn_model', 'lgb_cls', 'valid', 'recall_orig', 0.6831812255541069)\n",
      "[2]: ('rnn_model', 'lgb_cls', 'valid', 'precision_orig', 0.7227586206896551)\n"
     ]
    },
    {
     "name": "stderr",
     "output_type": "stream",
     "text": [
      "0it [00:00, ?it/s]    "
     ]
    },
    {
     "name": "stdout",
     "output_type": "stream",
     "text": [
      "[2]: ('rnn_model', 'lgb_cls', 'valid', 'auroc_adv', 0.8063965582324264)\n",
      "[2]: ('rnn_model', 'lgb_cls', 'valid', 'recall_adv', 0.5397653194263363)\n",
      "[2]: ('rnn_model', 'lgb_cls', 'valid', 'precision_adv', 0.7855787476280834)\n",
      "[2]: ('rnn_model', 'lgb_cls', 'valid', 'p_drop', 0.10417505526230643)\n"
     ]
    },
    {
     "name": "stderr",
     "output_type": "stream",
     "text": [
      "0it [00:00, ?it/s]    "
     ]
    },
    {
     "name": "stdout",
     "output_type": "stream",
     "text": [
      "[2]: ('rnn_model', 'lgb_cls', 'test', 'auroc_orig', 0.8487514511392866)\n",
      "[2]: ('rnn_model', 'lgb_cls', 'test', 'recall_orig', 0.6979695431472082)\n",
      "[2]: ('rnn_model', 'lgb_cls', 'test', 'precision_orig', 0.78125)\n"
     ]
    },
    {
     "name": "stderr",
     "output_type": "stream",
     "text": [
      "GPU available: True, used: True\n",
      "TPU available: False, using: 0 TPU cores\n"
     ]
    },
    {
     "name": "stdout",
     "output_type": "stream",
     "text": [
      "[2]: ('rnn_model', 'lgb_cls', 'test', 'auroc_adv', 0.8376032869727528)\n",
      "[2]: ('rnn_model', 'lgb_cls', 'test', 'recall_adv', 0.6065989847715736)\n",
      "[2]: ('rnn_model', 'lgb_cls', 'test', 'precision_adv', 0.8535714285714285)\n",
      "[2]: ('rnn_model', 'lgb_cls', 'test', 'p_drop', 0.08761764808144752)\n"
     ]
    },
    {
     "data": {
      "application/vnd.jupyter.widget-view+json": {
       "model_id": "0bc8ed8ca4174b59b41bb1b857356e0e",
       "version_major": 2,
       "version_minor": 0
      },
      "text/plain": [
       "0it [00:00, ?it/s]"
      ]
     },
     "metadata": {},
     "output_type": "display_data"
    },
    {
     "name": "stderr",
     "output_type": "stream",
     "text": [
      "2021-06-22 16:48:50,591 INFO    setup_map              : Loaded 2543 for train model\n"
     ]
    },
    {
     "data": {
      "application/vnd.jupyter.widget-view+json": {
       "model_id": "6564fe9d05ad4b94ac1dca7ed1dd8d2e",
       "version_major": 2,
       "version_minor": 0
      },
      "text/plain": [
       "0it [00:00, ?it/s]"
      ]
     },
     "metadata": {},
     "output_type": "display_data"
    },
    {
     "name": "stderr",
     "output_type": "stream",
     "text": [
      "2021-06-22 16:48:50,653 INFO    setup_map              : Loaded 375 for valid model\n",
      "LOCAL_RANK: 0 - CUDA_VISIBLE_DEVICES: [3]\n",
      "2021-06-22 16:48:52,421 INFO    get_lr_scheduler       : StepLR lr_scheduler used\n",
      "\n",
      "  | Name          | Type          | Params\n",
      "------------------------------------------------\n",
      "0 | loss          | BCELoss       | 0     \n",
      "1 | _seq_encoder  | RnnSeqEncoder | 29.8 K\n",
      "2 | _head         | Sequential    | 145   \n",
      "3 | train_metrics | ModuleDict    | 0     \n",
      "4 | valid_metrics | ModuleDict    | 0     \n",
      "5 | test_metrics  | ModuleDict    | 0     \n",
      "------------------------------------------------\n",
      "29.9 K    Trainable params\n",
      "0         Non-trainable params\n",
      "29.9 K    Total params\n",
      "0.120     Total estimated model params size (MB)\n"
     ]
    },
    {
     "data": {
      "application/vnd.jupyter.widget-view+json": {
       "model_id": "",
       "version_major": 2,
       "version_minor": 0
      },
      "text/plain": [
       "Validation sanity check: 0it [00:00, ?it/s]"
      ]
     },
     "metadata": {},
     "output_type": "display_data"
    },
    {
     "name": "stderr",
     "output_type": "stream",
     "text": [
      "Global seed set to 42\n"
     ]
    },
    {
     "data": {
      "application/vnd.jupyter.widget-view+json": {
       "model_id": "d9468aecc8e24507a2f916ad7f8c961a",
       "version_major": 2,
       "version_minor": 0
      },
      "text/plain": [
       "Training: 0it [00:00, ?it/s]"
      ]
     },
     "metadata": {},
     "output_type": "display_data"
    },
    {
     "data": {
      "application/vnd.jupyter.widget-view+json": {
       "model_id": "",
       "version_major": 2,
       "version_minor": 0
      },
      "text/plain": [
       "Validating: 0it [00:00, ?it/s]"
      ]
     },
     "metadata": {},
     "output_type": "display_data"
    },
    {
     "data": {
      "application/vnd.jupyter.widget-view+json": {
       "model_id": "",
       "version_major": 2,
       "version_minor": 0
      },
      "text/plain": [
       "Validating: 0it [00:00, ?it/s]"
      ]
     },
     "metadata": {},
     "output_type": "display_data"
    },
    {
     "data": {
      "application/vnd.jupyter.widget-view+json": {
       "model_id": "",
       "version_major": 2,
       "version_minor": 0
      },
      "text/plain": [
       "Validating: 0it [00:00, ?it/s]"
      ]
     },
     "metadata": {},
     "output_type": "display_data"
    },
    {
     "data": {
      "application/vnd.jupyter.widget-view+json": {
       "model_id": "",
       "version_major": 2,
       "version_minor": 0
      },
      "text/plain": [
       "Validating: 0it [00:00, ?it/s]"
      ]
     },
     "metadata": {},
     "output_type": "display_data"
    },
    {
     "data": {
      "application/vnd.jupyter.widget-view+json": {
       "model_id": "",
       "version_major": 2,
       "version_minor": 0
      },
      "text/plain": [
       "Validating: 0it [00:00, ?it/s]"
      ]
     },
     "metadata": {},
     "output_type": "display_data"
    },
    {
     "data": {
      "application/vnd.jupyter.widget-view+json": {
       "model_id": "",
       "version_major": 2,
       "version_minor": 0
      },
      "text/plain": [
       "Validating: 0it [00:00, ?it/s]"
      ]
     },
     "metadata": {},
     "output_type": "display_data"
    },
    {
     "data": {
      "application/vnd.jupyter.widget-view+json": {
       "model_id": "",
       "version_major": 2,
       "version_minor": 0
      },
      "text/plain": [
       "Validating: 0it [00:00, ?it/s]"
      ]
     },
     "metadata": {},
     "output_type": "display_data"
    },
    {
     "data": {
      "application/vnd.jupyter.widget-view+json": {
       "model_id": "",
       "version_major": 2,
       "version_minor": 0
      },
      "text/plain": [
       "Validating: 0it [00:00, ?it/s]"
      ]
     },
     "metadata": {},
     "output_type": "display_data"
    },
    {
     "data": {
      "application/vnd.jupyter.widget-view+json": {
       "model_id": "",
       "version_major": 2,
       "version_minor": 0
      },
      "text/plain": [
       "Validating: 0it [00:00, ?it/s]"
      ]
     },
     "metadata": {},
     "output_type": "display_data"
    },
    {
     "data": {
      "application/vnd.jupyter.widget-view+json": {
       "model_id": "",
       "version_major": 2,
       "version_minor": 0
      },
      "text/plain": [
       "Validating: 0it [00:00, ?it/s]"
      ]
     },
     "metadata": {},
     "output_type": "display_data"
    },
    {
     "data": {
      "application/vnd.jupyter.widget-view+json": {
       "model_id": "",
       "version_major": 2,
       "version_minor": 0
      },
      "text/plain": [
       "Validating: 0it [00:00, ?it/s]"
      ]
     },
     "metadata": {},
     "output_type": "display_data"
    },
    {
     "data": {
      "application/vnd.jupyter.widget-view+json": {
       "model_id": "",
       "version_major": 2,
       "version_minor": 0
      },
      "text/plain": [
       "Validating: 0it [00:00, ?it/s]"
      ]
     },
     "metadata": {},
     "output_type": "display_data"
    },
    {
     "data": {
      "application/vnd.jupyter.widget-view+json": {
       "model_id": "",
       "version_major": 2,
       "version_minor": 0
      },
      "text/plain": [
       "Validating: 0it [00:00, ?it/s]"
      ]
     },
     "metadata": {},
     "output_type": "display_data"
    },
    {
     "data": {
      "application/vnd.jupyter.widget-view+json": {
       "model_id": "",
       "version_major": 2,
       "version_minor": 0
      },
      "text/plain": [
       "Validating: 0it [00:00, ?it/s]"
      ]
     },
     "metadata": {},
     "output_type": "display_data"
    },
    {
     "data": {
      "application/vnd.jupyter.widget-view+json": {
       "model_id": "",
       "version_major": 2,
       "version_minor": 0
      },
      "text/plain": [
       "Validating: 0it [00:00, ?it/s]"
      ]
     },
     "metadata": {},
     "output_type": "display_data"
    },
    {
     "data": {
      "application/vnd.jupyter.widget-view+json": {
       "model_id": "",
       "version_major": 2,
       "version_minor": 0
      },
      "text/plain": [
       "Validating: 0it [00:00, ?it/s]"
      ]
     },
     "metadata": {},
     "output_type": "display_data"
    },
    {
     "data": {
      "application/vnd.jupyter.widget-view+json": {
       "model_id": "",
       "version_major": 2,
       "version_minor": 0
      },
      "text/plain": [
       "Validating: 0it [00:00, ?it/s]"
      ]
     },
     "metadata": {},
     "output_type": "display_data"
    },
    {
     "data": {
      "application/vnd.jupyter.widget-view+json": {
       "model_id": "",
       "version_major": 2,
       "version_minor": 0
      },
      "text/plain": [
       "Validating: 0it [00:00, ?it/s]"
      ]
     },
     "metadata": {},
     "output_type": "display_data"
    },
    {
     "data": {
      "application/vnd.jupyter.widget-view+json": {
       "model_id": "",
       "version_major": 2,
       "version_minor": 0
      },
      "text/plain": [
       "Validating: 0it [00:00, ?it/s]"
      ]
     },
     "metadata": {},
     "output_type": "display_data"
    },
    {
     "data": {
      "application/vnd.jupyter.widget-view+json": {
       "model_id": "",
       "version_major": 2,
       "version_minor": 0
      },
      "text/plain": [
       "Validating: 0it [00:00, ?it/s]"
      ]
     },
     "metadata": {},
     "output_type": "display_data"
    },
    {
     "data": {
      "application/vnd.jupyter.widget-view+json": {
       "model_id": "",
       "version_major": 2,
       "version_minor": 0
      },
      "text/plain": [
       "Validating: 0it [00:00, ?it/s]"
      ]
     },
     "metadata": {},
     "output_type": "display_data"
    },
    {
     "data": {
      "application/vnd.jupyter.widget-view+json": {
       "model_id": "",
       "version_major": 2,
       "version_minor": 0
      },
      "text/plain": [
       "Validating: 0it [00:00, ?it/s]"
      ]
     },
     "metadata": {},
     "output_type": "display_data"
    },
    {
     "data": {
      "application/vnd.jupyter.widget-view+json": {
       "model_id": "",
       "version_major": 2,
       "version_minor": 0
      },
      "text/plain": [
       "Validating: 0it [00:00, ?it/s]"
      ]
     },
     "metadata": {},
     "output_type": "display_data"
    },
    {
     "data": {
      "application/vnd.jupyter.widget-view+json": {
       "model_id": "",
       "version_major": 2,
       "version_minor": 0
      },
      "text/plain": [
       "Validating: 0it [00:00, ?it/s]"
      ]
     },
     "metadata": {},
     "output_type": "display_data"
    },
    {
     "data": {
      "application/vnd.jupyter.widget-view+json": {
       "model_id": "",
       "version_major": 2,
       "version_minor": 0
      },
      "text/plain": [
       "Validating: 0it [00:00, ?it/s]"
      ]
     },
     "metadata": {},
     "output_type": "display_data"
    },
    {
     "data": {
      "application/vnd.jupyter.widget-view+json": {
       "model_id": "",
       "version_major": 2,
       "version_minor": 0
      },
      "text/plain": [
       "Validating: 0it [00:00, ?it/s]"
      ]
     },
     "metadata": {},
     "output_type": "display_data"
    },
    {
     "data": {
      "application/vnd.jupyter.widget-view+json": {
       "model_id": "",
       "version_major": 2,
       "version_minor": 0
      },
      "text/plain": [
       "Validating: 0it [00:00, ?it/s]"
      ]
     },
     "metadata": {},
     "output_type": "display_data"
    },
    {
     "data": {
      "application/vnd.jupyter.widget-view+json": {
       "model_id": "",
       "version_major": 2,
       "version_minor": 0
      },
      "text/plain": [
       "Validating: 0it [00:00, ?it/s]"
      ]
     },
     "metadata": {},
     "output_type": "display_data"
    },
    {
     "data": {
      "application/vnd.jupyter.widget-view+json": {
       "model_id": "",
       "version_major": 2,
       "version_minor": 0
      },
      "text/plain": [
       "Validating: 0it [00:00, ?it/s]"
      ]
     },
     "metadata": {},
     "output_type": "display_data"
    },
    {
     "data": {
      "application/vnd.jupyter.widget-view+json": {
       "model_id": "",
       "version_major": 2,
       "version_minor": 0
      },
      "text/plain": [
       "Validating: 0it [00:00, ?it/s]"
      ]
     },
     "metadata": {},
     "output_type": "display_data"
    },
    {
     "data": {
      "application/vnd.jupyter.widget-view+json": {
       "model_id": "",
       "version_major": 2,
       "version_minor": 0
      },
      "text/plain": [
       "Validating: 0it [00:00, ?it/s]"
      ]
     },
     "metadata": {},
     "output_type": "display_data"
    },
    {
     "data": {
      "application/vnd.jupyter.widget-view+json": {
       "model_id": "",
       "version_major": 2,
       "version_minor": 0
      },
      "text/plain": [
       "Validating: 0it [00:00, ?it/s]"
      ]
     },
     "metadata": {},
     "output_type": "display_data"
    },
    {
     "data": {
      "application/vnd.jupyter.widget-view+json": {
       "model_id": "",
       "version_major": 2,
       "version_minor": 0
      },
      "text/plain": [
       "Validating: 0it [00:00, ?it/s]"
      ]
     },
     "metadata": {},
     "output_type": "display_data"
    },
    {
     "data": {
      "application/vnd.jupyter.widget-view+json": {
       "model_id": "",
       "version_major": 2,
       "version_minor": 0
      },
      "text/plain": [
       "Validating: 0it [00:00, ?it/s]"
      ]
     },
     "metadata": {},
     "output_type": "display_data"
    },
    {
     "data": {
      "application/vnd.jupyter.widget-view+json": {
       "model_id": "",
       "version_major": 2,
       "version_minor": 0
      },
      "text/plain": [
       "Validating: 0it [00:00, ?it/s]"
      ]
     },
     "metadata": {},
     "output_type": "display_data"
    },
    {
     "data": {
      "application/vnd.jupyter.widget-view+json": {
       "model_id": "",
       "version_major": 2,
       "version_minor": 0
      },
      "text/plain": [
       "Validating: 0it [00:00, ?it/s]"
      ]
     },
     "metadata": {},
     "output_type": "display_data"
    },
    {
     "data": {
      "application/vnd.jupyter.widget-view+json": {
       "model_id": "",
       "version_major": 2,
       "version_minor": 0
      },
      "text/plain": [
       "Validating: 0it [00:00, ?it/s]"
      ]
     },
     "metadata": {},
     "output_type": "display_data"
    },
    {
     "name": "stderr",
     "output_type": "stream",
     "text": [
      "2021-06-22 16:53:12,094 INFO    train_substitute_model   : [3]: valid_auroc: 0.7838, valid_accuracy: 0.6921\n",
      "2021-06-22 16:53:12,204 INFO    <module>               : Calculate attacks\n",
      "                         \r"
     ]
    },
    {
     "data": {
      "application/vnd.jupyter.widget-view+json": {
       "model_id": "40b35b1996444f6ba6bf33020f5646c6",
       "version_major": 2,
       "version_minor": 0
      },
      "text/plain": [
       "0it [00:00, ?it/s]"
      ]
     },
     "metadata": {},
     "output_type": "display_data"
    },
    {
     "name": "stderr",
     "output_type": "stream",
     "text": [
      "2021-06-22 16:58:31,548 INFO    setup_map              : Loaded 3136 for train model\n"
     ]
    },
    {
     "data": {
      "application/vnd.jupyter.widget-view+json": {
       "model_id": "ff1db89faf7f499cb555703316b5fff5",
       "version_major": 2,
       "version_minor": 0
      },
      "text/plain": [
       "0it [00:00, ?it/s]"
      ]
     },
     "metadata": {},
     "output_type": "display_data"
    },
    {
     "name": "stderr",
     "output_type": "stream",
     "text": [
      "2021-06-22 16:58:31,568 INFO    setup_map              : Loaded 0 for valid model\n",
      "GPU available: True, used: True\n",
      "TPU available: False, using: 0 TPU cores\n",
      "/mnt2/kireev/pipenv_envs/pytorch-lifestream-bcSZKFyz/lib/python3.8/site-packages/pytorch_lightning/utilities/distributed.py:69: UserWarning: you defined a validation_step but have no val_dataloader. Skipping val loop\n",
      "  warnings.warn(*args, **kwargs)\n",
      "LOCAL_RANK: 0 - CUDA_VISIBLE_DEVICES: [3]\n",
      "2021-06-22 16:58:31,579 INFO    get_lr_scheduler       : StepLR lr_scheduler used\n",
      "\n",
      "  | Name          | Type          | Params\n",
      "------------------------------------------------\n",
      "0 | loss          | BCELoss       | 0     \n",
      "1 | _seq_encoder  | RnnSeqEncoder | 29.8 K\n",
      "2 | _head         | Sequential    | 145   \n",
      "3 | train_metrics | ModuleDict    | 0     \n",
      "4 | valid_metrics | ModuleDict    | 0     \n",
      "5 | test_metrics  | ModuleDict    | 0     \n",
      "------------------------------------------------\n",
      "29.9 K    Trainable params\n",
      "0         Non-trainable params\n",
      "29.9 K    Total params\n",
      "0.120     Total estimated model params size (MB)\n"
     ]
    },
    {
     "data": {
      "application/vnd.jupyter.widget-view+json": {
       "model_id": "",
       "version_major": 2,
       "version_minor": 0
      },
      "text/plain": [
       "Validation sanity check: 0it [00:00, ?it/s]"
      ]
     },
     "metadata": {},
     "output_type": "display_data"
    },
    {
     "name": "stderr",
     "output_type": "stream",
     "text": [
      "Global seed set to 42\n"
     ]
    },
    {
     "data": {
      "application/vnd.jupyter.widget-view+json": {
       "model_id": "65d2ce181ee0420c8e783e1ac45c497c",
       "version_major": 2,
       "version_minor": 0
      },
      "text/plain": [
       "Training: 0it [00:00, ?it/s]"
      ]
     },
     "metadata": {},
     "output_type": "display_data"
    },
    {
     "name": "stderr",
     "output_type": "stream",
     "text": [
      "0it [00:00, ?it/s]    "
     ]
    },
    {
     "name": "stdout",
     "output_type": "stream",
     "text": [
      "[3]: ('rnn_model', 'lgb_cls', 'valid', 'auroc_orig', 0.8324145337069486)\n",
      "[3]: ('rnn_model', 'lgb_cls', 'valid', 'recall_orig', 0.6910197869101978)\n",
      "[3]: ('rnn_model', 'lgb_cls', 'valid', 'precision_orig', 0.7217806041335453)\n"
     ]
    },
    {
     "name": "stderr",
     "output_type": "stream",
     "text": [
      "0it [00:00, ?it/s]    "
     ]
    },
    {
     "name": "stdout",
     "output_type": "stream",
     "text": [
      "[3]: ('rnn_model', 'lgb_cls', 'valid', 'auroc_adv', 0.8377337112513065)\n",
      "[3]: ('rnn_model', 'lgb_cls', 'valid', 'recall_adv', 0.558599695585997)\n",
      "[3]: ('rnn_model', 'lgb_cls', 'valid', 'precision_adv', 0.8247191011235955)\n",
      "[3]: ('rnn_model', 'lgb_cls', 'valid', 'p_drop', 0.1278502125496724)\n"
     ]
    },
    {
     "name": "stderr",
     "output_type": "stream",
     "text": [
      "0it [00:00, ?it/s]    "
     ]
    },
    {
     "name": "stdout",
     "output_type": "stream",
     "text": [
      "[3]: ('rnn_model', 'lgb_cls', 'test', 'auroc_orig', 0.852700826295782)\n",
      "[3]: ('rnn_model', 'lgb_cls', 'test', 'recall_orig', 0.7360406091370558)\n",
      "[3]: ('rnn_model', 'lgb_cls', 'test', 'precision_orig', 0.7774798927613941)\n"
     ]
    },
    {
     "name": "stderr",
     "output_type": "stream",
     "text": [
      "GPU available: True, used: True\n",
      "TPU available: False, using: 0 TPU cores\n"
     ]
    },
    {
     "name": "stdout",
     "output_type": "stream",
     "text": [
      "[3]: ('rnn_model', 'lgb_cls', 'test', 'auroc_adv', 0.8526780633265802)\n",
      "[3]: ('rnn_model', 'lgb_cls', 'test', 'recall_adv', 0.5862944162436549)\n",
      "[3]: ('rnn_model', 'lgb_cls', 'test', 'precision_adv', 0.8651685393258427)\n",
      "[3]: ('rnn_model', 'lgb_cls', 'test', 'p_drop', 0.12841901350717758)\n"
     ]
    },
    {
     "data": {
      "application/vnd.jupyter.widget-view+json": {
       "model_id": "c77182e67e424591abffdf2fb014b0e6",
       "version_major": 2,
       "version_minor": 0
      },
      "text/plain": [
       "0it [00:00, ?it/s]"
      ]
     },
     "metadata": {},
     "output_type": "display_data"
    },
    {
     "name": "stderr",
     "output_type": "stream",
     "text": [
      "2021-06-22 17:00:50,294 INFO    setup_map              : Loaded 2683 for train model\n"
     ]
    },
    {
     "data": {
      "application/vnd.jupyter.widget-view+json": {
       "model_id": "8c0c93f2129247729c549152c424ff4a",
       "version_major": 2,
       "version_minor": 0
      },
      "text/plain": [
       "0it [00:00, ?it/s]"
      ]
     },
     "metadata": {},
     "output_type": "display_data"
    },
    {
     "name": "stderr",
     "output_type": "stream",
     "text": [
      "2021-06-22 17:00:50,362 INFO    setup_map              : Loaded 391 for valid model\n",
      "LOCAL_RANK: 0 - CUDA_VISIBLE_DEVICES: [3]\n",
      "2021-06-22 17:00:52,179 INFO    get_lr_scheduler       : StepLR lr_scheduler used\n",
      "\n",
      "  | Name          | Type          | Params\n",
      "------------------------------------------------\n",
      "0 | loss          | BCELoss       | 0     \n",
      "1 | _seq_encoder  | RnnSeqEncoder | 29.8 K\n",
      "2 | _head         | Sequential    | 145   \n",
      "3 | train_metrics | ModuleDict    | 0     \n",
      "4 | valid_metrics | ModuleDict    | 0     \n",
      "5 | test_metrics  | ModuleDict    | 0     \n",
      "------------------------------------------------\n",
      "29.9 K    Trainable params\n",
      "0         Non-trainable params\n",
      "29.9 K    Total params\n",
      "0.120     Total estimated model params size (MB)\n"
     ]
    },
    {
     "data": {
      "application/vnd.jupyter.widget-view+json": {
       "model_id": "",
       "version_major": 2,
       "version_minor": 0
      },
      "text/plain": [
       "Validation sanity check: 0it [00:00, ?it/s]"
      ]
     },
     "metadata": {},
     "output_type": "display_data"
    },
    {
     "name": "stderr",
     "output_type": "stream",
     "text": [
      "Global seed set to 42\n"
     ]
    },
    {
     "data": {
      "application/vnd.jupyter.widget-view+json": {
       "model_id": "02ec75e5bd6b4cd39406ee53d9657924",
       "version_major": 2,
       "version_minor": 0
      },
      "text/plain": [
       "Training: 0it [00:00, ?it/s]"
      ]
     },
     "metadata": {},
     "output_type": "display_data"
    },
    {
     "data": {
      "application/vnd.jupyter.widget-view+json": {
       "model_id": "",
       "version_major": 2,
       "version_minor": 0
      },
      "text/plain": [
       "Validating: 0it [00:00, ?it/s]"
      ]
     },
     "metadata": {},
     "output_type": "display_data"
    },
    {
     "data": {
      "application/vnd.jupyter.widget-view+json": {
       "model_id": "",
       "version_major": 2,
       "version_minor": 0
      },
      "text/plain": [
       "Validating: 0it [00:00, ?it/s]"
      ]
     },
     "metadata": {},
     "output_type": "display_data"
    },
    {
     "data": {
      "application/vnd.jupyter.widget-view+json": {
       "model_id": "",
       "version_major": 2,
       "version_minor": 0
      },
      "text/plain": [
       "Validating: 0it [00:00, ?it/s]"
      ]
     },
     "metadata": {},
     "output_type": "display_data"
    },
    {
     "data": {
      "application/vnd.jupyter.widget-view+json": {
       "model_id": "",
       "version_major": 2,
       "version_minor": 0
      },
      "text/plain": [
       "Validating: 0it [00:00, ?it/s]"
      ]
     },
     "metadata": {},
     "output_type": "display_data"
    },
    {
     "data": {
      "application/vnd.jupyter.widget-view+json": {
       "model_id": "",
       "version_major": 2,
       "version_minor": 0
      },
      "text/plain": [
       "Validating: 0it [00:00, ?it/s]"
      ]
     },
     "metadata": {},
     "output_type": "display_data"
    },
    {
     "data": {
      "application/vnd.jupyter.widget-view+json": {
       "model_id": "",
       "version_major": 2,
       "version_minor": 0
      },
      "text/plain": [
       "Validating: 0it [00:00, ?it/s]"
      ]
     },
     "metadata": {},
     "output_type": "display_data"
    },
    {
     "data": {
      "application/vnd.jupyter.widget-view+json": {
       "model_id": "",
       "version_major": 2,
       "version_minor": 0
      },
      "text/plain": [
       "Validating: 0it [00:00, ?it/s]"
      ]
     },
     "metadata": {},
     "output_type": "display_data"
    },
    {
     "data": {
      "application/vnd.jupyter.widget-view+json": {
       "model_id": "",
       "version_major": 2,
       "version_minor": 0
      },
      "text/plain": [
       "Validating: 0it [00:00, ?it/s]"
      ]
     },
     "metadata": {},
     "output_type": "display_data"
    },
    {
     "data": {
      "application/vnd.jupyter.widget-view+json": {
       "model_id": "",
       "version_major": 2,
       "version_minor": 0
      },
      "text/plain": [
       "Validating: 0it [00:00, ?it/s]"
      ]
     },
     "metadata": {},
     "output_type": "display_data"
    },
    {
     "data": {
      "application/vnd.jupyter.widget-view+json": {
       "model_id": "",
       "version_major": 2,
       "version_minor": 0
      },
      "text/plain": [
       "Validating: 0it [00:00, ?it/s]"
      ]
     },
     "metadata": {},
     "output_type": "display_data"
    },
    {
     "data": {
      "application/vnd.jupyter.widget-view+json": {
       "model_id": "",
       "version_major": 2,
       "version_minor": 0
      },
      "text/plain": [
       "Validating: 0it [00:00, ?it/s]"
      ]
     },
     "metadata": {},
     "output_type": "display_data"
    },
    {
     "data": {
      "application/vnd.jupyter.widget-view+json": {
       "model_id": "",
       "version_major": 2,
       "version_minor": 0
      },
      "text/plain": [
       "Validating: 0it [00:00, ?it/s]"
      ]
     },
     "metadata": {},
     "output_type": "display_data"
    },
    {
     "data": {
      "application/vnd.jupyter.widget-view+json": {
       "model_id": "",
       "version_major": 2,
       "version_minor": 0
      },
      "text/plain": [
       "Validating: 0it [00:00, ?it/s]"
      ]
     },
     "metadata": {},
     "output_type": "display_data"
    },
    {
     "data": {
      "application/vnd.jupyter.widget-view+json": {
       "model_id": "",
       "version_major": 2,
       "version_minor": 0
      },
      "text/plain": [
       "Validating: 0it [00:00, ?it/s]"
      ]
     },
     "metadata": {},
     "output_type": "display_data"
    },
    {
     "data": {
      "application/vnd.jupyter.widget-view+json": {
       "model_id": "",
       "version_major": 2,
       "version_minor": 0
      },
      "text/plain": [
       "Validating: 0it [00:00, ?it/s]"
      ]
     },
     "metadata": {},
     "output_type": "display_data"
    },
    {
     "data": {
      "application/vnd.jupyter.widget-view+json": {
       "model_id": "",
       "version_major": 2,
       "version_minor": 0
      },
      "text/plain": [
       "Validating: 0it [00:00, ?it/s]"
      ]
     },
     "metadata": {},
     "output_type": "display_data"
    },
    {
     "data": {
      "application/vnd.jupyter.widget-view+json": {
       "model_id": "",
       "version_major": 2,
       "version_minor": 0
      },
      "text/plain": [
       "Validating: 0it [00:00, ?it/s]"
      ]
     },
     "metadata": {},
     "output_type": "display_data"
    },
    {
     "data": {
      "application/vnd.jupyter.widget-view+json": {
       "model_id": "",
       "version_major": 2,
       "version_minor": 0
      },
      "text/plain": [
       "Validating: 0it [00:00, ?it/s]"
      ]
     },
     "metadata": {},
     "output_type": "display_data"
    },
    {
     "data": {
      "application/vnd.jupyter.widget-view+json": {
       "model_id": "",
       "version_major": 2,
       "version_minor": 0
      },
      "text/plain": [
       "Validating: 0it [00:00, ?it/s]"
      ]
     },
     "metadata": {},
     "output_type": "display_data"
    },
    {
     "data": {
      "application/vnd.jupyter.widget-view+json": {
       "model_id": "",
       "version_major": 2,
       "version_minor": 0
      },
      "text/plain": [
       "Validating: 0it [00:00, ?it/s]"
      ]
     },
     "metadata": {},
     "output_type": "display_data"
    },
    {
     "data": {
      "application/vnd.jupyter.widget-view+json": {
       "model_id": "",
       "version_major": 2,
       "version_minor": 0
      },
      "text/plain": [
       "Validating: 0it [00:00, ?it/s]"
      ]
     },
     "metadata": {},
     "output_type": "display_data"
    },
    {
     "data": {
      "application/vnd.jupyter.widget-view+json": {
       "model_id": "",
       "version_major": 2,
       "version_minor": 0
      },
      "text/plain": [
       "Validating: 0it [00:00, ?it/s]"
      ]
     },
     "metadata": {},
     "output_type": "display_data"
    },
    {
     "data": {
      "application/vnd.jupyter.widget-view+json": {
       "model_id": "",
       "version_major": 2,
       "version_minor": 0
      },
      "text/plain": [
       "Validating: 0it [00:00, ?it/s]"
      ]
     },
     "metadata": {},
     "output_type": "display_data"
    },
    {
     "data": {
      "application/vnd.jupyter.widget-view+json": {
       "model_id": "",
       "version_major": 2,
       "version_minor": 0
      },
      "text/plain": [
       "Validating: 0it [00:00, ?it/s]"
      ]
     },
     "metadata": {},
     "output_type": "display_data"
    },
    {
     "data": {
      "application/vnd.jupyter.widget-view+json": {
       "model_id": "",
       "version_major": 2,
       "version_minor": 0
      },
      "text/plain": [
       "Validating: 0it [00:00, ?it/s]"
      ]
     },
     "metadata": {},
     "output_type": "display_data"
    },
    {
     "data": {
      "application/vnd.jupyter.widget-view+json": {
       "model_id": "",
       "version_major": 2,
       "version_minor": 0
      },
      "text/plain": [
       "Validating: 0it [00:00, ?it/s]"
      ]
     },
     "metadata": {},
     "output_type": "display_data"
    },
    {
     "data": {
      "application/vnd.jupyter.widget-view+json": {
       "model_id": "",
       "version_major": 2,
       "version_minor": 0
      },
      "text/plain": [
       "Validating: 0it [00:00, ?it/s]"
      ]
     },
     "metadata": {},
     "output_type": "display_data"
    },
    {
     "data": {
      "application/vnd.jupyter.widget-view+json": {
       "model_id": "",
       "version_major": 2,
       "version_minor": 0
      },
      "text/plain": [
       "Validating: 0it [00:00, ?it/s]"
      ]
     },
     "metadata": {},
     "output_type": "display_data"
    },
    {
     "data": {
      "application/vnd.jupyter.widget-view+json": {
       "model_id": "",
       "version_major": 2,
       "version_minor": 0
      },
      "text/plain": [
       "Validating: 0it [00:00, ?it/s]"
      ]
     },
     "metadata": {},
     "output_type": "display_data"
    },
    {
     "data": {
      "application/vnd.jupyter.widget-view+json": {
       "model_id": "",
       "version_major": 2,
       "version_minor": 0
      },
      "text/plain": [
       "Validating: 0it [00:00, ?it/s]"
      ]
     },
     "metadata": {},
     "output_type": "display_data"
    },
    {
     "data": {
      "application/vnd.jupyter.widget-view+json": {
       "model_id": "",
       "version_major": 2,
       "version_minor": 0
      },
      "text/plain": [
       "Validating: 0it [00:00, ?it/s]"
      ]
     },
     "metadata": {},
     "output_type": "display_data"
    },
    {
     "data": {
      "application/vnd.jupyter.widget-view+json": {
       "model_id": "",
       "version_major": 2,
       "version_minor": 0
      },
      "text/plain": [
       "Validating: 0it [00:00, ?it/s]"
      ]
     },
     "metadata": {},
     "output_type": "display_data"
    },
    {
     "name": "stderr",
     "output_type": "stream",
     "text": [
      "2021-06-22 17:04:45,722 INFO    train_substitute_model   : [4]: valid_auroc: 0.8009, valid_accuracy: 0.7175\n",
      "2021-06-22 17:04:45,821 INFO    <module>               : Calculate attacks\n",
      "                         \r"
     ]
    },
    {
     "data": {
      "application/vnd.jupyter.widget-view+json": {
       "model_id": "8f60ce82cec64bafa8ec5d95acb2246d",
       "version_major": 2,
       "version_minor": 0
      },
      "text/plain": [
       "0it [00:00, ?it/s]"
      ]
     },
     "metadata": {},
     "output_type": "display_data"
    },
    {
     "name": "stderr",
     "output_type": "stream",
     "text": [
      "2021-06-22 17:09:31,751 INFO    setup_map              : Loaded 3225 for train model\n"
     ]
    },
    {
     "data": {
      "application/vnd.jupyter.widget-view+json": {
       "model_id": "2b9bad10db7e440aa5c1fddce2b274b0",
       "version_major": 2,
       "version_minor": 0
      },
      "text/plain": [
       "0it [00:00, ?it/s]"
      ]
     },
     "metadata": {},
     "output_type": "display_data"
    },
    {
     "name": "stderr",
     "output_type": "stream",
     "text": [
      "2021-06-22 17:09:31,771 INFO    setup_map              : Loaded 0 for valid model\n",
      "GPU available: True, used: True\n",
      "TPU available: False, using: 0 TPU cores\n",
      "/mnt2/kireev/pipenv_envs/pytorch-lifestream-bcSZKFyz/lib/python3.8/site-packages/pytorch_lightning/utilities/distributed.py:69: UserWarning: you defined a validation_step but have no val_dataloader. Skipping val loop\n",
      "  warnings.warn(*args, **kwargs)\n",
      "LOCAL_RANK: 0 - CUDA_VISIBLE_DEVICES: [3]\n",
      "2021-06-22 17:09:31,781 INFO    get_lr_scheduler       : StepLR lr_scheduler used\n",
      "\n",
      "  | Name          | Type          | Params\n",
      "------------------------------------------------\n",
      "0 | loss          | BCELoss       | 0     \n",
      "1 | _seq_encoder  | RnnSeqEncoder | 29.8 K\n",
      "2 | _head         | Sequential    | 145   \n",
      "3 | train_metrics | ModuleDict    | 0     \n",
      "4 | valid_metrics | ModuleDict    | 0     \n",
      "5 | test_metrics  | ModuleDict    | 0     \n",
      "------------------------------------------------\n",
      "29.9 K    Trainable params\n",
      "0         Non-trainable params\n",
      "29.9 K    Total params\n",
      "0.120     Total estimated model params size (MB)\n"
     ]
    },
    {
     "data": {
      "application/vnd.jupyter.widget-view+json": {
       "model_id": "",
       "version_major": 2,
       "version_minor": 0
      },
      "text/plain": [
       "Validation sanity check: 0it [00:00, ?it/s]"
      ]
     },
     "metadata": {},
     "output_type": "display_data"
    },
    {
     "name": "stderr",
     "output_type": "stream",
     "text": [
      "Global seed set to 42\n"
     ]
    },
    {
     "data": {
      "application/vnd.jupyter.widget-view+json": {
       "model_id": "360d90e9917840789c44fd2e4fd46693",
       "version_major": 2,
       "version_minor": 0
      },
      "text/plain": [
       "Training: 0it [00:00, ?it/s]"
      ]
     },
     "metadata": {},
     "output_type": "display_data"
    },
    {
     "name": "stderr",
     "output_type": "stream",
     "text": [
      "0it [00:00, ?it/s]    "
     ]
    },
    {
     "name": "stdout",
     "output_type": "stream",
     "text": [
      "[4]: ('rnn_model', 'lgb_cls', 'valid', 'auroc_orig', 0.8553633341673517)\n",
      "[4]: ('rnn_model', 'lgb_cls', 'valid', 'recall_orig', 0.7256317689530686)\n",
      "[4]: ('rnn_model', 'lgb_cls', 'valid', 'precision_orig', 0.7403314917127072)\n"
     ]
    },
    {
     "name": "stderr",
     "output_type": "stream",
     "text": [
      "0it [00:00, ?it/s]    "
     ]
    },
    {
     "name": "stdout",
     "output_type": "stream",
     "text": [
      "[4]: ('rnn_model', 'lgb_cls', 'valid', 'auroc_adv', 0.8492103207226345)\n",
      "[4]: ('rnn_model', 'lgb_cls', 'valid', 'recall_adv', 0.6010830324909747)\n",
      "[4]: ('rnn_model', 'lgb_cls', 'valid', 'precision_adv', 0.808252427184466)\n",
      "[4]: ('rnn_model', 'lgb_cls', 'valid', 'p_drop', 0.10518400734096262)\n"
     ]
    },
    {
     "name": "stderr",
     "output_type": "stream",
     "text": [
      "0it [00:00, ?it/s]    "
     ]
    },
    {
     "name": "stdout",
     "output_type": "stream",
     "text": [
      "[4]: ('rnn_model', 'lgb_cls', 'test', 'auroc_orig', 0.8412624342719266)\n",
      "[4]: ('rnn_model', 'lgb_cls', 'test', 'recall_orig', 0.7131979695431472)\n",
      "[4]: ('rnn_model', 'lgb_cls', 'test', 'precision_orig', 0.7635869565217391)\n"
     ]
    },
    {
     "name": "stderr",
     "output_type": "stream",
     "text": [
      "                      "
     ]
    },
    {
     "name": "stdout",
     "output_type": "stream",
     "text": [
      "[4]: ('rnn_model', 'lgb_cls', 'test', 'auroc_adv', 0.8346497917188319)\n",
      "[4]: ('rnn_model', 'lgb_cls', 'test', 'recall_adv', 0.5736040609137056)\n",
      "[4]: ('rnn_model', 'lgb_cls', 'test', 'precision_adv', 0.8308823529411765)\n",
      "[4]: ('rnn_model', 'lgb_cls', 'test', 'p_drop', 0.10287925271601532)\n"
     ]
    },
    {
     "name": "stderr",
     "output_type": "stream",
     "text": [
      "\r"
     ]
    }
   ],
   "source": [
    "results = []\n",
    "for fold_id, fold in data_splitter.folds.items():\n",
    "#     if fold_id == 0:\n",
    "#         continue\n",
    "    \n",
    "    substitute_model, mcc_freq = train_substitute_model(fold_id, fold, conf['substitute'])\n",
    "    attack_dm = AdversarialAttackDataModule(\n",
    "        conf['data_module'], substitute_model, mcc_freq, fold['valid'] + fold['test'])\n",
    "    attack_dm.prepare_data()\n",
    "    \n",
    "    logger.info('Calculate attacks')\n",
    "    ts, original_scores = tuple(score_model2(substitute_model, attack_dm.test_dataloader(), {'device': 'cuda'}))\n",
    "    pd_scores = pd.DataFrame(original_scores.tolist())\n",
    "    pd_scores['s_score'] = ts\n",
    "    adv_sequences = pd_scores.groupby('id').apply(lambda x: x.sort_values('s_score').iloc[0]).set_index('id') \\\n",
    "        .drop(columns='y').to_dict(orient='index')\n",
    "    \n",
    "    pa = {k: v['new_trx'] for k, v in adv_sequences.items()}\n",
    "    for fields in train_target_model_rnn(fold_id, fold, pa):\n",
    "        print(f'[{fold_id}]: {fields}')\n",
    "        results.append(fields)\n",
    "        \n",
    "#     for fields in train_target_model_coles(fold_id, fold, pa):\n",
    "#         print(f'[{fold_id}]: {fields}')\n",
    "#         results.append(fields)\n",
    "\n",
    "#     for fields in train_target_model_agg_feature(fold_id, fold, pa):\n",
    "#         print(f'[{fold_id}]: {fields}')\n",
    "#         results.append(fields)"
   ]
  },
  {
   "cell_type": "code",
   "execution_count": 33,
   "id": "employed-seventh",
   "metadata": {},
   "outputs": [
    {
     "data": {
      "text/html": [
       "<div>\n",
       "<style scoped>\n",
       "    .dataframe tbody tr th:only-of-type {\n",
       "        vertical-align: middle;\n",
       "    }\n",
       "\n",
       "    .dataframe tbody tr th {\n",
       "        vertical-align: top;\n",
       "    }\n",
       "\n",
       "    .dataframe thead tr th {\n",
       "        text-align: left;\n",
       "    }\n",
       "\n",
       "    .dataframe thead tr:last-of-type th {\n",
       "        text-align: right;\n",
       "    }\n",
       "</style>\n",
       "<table border=\"1\" class=\"dataframe\">\n",
       "  <thead>\n",
       "    <tr>\n",
       "      <th></th>\n",
       "      <th></th>\n",
       "      <th>set</th>\n",
       "      <th colspan=\"5\" halign=\"left\">valid</th>\n",
       "      <th colspan=\"5\" halign=\"left\">test</th>\n",
       "    </tr>\n",
       "    <tr>\n",
       "      <th></th>\n",
       "      <th></th>\n",
       "      <th></th>\n",
       "      <th>mean</th>\n",
       "      <th>t_pm</th>\n",
       "      <th>t_int_l</th>\n",
       "      <th>t_int_h</th>\n",
       "      <th>count</th>\n",
       "      <th>mean</th>\n",
       "      <th>t_pm</th>\n",
       "      <th>t_int_l</th>\n",
       "      <th>t_int_h</th>\n",
       "      <th>count</th>\n",
       "    </tr>\n",
       "    <tr>\n",
       "      <th>encoder</th>\n",
       "      <th>target_model</th>\n",
       "      <th>metric</th>\n",
       "      <th></th>\n",
       "      <th></th>\n",
       "      <th></th>\n",
       "      <th></th>\n",
       "      <th></th>\n",
       "      <th></th>\n",
       "      <th></th>\n",
       "      <th></th>\n",
       "      <th></th>\n",
       "      <th></th>\n",
       "    </tr>\n",
       "  </thead>\n",
       "  <tbody>\n",
       "    <tr>\n",
       "      <th rowspan=\"7\" valign=\"top\">rnn_model</th>\n",
       "      <th rowspan=\"7\" valign=\"top\">lgb_cls</th>\n",
       "      <th>auroc_adv</th>\n",
       "      <td>0.831</td>\n",
       "      <td>0.020</td>\n",
       "      <td>0.811</td>\n",
       "      <td>0.851</td>\n",
       "      <td>5</td>\n",
       "      <td>0.842</td>\n",
       "      <td>0.009</td>\n",
       "      <td>0.834</td>\n",
       "      <td>0.851</td>\n",
       "      <td>5</td>\n",
       "    </tr>\n",
       "    <tr>\n",
       "      <th>auroc_orig</th>\n",
       "      <td>0.835</td>\n",
       "      <td>0.019</td>\n",
       "      <td>0.816</td>\n",
       "      <td>0.854</td>\n",
       "      <td>5</td>\n",
       "      <td>0.847</td>\n",
       "      <td>0.007</td>\n",
       "      <td>0.840</td>\n",
       "      <td>0.854</td>\n",
       "      <td>5</td>\n",
       "    </tr>\n",
       "    <tr>\n",
       "      <th>p_drop</th>\n",
       "      <td>0.105</td>\n",
       "      <td>0.033</td>\n",
       "      <td>0.072</td>\n",
       "      <td>0.139</td>\n",
       "      <td>5</td>\n",
       "      <td>0.101</td>\n",
       "      <td>0.035</td>\n",
       "      <td>0.066</td>\n",
       "      <td>0.137</td>\n",
       "      <td>5</td>\n",
       "    </tr>\n",
       "    <tr>\n",
       "      <th>precision_adv</th>\n",
       "      <td>0.801</td>\n",
       "      <td>0.037</td>\n",
       "      <td>0.763</td>\n",
       "      <td>0.838</td>\n",
       "      <td>5</td>\n",
       "      <td>0.839</td>\n",
       "      <td>0.031</td>\n",
       "      <td>0.808</td>\n",
       "      <td>0.870</td>\n",
       "      <td>5</td>\n",
       "    </tr>\n",
       "    <tr>\n",
       "      <th>precision_orig</th>\n",
       "      <td>0.733</td>\n",
       "      <td>0.020</td>\n",
       "      <td>0.713</td>\n",
       "      <td>0.754</td>\n",
       "      <td>5</td>\n",
       "      <td>0.772</td>\n",
       "      <td>0.014</td>\n",
       "      <td>0.758</td>\n",
       "      <td>0.785</td>\n",
       "      <td>5</td>\n",
       "    </tr>\n",
       "    <tr>\n",
       "      <th>recall_adv</th>\n",
       "      <td>0.577</td>\n",
       "      <td>0.059</td>\n",
       "      <td>0.518</td>\n",
       "      <td>0.636</td>\n",
       "      <td>5</td>\n",
       "      <td>0.593</td>\n",
       "      <td>0.050</td>\n",
       "      <td>0.543</td>\n",
       "      <td>0.642</td>\n",
       "      <td>5</td>\n",
       "    </tr>\n",
       "    <tr>\n",
       "      <th>recall_orig</th>\n",
       "      <td>0.700</td>\n",
       "      <td>0.021</td>\n",
       "      <td>0.679</td>\n",
       "      <td>0.721</td>\n",
       "      <td>5</td>\n",
       "      <td>0.720</td>\n",
       "      <td>0.020</td>\n",
       "      <td>0.700</td>\n",
       "      <td>0.740</td>\n",
       "      <td>5</td>\n",
       "    </tr>\n",
       "  </tbody>\n",
       "</table>\n",
       "</div>"
      ],
      "text/plain": [
       "set                                    valid                               \\\n",
       "                                        mean   t_pm t_int_l t_int_h count   \n",
       "encoder   target_model metric                                               \n",
       "rnn_model lgb_cls      auroc_adv       0.831  0.020   0.811   0.851     5   \n",
       "                       auroc_orig      0.835  0.019   0.816   0.854     5   \n",
       "                       p_drop          0.105  0.033   0.072   0.139     5   \n",
       "                       precision_adv   0.801  0.037   0.763   0.838     5   \n",
       "                       precision_orig  0.733  0.020   0.713   0.754     5   \n",
       "                       recall_adv      0.577  0.059   0.518   0.636     5   \n",
       "                       recall_orig     0.700  0.021   0.679   0.721     5   \n",
       "\n",
       "set                                     test                               \n",
       "                                        mean   t_pm t_int_l t_int_h count  \n",
       "encoder   target_model metric                                              \n",
       "rnn_model lgb_cls      auroc_adv       0.842  0.009   0.834   0.851     5  \n",
       "                       auroc_orig      0.847  0.007   0.840   0.854     5  \n",
       "                       p_drop          0.101  0.035   0.066   0.137     5  \n",
       "                       precision_adv   0.839  0.031   0.808   0.870     5  \n",
       "                       precision_orig  0.772  0.014   0.758   0.785     5  \n",
       "                       recall_adv      0.593  0.050   0.543   0.642     5  \n",
       "                       recall_orig     0.720  0.020   0.700   0.740     5  "
      ]
     },
     "execution_count": 33,
     "metadata": {},
     "output_type": "execute_result"
    }
   ],
   "source": [
    "pd.DataFrame(results, columns=['encoder', 'target_model', 'set', 'metric', 'value']) \\\n",
    "    .pivot_table(index=['encoder', 'target_model', 'metric'],\n",
    "                 columns='set', values='value', aggfunc=['mean', t_pm, t_int_l, t_int_h, 'count']) \\\n",
    "    .swaplevel(axis=1)[['valid', 'test']].round(3)"
   ]
  },
  {
   "cell_type": "code",
   "execution_count": null,
   "id": "considerable-mainland",
   "metadata": {},
   "outputs": [],
   "source": [
    "print(pd.DataFrame(results, columns=['encoder', 'target_model', 'set', 'metric', 'value']) \\\n",
    "    .pivot_table(index=['encoder', 'target_model', 'metric'],\n",
    "                 columns='set', values='value', aggfunc=['mean', t_pm, t_int_l, t_int_h, 'count']) \\\n",
    "    .swaplevel(axis=1)[['valid', 'test']].round(3).to_markdown())"
   ]
  },
  {
   "cell_type": "markdown",
   "id": "sorted-alignment",
   "metadata": {},
   "source": [
    "|                                        | valid |       |         |         |       | test  |       |         |         |       |\n",
    "|:---------------------------------------|------:|------:|--------:|--------:|------:|------:|------:|--------:|--------:|------:|\n",
    "|                                      | **mean**  | **t_pm**  | **t_int_l** | **t_int_h** | **count** | **mean**  | **t_pm**  | **t_int_l** | **t_int_h** | **count** |\n",
    "| agg_features, lgb_cls, auroc_adv       | 0.857 | 0.013 |   0.844 |   0.87  |     5 | 0.86  | 0.006 |   0.855 |   0.866 |     5 |\n",
    "| agg_features, lgb_cls, auroc_orig      | 0.866 | 0.014 |   0.852 |   0.879 |     5 | 0.869 | 0.004 |   0.865 |   0.874 |     5 |\n",
    "| agg_features, lgb_cls, p_drop          | 0.085 | 0.014 |   0.071 |   0.1   |     5 | 0.083 | 0.015 |   0.068 |   0.099 |     5 |\n",
    "| agg_features, lgb_cls, recall_adv      | 0.548 | 0.043 |   0.505 |   0.591 |     5 | 0.565 | 0.021 |   0.544 |   0.586 |     5 |\n",
    "| agg_features, lgb_cls, recall_orig     | 0.702 | 0.036 |   0.666 |   0.738 |     5 | 0.708 | 0.013 |   0.695 |   0.721 |     5 |\n",
    "| coles_embeddings, lgb_cls, auroc_adv   | 0.841 | 0.016 |   0.825 |   0.857 |     5 | 0.846 | 0.009 |   0.838 |   0.855 |     5 |\n",
    "| coles_embeddings, lgb_cls, auroc_orig  | 0.855 | 0.016 |   0.838 |   0.871 |     5 | 0.86  | 0.01  |   0.85  |   0.87  |     5 |\n",
    "| coles_embeddings, lgb_cls, p_drop      | 0.098 | 0.026 |   0.073 |   0.124 |     5 | 0.097 | 0.03  |   0.068 |   0.127 |     5 |\n",
    "| coles_embeddings, lgb_cls, recall_adv  | 0.544 | 0.051 |   0.493 |   0.595 |     5 | 0.543 | 0.047 |   0.497 |   0.59  |     5 |\n",
    "| coles_embeddings, lgb_cls, recall_orig | 0.708 | 0.022 |   0.686 |   0.73  |     5 | 0.703 | 0.03  |   0.673 |   0.733 |     5 |\n",
    "| rnn_model, lgb_cls, auroc_adv          | 0.831 | 0.02  |   0.811 |   0.851 |     5 | 0.842 | 0.009 |   0.834 |   0.851 |     5 |\n",
    "| rnn_model, lgb_cls, auroc_orig         | 0.835 | 0.019 |   0.816 |   0.854 |     5 | 0.847 | 0.007 |   0.84  |   0.854 |     5 |\n",
    "| rnn_model, lgb_cls, p_drop             | 0.105 | 0.033 |   0.072 |   0.139 |     5 | 0.101 | 0.035 |   0.066 |   0.137 |     5 |\n",
    "| rnn_model, lgb_cls, precision_adv      | 0.801 | 0.037 |   0.763 |   0.838 |     5 | 0.839 | 0.031 |   0.808 |   0.87  |     5 |\n",
    "| rnn_model, lgb_cls, precision_orig     | 0.733 | 0.02  |   0.713 |   0.754 |     5 | 0.772 | 0.014 |   0.758 |   0.785 |     5 |\n",
    "| rnn_model, lgb_cls, recall_adv         | 0.577 | 0.059 |   0.518 |   0.636 |     5 | 0.593 | 0.05  |   0.543 |   0.642 |     5 |\n",
    "| rnn_model, lgb_cls, recall_orig        | 0.700 | 0.021 |   0.679 |   0.721 |     5 | 0.72  | 0.02  |   0.7   |   0.74  |     5 |\n"
   ]
  },
  {
   "cell_type": "code",
   "execution_count": null,
   "id": "centered-straight",
   "metadata": {},
   "outputs": [],
   "source": []
  },
  {
   "cell_type": "code",
   "execution_count": null,
   "id": "japanese-drain",
   "metadata": {},
   "outputs": [],
   "source": []
  }
 ],
 "metadata": {
  "kernelspec": {
   "display_name": "pytorch_lifestream",
   "language": "python",
   "name": "pytorch_lifestream"
  },
  "language_info": {
   "codemirror_mode": {
    "name": "ipython",
    "version": 3
   },
   "file_extension": ".py",
   "mimetype": "text/x-python",
   "name": "python",
   "nbconvert_exporter": "python",
   "pygments_lexer": "ipython3",
   "version": "3.8.0"
  }
 },
 "nbformat": 4,
 "nbformat_minor": 5
}
