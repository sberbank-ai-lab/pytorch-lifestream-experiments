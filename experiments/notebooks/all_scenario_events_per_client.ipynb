{
 "cells": [
  {
   "cell_type": "code",
   "execution_count": 48,
   "metadata": {},
   "outputs": [],
   "source": [
    "import numpy as np\n",
    "import pandas as pd\n",
    "\n",
    "import matplotlib\n",
    "import matplotlib.pyplot as plt"
   ]
  },
  {
   "cell_type": "code",
   "execution_count": 49,
   "metadata": {},
   "outputs": [],
   "source": [
    "matplotlib.rc('font', size=20)"
   ]
  },
  {
   "cell_type": "code",
   "execution_count": null,
   "metadata": {},
   "outputs": [],
   "source": []
  },
  {
   "cell_type": "code",
   "execution_count": null,
   "metadata": {},
   "outputs": [],
   "source": []
  },
  {
   "cell_type": "code",
   "execution_count": 8,
   "metadata": {},
   "outputs": [
    {
     "name": "stdout",
     "output_type": "stream",
     "text": [
      "../scenario_gender/data/gender_test_kaggle_sample_submission.csv\r\n",
      "../scenario_gender/data/gender_train.csv\r\n",
      "../scenario_gender/data/tr_mcc_codes.csv\r\n",
      "../scenario_gender/data/tr_types.csv\r\n",
      "../scenario_gender/data/transactions.csv\r\n"
     ]
    }
   ],
   "source": [
    "!ls ../scenario_gender/data/*.csv"
   ]
  },
  {
   "cell_type": "code",
   "execution_count": 16,
   "metadata": {},
   "outputs": [],
   "source": [
    "data_gender = pd.read_csv('../scenario_gender/data/transactions.csv')\n",
    "\n",
    "data_gender = data_gender.assign(trx_cnt=1).groupby('customer_id')['trx_cnt'].count().values\n",
    "\n",
    "data_gender"
   ]
  },
  {
   "cell_type": "code",
   "execution_count": null,
   "metadata": {},
   "outputs": [],
   "source": []
  },
  {
   "cell_type": "code",
   "execution_count": 19,
   "metadata": {},
   "outputs": [
    {
     "name": "stdout",
     "output_type": "stream",
     "text": [
      "../scenario_age_pred/data/small_group_description.csv\r\n",
      "../scenario_age_pred/data/test.csv\r\n",
      "../scenario_age_pred/data/train_target.csv\r\n",
      "../scenario_age_pred/data/transactions_test.csv\r\n",
      "../scenario_age_pred/data/transactions_train.csv\r\n"
     ]
    }
   ],
   "source": [
    "!ls ../scenario_age_pred/data/*.csv"
   ]
  },
  {
   "cell_type": "code",
   "execution_count": 23,
   "metadata": {},
   "outputs": [
    {
     "data": {
      "text/plain": [
       "array([889, 729, 748, ..., 715, 782, 876])"
      ]
     },
     "execution_count": 23,
     "metadata": {},
     "output_type": "execute_result"
    }
   ],
   "source": [
    "data_age_pred = pd.concat([\n",
    "    pd.read_csv('../scenario_age_pred/data/transactions_train.csv'),\n",
    "    pd.read_csv('../scenario_age_pred/data/transactions_test.csv'),\n",
    "], axis=0)\n",
    "\n",
    "data_age_pred = data_age_pred.assign(trx_cnt=1).groupby('client_id')['trx_cnt'].count().values\n",
    "\n",
    "data_age_pred"
   ]
  },
  {
   "cell_type": "code",
   "execution_count": null,
   "metadata": {},
   "outputs": [],
   "source": []
  },
  {
   "cell_type": "code",
   "execution_count": 25,
   "metadata": {},
   "outputs": [
    {
     "name": "stdout",
     "output_type": "stream",
     "text": [
      "../scenario_bowl2019/data/sample_submission.csv\r\n",
      "../scenario_bowl2019/data/specs.csv\r\n",
      "../scenario_bowl2019/data/test.csv\r\n",
      "../scenario_bowl2019/data/test_ids.csv\r\n",
      "../scenario_bowl2019/data/train.csv\r\n",
      "../scenario_bowl2019/data/train_labels.csv\r\n"
     ]
    }
   ],
   "source": [
    "!ls ../scenario_bowl2019/data/*.csv"
   ]
  },
  {
   "cell_type": "code",
   "execution_count": 30,
   "metadata": {},
   "outputs": [
    {
     "data": {
      "text/plain": [
       "array([1357,  181, 3801, ...,    3,  173,  251])"
      ]
     },
     "execution_count": 30,
     "metadata": {},
     "output_type": "execute_result"
    }
   ],
   "source": [
    "data_bowl = pd.concat([\n",
    "    pd.read_csv('../scenario_bowl2019/data/train.csv'),\n",
    "    pd.read_csv('../scenario_bowl2019/data/test.csv'),\n",
    "], axis=0)\n",
    "\n",
    "data_bowl = data_bowl.assign(trx_cnt=1).groupby('installation_id')['trx_cnt'].count().values\n",
    "\n",
    "data_bowl"
   ]
  },
  {
   "cell_type": "code",
   "execution_count": null,
   "metadata": {},
   "outputs": [],
   "source": []
  },
  {
   "cell_type": "code",
   "execution_count": 28,
   "metadata": {},
   "outputs": [
    {
     "name": "stdout",
     "output_type": "stream",
     "text": [
      "../scenario_rosbank/data/test.csv      ../scenario_rosbank/data/train.csv\r\n",
      "../scenario_rosbank/data/test_ids.csv\r\n"
     ]
    }
   ],
   "source": [
    "!ls ../scenario_rosbank/data/*.csv"
   ]
  },
  {
   "cell_type": "code",
   "execution_count": 31,
   "metadata": {},
   "outputs": [
    {
     "data": {
      "text/plain": [
       "array([  5, 104, 199, ..., 107,  24,  80])"
      ]
     },
     "execution_count": 31,
     "metadata": {},
     "output_type": "execute_result"
    }
   ],
   "source": [
    "data_rosbank = pd.concat([\n",
    "    pd.read_csv('../scenario_rosbank/data/train.csv').drop(columns=['target_flag', 'target_sum']),\n",
    "    pd.read_csv('../scenario_rosbank/data/test.csv'),\n",
    "], axis=0)\n",
    "\n",
    "data_rosbank = data_rosbank.assign(trx_cnt=1).groupby('cl_id')['trx_cnt'].count().values\n",
    "\n",
    "data_rosbank"
   ]
  },
  {
   "cell_type": "code",
   "execution_count": null,
   "metadata": {},
   "outputs": [],
   "source": []
  },
  {
   "cell_type": "code",
   "execution_count": 32,
   "metadata": {},
   "outputs": [
    {
     "name": "stdout",
     "output_type": "stream",
     "text": [
      "../scenario_x5/data/clients.csv\r\n",
      "../scenario_x5/data/products.csv\r\n",
      "../scenario_x5/data/purchases.csv\r\n",
      "../scenario_x5/data/uplift_sample_submission.csv\r\n",
      "../scenario_x5/data/uplift_test.csv\r\n",
      "../scenario_x5/data/uplift_train.csv\r\n"
     ]
    }
   ],
   "source": [
    "!ls ../scenario_x5/data/*.csv"
   ]
  },
  {
   "cell_type": "code",
   "execution_count": 33,
   "metadata": {},
   "outputs": [
    {
     "data": {
      "text/plain": [
       "array([ 52, 162,  56, ...,  60,  99, 203])"
      ]
     },
     "execution_count": 33,
     "metadata": {},
     "output_type": "execute_result"
    }
   ],
   "source": [
    "data_x5 = pd.read_csv('../scenario_x5/data/purchases.csv')\n",
    "\n",
    "data_x5 = data_x5.assign(trx_cnt=1).groupby('client_id')['trx_cnt'].count().values\n",
    "\n",
    "data_x5"
   ]
  },
  {
   "cell_type": "code",
   "execution_count": null,
   "metadata": {},
   "outputs": [],
   "source": []
  },
  {
   "cell_type": "code",
   "execution_count": 65,
   "metadata": {},
   "outputs": [],
   "source": [
    "data = [\n",
    "    ('Age group', data_age_pred),\n",
    "    ('Rosbank', data_rosbank),\n",
    "    # ('Gender', data_gender),\n",
    "    ('Assessment', data_bowl),\n",
    "    ('Retail', data_x5),\n",
    "]"
   ]
  },
  {
   "cell_type": "code",
   "execution_count": 67,
   "metadata": {},
   "outputs": [
    {
     "data": {
      "image/png": "[encoded data removed]",
      "text/plain": [
       "<Figure size 1008x504 with 1 Axes>"
      ]
     },
     "metadata": {
      "needs_background": "light"
     },
     "output_type": "display_data"
    }
   ],
   "source": [
    "with matplotlib.rc_context() as rc:\n",
    "    matplotlib.rc(\"figure\", figsize=(14,7))\n",
    "    matplotlib.rc('font', size=20)\n",
    "    \n",
    "    fig, ax = plt.subplots(1, 1)\n",
    "    for n, x in data:\n",
    "        hist, bins = np.histogram(x, bins=20, range=(np.min(x), np.percentile(x, 99)))\n",
    "        plt.plot((bins[:-1] + bins[1:]) / 2, hist / hist.max(), label=n)\n",
    "    plt.legend()\n",
    "    \n",
    "    ax.set_xlabel('Events per client')\n",
    "    plt.xscale('log')\n",
    "    \n",
    "    ax.set_ylabel('Frequency')\n",
    "    \n",
    "    ax.set_facecolor('white')\n",
    "\n",
    "    x_ticks = [2 ** i for i in range(4, 14, 2)]\n",
    "    plt.xticks(x_ticks,(str(x) for x in x_ticks))\n",
    "    #plt.grid(color='white')\n",
    "    \n",
    "    plt.savefig('all_scenario_events_per_client.pdf', format='pdf', bbox_inches='tight')\n"
   ]
  },
  {
   "cell_type": "code",
   "execution_count": null,
   "metadata": {},
   "outputs": [],
   "source": []
  }
 ],
 "metadata": {
  "kernelspec": {
   "display_name": "tdl",
   "language": "python",
   "name": "tdl"
  },
  "language_info": {
   "codemirror_mode": {
    "name": "ipython",
    "version": 3
   },
   "file_extension": ".py",
   "mimetype": "text/x-python",
   "name": "python",
   "nbconvert_exporter": "python",
   "pygments_lexer": "ipython3",
   "version": "3.7.9"
  }
 },
 "nbformat": 4,
 "nbformat_minor": 4
}
