{
 "cells": [
  {
   "cell_type": "code",
   "execution_count": 1,
   "metadata": {},
   "outputs": [],
   "source": [
    "%matplotlib inline\n",
    "import matplotlib.pyplot as plt"
   ]
  },
  {
   "cell_type": "code",
   "execution_count": 2,
   "metadata": {},
   "outputs": [],
   "source": [
    "from sklearn.model_selection import train_test_split"
   ]
  },
  {
   "cell_type": "code",
   "execution_count": 3,
   "metadata": {},
   "outputs": [],
   "source": [
    "import os"
   ]
  },
  {
   "cell_type": "code",
   "execution_count": 4,
   "metadata": {},
   "outputs": [],
   "source": [
    "import numpy as np\n",
    "import pandas as pd"
   ]
  },
  {
   "cell_type": "code",
   "execution_count": 5,
   "metadata": {},
   "outputs": [],
   "source": [
    "from IPython.display import display"
   ]
  },
  {
   "cell_type": "code",
   "execution_count": null,
   "metadata": {},
   "outputs": [],
   "source": []
  },
  {
   "cell_type": "code",
   "execution_count": 6,
   "metadata": {},
   "outputs": [],
   "source": [
    "PROJECT_PATH = '/data/kireev-ia/data_open_ds/data-like-tinkoff-2019/'"
   ]
  },
  {
   "cell_type": "code",
   "execution_count": 7,
   "metadata": {},
   "outputs": [
    {
     "name": "stdout",
     "output_type": "stream",
     "text": [
      "customer_test.csv\t    tinkoff_all_vectors.pickle\r\n",
      "customer_train.csv\t    TinkoffDataView.ipynb\r\n",
      "Hack_desc.xlsx\t\t    Tinkoff_Metric_Learning-Copy1.ipynb\r\n",
      "sample_submit.csv\t    Tinkoff_Metric_Learning.ipynb\r\n",
      "stories_description.csv     tinkoff_trx.p\r\n",
      "stories_reaction_test.csv   transactions.csv\r\n",
      "stories_reaction_train.csv\r\n"
     ]
    }
   ],
   "source": [
    "!ls $PROJECT_PATH"
   ]
  },
  {
   "cell_type": "code",
   "execution_count": null,
   "metadata": {},
   "outputs": [],
   "source": []
  },
  {
   "cell_type": "markdown",
   "metadata": {},
   "source": [
    "# customer"
   ]
  },
  {
   "cell_type": "code",
   "execution_count": 8,
   "metadata": {},
   "outputs": [
    {
     "data": {
      "text/html": [
       "<div>\n",
       "<style scoped>\n",
       "    .dataframe tbody tr th:only-of-type {\n",
       "        vertical-align: middle;\n",
       "    }\n",
       "\n",
       "    .dataframe tbody tr th {\n",
       "        vertical-align: top;\n",
       "    }\n",
       "\n",
       "    .dataframe thead th {\n",
       "        text-align: right;\n",
       "    }\n",
       "</style>\n",
       "<table border=\"1\" class=\"dataframe\">\n",
       "  <thead>\n",
       "    <tr style=\"text-align: right;\">\n",
       "      <th></th>\n",
       "      <th>customer_id</th>\n",
       "      <th>product_0</th>\n",
       "      <th>product_1</th>\n",
       "      <th>product_2</th>\n",
       "      <th>product_3</th>\n",
       "      <th>product_4</th>\n",
       "      <th>product_5</th>\n",
       "      <th>product_6</th>\n",
       "      <th>gender_cd</th>\n",
       "      <th>age</th>\n",
       "      <th>marital_status_cd</th>\n",
       "      <th>children_cnt</th>\n",
       "      <th>first_session_dttm</th>\n",
       "      <th>job_position_cd</th>\n",
       "      <th>job_title</th>\n",
       "    </tr>\n",
       "  </thead>\n",
       "  <tbody>\n",
       "    <tr>\n",
       "      <th>0</th>\n",
       "      <td>894436</td>\n",
       "      <td>NaN</td>\n",
       "      <td>NaN</td>\n",
       "      <td>NaN</td>\n",
       "      <td>NaN</td>\n",
       "      <td>NaN</td>\n",
       "      <td>UTL</td>\n",
       "      <td>NaN</td>\n",
       "      <td>M</td>\n",
       "      <td>30.0</td>\n",
       "      <td>MAR</td>\n",
       "      <td>0.0</td>\n",
       "      <td>2018-03-20 09:10:16</td>\n",
       "      <td>1</td>\n",
       "      <td>Неруководящий сотрудник - обсл. Персонал</td>\n",
       "    </tr>\n",
       "    <tr>\n",
       "      <th>1</th>\n",
       "      <td>524526</td>\n",
       "      <td>NaN</td>\n",
       "      <td>UTL</td>\n",
       "      <td>NaN</td>\n",
       "      <td>NaN</td>\n",
       "      <td>NaN</td>\n",
       "      <td>UTL</td>\n",
       "      <td>NaN</td>\n",
       "      <td>F</td>\n",
       "      <td>20.0</td>\n",
       "      <td>UNM</td>\n",
       "      <td>0.0</td>\n",
       "      <td>2017-03-29 20:38:45</td>\n",
       "      <td>16</td>\n",
       "      <td>NaN</td>\n",
       "    </tr>\n",
       "    <tr>\n",
       "      <th>2</th>\n",
       "      <td>498134</td>\n",
       "      <td>NaN</td>\n",
       "      <td>UTL</td>\n",
       "      <td>NaN</td>\n",
       "      <td>NaN</td>\n",
       "      <td>NaN</td>\n",
       "      <td>NaN</td>\n",
       "      <td>NaN</td>\n",
       "      <td>F</td>\n",
       "      <td>25.0</td>\n",
       "      <td>UNM</td>\n",
       "      <td>0.0</td>\n",
       "      <td>2018-03-12 11:25:06</td>\n",
       "      <td>22</td>\n",
       "      <td>NaN</td>\n",
       "    </tr>\n",
       "    <tr>\n",
       "      <th>3</th>\n",
       "      <td>278941</td>\n",
       "      <td>NaN</td>\n",
       "      <td>NaN</td>\n",
       "      <td>UTL</td>\n",
       "      <td>CLS</td>\n",
       "      <td>NaN</td>\n",
       "      <td>UTL</td>\n",
       "      <td>UTL</td>\n",
       "      <td>M</td>\n",
       "      <td>25.0</td>\n",
       "      <td>NaN</td>\n",
       "      <td>NaN</td>\n",
       "      <td>2016-02-21 18:47:51</td>\n",
       "      <td>16</td>\n",
       "      <td>Неруководящий сотрудник - специалист</td>\n",
       "    </tr>\n",
       "    <tr>\n",
       "      <th>4</th>\n",
       "      <td>877312</td>\n",
       "      <td>NaN</td>\n",
       "      <td>UTL</td>\n",
       "      <td>NaN</td>\n",
       "      <td>NaN</td>\n",
       "      <td>NaN</td>\n",
       "      <td>NaN</td>\n",
       "      <td>NaN</td>\n",
       "      <td>F</td>\n",
       "      <td>40.0</td>\n",
       "      <td>MAR</td>\n",
       "      <td>0.0</td>\n",
       "      <td>2018-03-07 11:17:02</td>\n",
       "      <td>22</td>\n",
       "      <td>NaN</td>\n",
       "    </tr>\n",
       "  </tbody>\n",
       "</table>\n",
       "</div>"
      ],
      "text/plain": [
       "   customer_id product_0 product_1 product_2 product_3 product_4 product_5  \\\n",
       "0       894436       NaN       NaN       NaN       NaN       NaN       UTL   \n",
       "1       524526       NaN       UTL       NaN       NaN       NaN       UTL   \n",
       "2       498134       NaN       UTL       NaN       NaN       NaN       NaN   \n",
       "3       278941       NaN       NaN       UTL       CLS       NaN       UTL   \n",
       "4       877312       NaN       UTL       NaN       NaN       NaN       NaN   \n",
       "\n",
       "  product_6 gender_cd   age marital_status_cd  children_cnt  \\\n",
       "0       NaN         M  30.0               MAR           0.0   \n",
       "1       NaN         F  20.0               UNM           0.0   \n",
       "2       NaN         F  25.0               UNM           0.0   \n",
       "3       UTL         M  25.0               NaN           NaN   \n",
       "4       NaN         F  40.0               MAR           0.0   \n",
       "\n",
       "    first_session_dttm  job_position_cd  \\\n",
       "0  2018-03-20 09:10:16                1   \n",
       "1  2017-03-29 20:38:45               16   \n",
       "2  2018-03-12 11:25:06               22   \n",
       "3  2016-02-21 18:47:51               16   \n",
       "4  2018-03-07 11:17:02               22   \n",
       "\n",
       "                                  job_title  \n",
       "0  Неруководящий сотрудник - обсл. Персонал  \n",
       "1                                       NaN  \n",
       "2                                       NaN  \n",
       "3      Неруководящий сотрудник - специалист  \n",
       "4                                       NaN  "
      ]
     },
     "execution_count": 8,
     "metadata": {},
     "output_type": "execute_result"
    }
   ],
   "source": [
    "df_cust_train = pd.read_csv(PROJECT_PATH + 'customer_train.csv')\n",
    "df_cust_train.head()"
   ]
  },
  {
   "cell_type": "code",
   "execution_count": 9,
   "metadata": {},
   "outputs": [
    {
     "data": {
      "text/html": [
       "<div>\n",
       "<style scoped>\n",
       "    .dataframe tbody tr th:only-of-type {\n",
       "        vertical-align: middle;\n",
       "    }\n",
       "\n",
       "    .dataframe tbody tr th {\n",
       "        vertical-align: top;\n",
       "    }\n",
       "\n",
       "    .dataframe thead th {\n",
       "        text-align: right;\n",
       "    }\n",
       "</style>\n",
       "<table border=\"1\" class=\"dataframe\">\n",
       "  <thead>\n",
       "    <tr style=\"text-align: right;\">\n",
       "      <th></th>\n",
       "      <th>customer_id</th>\n",
       "      <th>product_0</th>\n",
       "      <th>product_1</th>\n",
       "      <th>product_2</th>\n",
       "      <th>product_3</th>\n",
       "      <th>product_4</th>\n",
       "      <th>product_5</th>\n",
       "      <th>product_6</th>\n",
       "      <th>gender_cd</th>\n",
       "      <th>age</th>\n",
       "      <th>marital_status_cd</th>\n",
       "      <th>children_cnt</th>\n",
       "      <th>first_session_dttm</th>\n",
       "      <th>job_position_cd</th>\n",
       "      <th>job_title</th>\n",
       "    </tr>\n",
       "  </thead>\n",
       "  <tbody>\n",
       "    <tr>\n",
       "      <th>0</th>\n",
       "      <td>234305</td>\n",
       "      <td>NaN</td>\n",
       "      <td>NaN</td>\n",
       "      <td>NaN</td>\n",
       "      <td>NaN</td>\n",
       "      <td>NaN</td>\n",
       "      <td>UTL</td>\n",
       "      <td>NaN</td>\n",
       "      <td>F</td>\n",
       "      <td>25.0</td>\n",
       "      <td>NaN</td>\n",
       "      <td>0.0</td>\n",
       "      <td>2015-10-29 09:59:10</td>\n",
       "      <td>22</td>\n",
       "      <td>Менеджер проектов</td>\n",
       "    </tr>\n",
       "    <tr>\n",
       "      <th>1</th>\n",
       "      <td>914339</td>\n",
       "      <td>NaN</td>\n",
       "      <td>NaN</td>\n",
       "      <td>NaN</td>\n",
       "      <td>NaN</td>\n",
       "      <td>NaN</td>\n",
       "      <td>UTL</td>\n",
       "      <td>NaN</td>\n",
       "      <td>M</td>\n",
       "      <td>15.0</td>\n",
       "      <td>NaN</td>\n",
       "      <td>0.0</td>\n",
       "      <td>2018-04-09 08:51:54</td>\n",
       "      <td>22</td>\n",
       "      <td>NaN</td>\n",
       "    </tr>\n",
       "    <tr>\n",
       "      <th>2</th>\n",
       "      <td>895631</td>\n",
       "      <td>NaN</td>\n",
       "      <td>NaN</td>\n",
       "      <td>NaN</td>\n",
       "      <td>NaN</td>\n",
       "      <td>NaN</td>\n",
       "      <td>UTL</td>\n",
       "      <td>NaN</td>\n",
       "      <td>M</td>\n",
       "      <td>20.0</td>\n",
       "      <td>NaN</td>\n",
       "      <td>0.0</td>\n",
       "      <td>2018-03-22 10:38:33</td>\n",
       "      <td>16</td>\n",
       "      <td>Менеджер по продажам</td>\n",
       "    </tr>\n",
       "    <tr>\n",
       "      <th>3</th>\n",
       "      <td>954837</td>\n",
       "      <td>NaN</td>\n",
       "      <td>NaN</td>\n",
       "      <td>NaN</td>\n",
       "      <td>NaN</td>\n",
       "      <td>NaN</td>\n",
       "      <td>UTL</td>\n",
       "      <td>NaN</td>\n",
       "      <td>F</td>\n",
       "      <td>25.0</td>\n",
       "      <td>NaN</td>\n",
       "      <td>0.0</td>\n",
       "      <td>2018-05-09 18:24:32</td>\n",
       "      <td>16</td>\n",
       "      <td>Инженер</td>\n",
       "    </tr>\n",
       "    <tr>\n",
       "      <th>4</th>\n",
       "      <td>391590</td>\n",
       "      <td>NaN</td>\n",
       "      <td>UTL</td>\n",
       "      <td>NaN</td>\n",
       "      <td>NaN</td>\n",
       "      <td>NaN</td>\n",
       "      <td>NaN</td>\n",
       "      <td>NaN</td>\n",
       "      <td>M</td>\n",
       "      <td>30.0</td>\n",
       "      <td>UNM</td>\n",
       "      <td>0.0</td>\n",
       "      <td>2016-10-08 05:29:20</td>\n",
       "      <td>20</td>\n",
       "      <td>сборщик мебели</td>\n",
       "    </tr>\n",
       "  </tbody>\n",
       "</table>\n",
       "</div>"
      ],
      "text/plain": [
       "   customer_id product_0 product_1 product_2 product_3 product_4 product_5  \\\n",
       "0       234305       NaN       NaN       NaN       NaN       NaN       UTL   \n",
       "1       914339       NaN       NaN       NaN       NaN       NaN       UTL   \n",
       "2       895631       NaN       NaN       NaN       NaN       NaN       UTL   \n",
       "3       954837       NaN       NaN       NaN       NaN       NaN       UTL   \n",
       "4       391590       NaN       UTL       NaN       NaN       NaN       NaN   \n",
       "\n",
       "  product_6 gender_cd   age marital_status_cd  children_cnt  \\\n",
       "0       NaN         F  25.0               NaN           0.0   \n",
       "1       NaN         M  15.0               NaN           0.0   \n",
       "2       NaN         M  20.0               NaN           0.0   \n",
       "3       NaN         F  25.0               NaN           0.0   \n",
       "4       NaN         M  30.0               UNM           0.0   \n",
       "\n",
       "    first_session_dttm  job_position_cd             job_title  \n",
       "0  2015-10-29 09:59:10               22     Менеджер проектов  \n",
       "1  2018-04-09 08:51:54               22                   NaN  \n",
       "2  2018-03-22 10:38:33               16  Менеджер по продажам  \n",
       "3  2018-05-09 18:24:32               16               Инженер  \n",
       "4  2016-10-08 05:29:20               20        сборщик мебели  "
      ]
     },
     "execution_count": 9,
     "metadata": {},
     "output_type": "execute_result"
    }
   ],
   "source": [
    "df_cust_valid = pd.read_csv(PROJECT_PATH + 'customer_test.csv')\n",
    "df_cust_valid.head()"
   ]
  },
  {
   "cell_type": "markdown",
   "metadata": {},
   "source": [
    "# stories_reaction"
   ]
  },
  {
   "cell_type": "code",
   "execution_count": 10,
   "metadata": {},
   "outputs": [
    {
     "data": {
      "text/html": [
       "<div>\n",
       "<style scoped>\n",
       "    .dataframe tbody tr th:only-of-type {\n",
       "        vertical-align: middle;\n",
       "    }\n",
       "\n",
       "    .dataframe tbody tr th {\n",
       "        vertical-align: top;\n",
       "    }\n",
       "\n",
       "    .dataframe thead th {\n",
       "        text-align: right;\n",
       "    }\n",
       "</style>\n",
       "<table border=\"1\" class=\"dataframe\">\n",
       "  <thead>\n",
       "    <tr style=\"text-align: right;\">\n",
       "      <th></th>\n",
       "      <th>customer_id</th>\n",
       "      <th>story_id</th>\n",
       "      <th>event_dttm</th>\n",
       "      <th>event</th>\n",
       "    </tr>\n",
       "  </thead>\n",
       "  <tbody>\n",
       "    <tr>\n",
       "      <th>0</th>\n",
       "      <td>15</td>\n",
       "      <td>138</td>\n",
       "      <td>2018-07-24 15:33:22</td>\n",
       "      <td>view</td>\n",
       "    </tr>\n",
       "    <tr>\n",
       "      <th>1</th>\n",
       "      <td>15</td>\n",
       "      <td>202</td>\n",
       "      <td>2018-06-04 08:08:08</td>\n",
       "      <td>skip</td>\n",
       "    </tr>\n",
       "    <tr>\n",
       "      <th>2</th>\n",
       "      <td>15</td>\n",
       "      <td>222</td>\n",
       "      <td>2018-06-17 13:44:45</td>\n",
       "      <td>skip</td>\n",
       "    </tr>\n",
       "    <tr>\n",
       "      <th>3</th>\n",
       "      <td>15</td>\n",
       "      <td>379</td>\n",
       "      <td>2018-05-23 05:41:43</td>\n",
       "      <td>skip</td>\n",
       "    </tr>\n",
       "    <tr>\n",
       "      <th>4</th>\n",
       "      <td>15</td>\n",
       "      <td>544</td>\n",
       "      <td>2018-07-25 02:16:29</td>\n",
       "      <td>view</td>\n",
       "    </tr>\n",
       "  </tbody>\n",
       "</table>\n",
       "</div>"
      ],
      "text/plain": [
       "   customer_id  story_id           event_dttm event\n",
       "0           15       138  2018-07-24 15:33:22  view\n",
       "1           15       202  2018-06-04 08:08:08  skip\n",
       "2           15       222  2018-06-17 13:44:45  skip\n",
       "3           15       379  2018-05-23 05:41:43  skip\n",
       "4           15       544  2018-07-25 02:16:29  view"
      ]
     },
     "execution_count": 10,
     "metadata": {},
     "output_type": "execute_result"
    }
   ],
   "source": [
    "df_user_item_train = pd.read_csv(PROJECT_PATH + 'stories_reaction_train.csv')\n",
    "df_user_item_train.head()"
   ]
  },
  {
   "cell_type": "code",
   "execution_count": 11,
   "metadata": {},
   "outputs": [
    {
     "data": {
      "text/html": [
       "<div>\n",
       "<style scoped>\n",
       "    .dataframe tbody tr th:only-of-type {\n",
       "        vertical-align: middle;\n",
       "    }\n",
       "\n",
       "    .dataframe tbody tr th {\n",
       "        vertical-align: top;\n",
       "    }\n",
       "\n",
       "    .dataframe thead th {\n",
       "        text-align: right;\n",
       "    }\n",
       "</style>\n",
       "<table border=\"1\" class=\"dataframe\">\n",
       "  <thead>\n",
       "    <tr style=\"text-align: right;\">\n",
       "      <th></th>\n",
       "      <th>customer_id</th>\n",
       "      <th>story_id</th>\n",
       "      <th>event_dttm</th>\n",
       "      <th>answer_id</th>\n",
       "    </tr>\n",
       "  </thead>\n",
       "  <tbody>\n",
       "    <tr>\n",
       "      <th>0</th>\n",
       "      <td>466906</td>\n",
       "      <td>1152</td>\n",
       "      <td>2018-08-01 00:00:46</td>\n",
       "      <td>0</td>\n",
       "    </tr>\n",
       "    <tr>\n",
       "      <th>1</th>\n",
       "      <td>466906</td>\n",
       "      <td>1355</td>\n",
       "      <td>2018-08-01 00:00:46</td>\n",
       "      <td>1</td>\n",
       "    </tr>\n",
       "    <tr>\n",
       "      <th>2</th>\n",
       "      <td>146395</td>\n",
       "      <td>537</td>\n",
       "      <td>2018-08-01 00:02:08</td>\n",
       "      <td>2</td>\n",
       "    </tr>\n",
       "    <tr>\n",
       "      <th>3</th>\n",
       "      <td>897303</td>\n",
       "      <td>915</td>\n",
       "      <td>2018-08-01 00:02:30</td>\n",
       "      <td>3</td>\n",
       "    </tr>\n",
       "    <tr>\n",
       "      <th>4</th>\n",
       "      <td>50094</td>\n",
       "      <td>1415</td>\n",
       "      <td>2018-08-01 00:03:13</td>\n",
       "      <td>4</td>\n",
       "    </tr>\n",
       "  </tbody>\n",
       "</table>\n",
       "</div>"
      ],
      "text/plain": [
       "   customer_id  story_id           event_dttm  answer_id\n",
       "0       466906      1152  2018-08-01 00:00:46          0\n",
       "1       466906      1355  2018-08-01 00:00:46          1\n",
       "2       146395       537  2018-08-01 00:02:08          2\n",
       "3       897303       915  2018-08-01 00:02:30          3\n",
       "4        50094      1415  2018-08-01 00:03:13          4"
      ]
     },
     "execution_count": 11,
     "metadata": {},
     "output_type": "execute_result"
    }
   ],
   "source": [
    "df_user_item_valid = pd.read_csv(PROJECT_PATH + 'stories_reaction_test.csv')\n",
    "df_user_item_valid.head()"
   ]
  },
  {
   "cell_type": "code",
   "execution_count": 12,
   "metadata": {},
   "outputs": [],
   "source": [
    "df_user_item_train['event_dttm'] = pd.to_datetime(df_user_item_train['event_dttm'])\n",
    "df_user_item_valid['event_dttm'] = pd.to_datetime(df_user_item_valid['event_dttm'])"
   ]
  },
  {
   "cell_type": "code",
   "execution_count": 13,
   "metadata": {},
   "outputs": [
    {
     "data": {
      "text/plain": [
       "min   2018-03-29 11:30:44\n",
       "max   2018-07-31 23:58:14\n",
       "Name: event_dttm, dtype: datetime64[ns]"
      ]
     },
     "execution_count": 13,
     "metadata": {},
     "output_type": "execute_result"
    }
   ],
   "source": [
    "df_user_item_train['event_dttm'].agg(['min', 'max'])"
   ]
  },
  {
   "cell_type": "code",
   "execution_count": 14,
   "metadata": {},
   "outputs": [
    {
     "data": {
      "text/plain": [
       "min   2018-08-01 00:00:46\n",
       "max   2018-08-22 20:49:33\n",
       "Name: event_dttm, dtype: datetime64[ns]"
      ]
     },
     "execution_count": 14,
     "metadata": {},
     "output_type": "execute_result"
    }
   ],
   "source": [
    "df_user_item_valid['event_dttm'].agg(['min', 'max'])"
   ]
  },
  {
   "cell_type": "code",
   "execution_count": 15,
   "metadata": {},
   "outputs": [],
   "source": [
    "def plot_dates(s_dt):\n",
    "    s = s_dt.dt.floor('D')\n",
    "    s = s - pd.to_timedelta(s.dt.day - 1, 'D')\n",
    "    s = s.value_counts()\n",
    "    return s"
   ]
  },
  {
   "cell_type": "code",
   "execution_count": 16,
   "metadata": {},
   "outputs": [
    {
     "data": {
      "text/plain": [
       "<matplotlib.axes._subplots.AxesSubplot at 0x7fed95926a20>"
      ]
     },
     "execution_count": 16,
     "metadata": {},
     "output_type": "execute_result"
    },
    {
     "data": {
      "image/png": "[encoded data removed]",
      "text/plain": [
       "<Figure size 432x288 with 1 Axes>"
      ]
     },
     "metadata": {
      "needs_background": "light"
     },
     "output_type": "display_data"
    }
   ],
   "source": [
    "plot_dates(df_user_item_train['event_dttm']).plot()"
   ]
  },
  {
   "cell_type": "code",
   "execution_count": 17,
   "metadata": {},
   "outputs": [
    {
     "data": {
      "text/plain": [
       "2018-08-01    172049\n",
       "Name: event_dttm, dtype: int64"
      ]
     },
     "execution_count": 17,
     "metadata": {},
     "output_type": "execute_result"
    }
   ],
   "source": [
    "plot_dates(df_user_item_valid['event_dttm'])"
   ]
  },
  {
   "cell_type": "code",
   "execution_count": null,
   "metadata": {},
   "outputs": [],
   "source": []
  },
  {
   "cell_type": "code",
   "execution_count": 18,
   "metadata": {},
   "outputs": [
    {
     "data": {
      "text/plain": [
       "0.7333359165517135"
      ]
     },
     "execution_count": 18,
     "metadata": {},
     "output_type": "execute_result"
    }
   ],
   "source": [
    "len(df_user_item_train) / (len(df_user_item_train) + len(df_user_item_valid))"
   ]
  },
  {
   "cell_type": "code",
   "execution_count": 19,
   "metadata": {},
   "outputs": [],
   "source": [
    "df_user_item_train = df_user_item_train.sort_values('event_dttm')"
   ]
  },
  {
   "cell_type": "code",
   "execution_count": 20,
   "metadata": {},
   "outputs": [],
   "source": [
    "split_pos = int(len(df_user_item_train) * 0.75)\n",
    "df_user_item_train, df_user_item_test = df_user_item_train.iloc[:split_pos], df_user_item_train.iloc[split_pos:]"
   ]
  },
  {
   "cell_type": "code",
   "execution_count": 21,
   "metadata": {},
   "outputs": [
    {
     "data": {
      "text/plain": [
       "<matplotlib.axes._subplots.AxesSubplot at 0x7fed958853c8>"
      ]
     },
     "execution_count": 21,
     "metadata": {},
     "output_type": "execute_result"
    },
    {
     "data": {
      "image/png": "[encoded data removed]",
      "text/plain": [
       "<Figure size 432x288 with 1 Axes>"
      ]
     },
     "metadata": {
      "needs_background": "light"
     },
     "output_type": "display_data"
    }
   ],
   "source": [
    "plot_dates(df_user_item_train['event_dttm']).plot()"
   ]
  },
  {
   "cell_type": "code",
   "execution_count": 22,
   "metadata": {},
   "outputs": [
    {
     "data": {
      "text/plain": [
       "2018-07-01    118286\n",
       "Name: event_dttm, dtype: int64"
      ]
     },
     "execution_count": 22,
     "metadata": {},
     "output_type": "execute_result"
    }
   ],
   "source": [
    "plot_dates(df_user_item_test['event_dttm'])"
   ]
  },
  {
   "cell_type": "markdown",
   "metadata": {},
   "source": [
    "# transactions"
   ]
  },
  {
   "cell_type": "code",
   "execution_count": 23,
   "metadata": {},
   "outputs": [
    {
     "data": {
      "text/html": [
       "<div>\n",
       "<style scoped>\n",
       "    .dataframe tbody tr th:only-of-type {\n",
       "        vertical-align: middle;\n",
       "    }\n",
       "\n",
       "    .dataframe tbody tr th {\n",
       "        vertical-align: top;\n",
       "    }\n",
       "\n",
       "    .dataframe thead th {\n",
       "        text-align: right;\n",
       "    }\n",
       "</style>\n",
       "<table border=\"1\" class=\"dataframe\">\n",
       "  <thead>\n",
       "    <tr style=\"text-align: right;\">\n",
       "      <th></th>\n",
       "      <th>customer_id</th>\n",
       "      <th>transaction_month</th>\n",
       "      <th>transaction_day</th>\n",
       "      <th>transaction_amt</th>\n",
       "      <th>merchant_id</th>\n",
       "      <th>merchant_mcc</th>\n",
       "    </tr>\n",
       "  </thead>\n",
       "  <tbody>\n",
       "    <tr>\n",
       "      <th>0</th>\n",
       "      <td>855115</td>\n",
       "      <td>7</td>\n",
       "      <td>3</td>\n",
       "      <td>1500</td>\n",
       "      <td>4554547</td>\n",
       "      <td>5411</td>\n",
       "    </tr>\n",
       "    <tr>\n",
       "      <th>1</th>\n",
       "      <td>997036</td>\n",
       "      <td>6</td>\n",
       "      <td>6</td>\n",
       "      <td>0</td>\n",
       "      <td>1657528</td>\n",
       "      <td>5411</td>\n",
       "    </tr>\n",
       "    <tr>\n",
       "      <th>2</th>\n",
       "      <td>398237</td>\n",
       "      <td>5</td>\n",
       "      <td>24</td>\n",
       "      <td>2500</td>\n",
       "      <td>26375569</td>\n",
       "      <td>5813</td>\n",
       "    </tr>\n",
       "    <tr>\n",
       "      <th>3</th>\n",
       "      <td>997036</td>\n",
       "      <td>6</td>\n",
       "      <td>2</td>\n",
       "      <td>0</td>\n",
       "      <td>16304402</td>\n",
       "      <td>5411</td>\n",
       "    </tr>\n",
       "    <tr>\n",
       "      <th>4</th>\n",
       "      <td>291636</td>\n",
       "      <td>7</td>\n",
       "      <td>25</td>\n",
       "      <td>0</td>\n",
       "      <td>1259505</td>\n",
       "      <td>5411</td>\n",
       "    </tr>\n",
       "  </tbody>\n",
       "</table>\n",
       "</div>"
      ],
      "text/plain": [
       "   customer_id  transaction_month  transaction_day  transaction_amt  \\\n",
       "0       855115                  7                3             1500   \n",
       "1       997036                  6                6                0   \n",
       "2       398237                  5               24             2500   \n",
       "3       997036                  6                2                0   \n",
       "4       291636                  7               25                0   \n",
       "\n",
       "   merchant_id  merchant_mcc  \n",
       "0      4554547          5411  \n",
       "1      1657528          5411  \n",
       "2     26375569          5813  \n",
       "3     16304402          5411  \n",
       "4      1259505          5411  "
      ]
     },
     "execution_count": 23,
     "metadata": {},
     "output_type": "execute_result"
    }
   ],
   "source": [
    "df_trans = pd.read_csv(PROJECT_PATH + 'transactions.csv')\n",
    "df_trans.head()"
   ]
  },
  {
   "cell_type": "code",
   "execution_count": 24,
   "metadata": {},
   "outputs": [
    {
     "data": {
      "text/plain": [
       "46948"
      ]
     },
     "execution_count": 24,
     "metadata": {},
     "output_type": "execute_result"
    }
   ],
   "source": [
    "df_trans['customer_id'].nunique()"
   ]
  },
  {
   "cell_type": "markdown",
   "metadata": {},
   "source": [
    "# stories_description"
   ]
  },
  {
   "cell_type": "code",
   "execution_count": 25,
   "metadata": {},
   "outputs": [
    {
     "data": {
      "text/html": [
       "<div>\n",
       "<style scoped>\n",
       "    .dataframe tbody tr th:only-of-type {\n",
       "        vertical-align: middle;\n",
       "    }\n",
       "\n",
       "    .dataframe tbody tr th {\n",
       "        vertical-align: top;\n",
       "    }\n",
       "\n",
       "    .dataframe thead th {\n",
       "        text-align: right;\n",
       "    }\n",
       "</style>\n",
       "<table border=\"1\" class=\"dataframe\">\n",
       "  <thead>\n",
       "    <tr style=\"text-align: right;\">\n",
       "      <th></th>\n",
       "      <th>story_id</th>\n",
       "      <th>story_json</th>\n",
       "    </tr>\n",
       "  </thead>\n",
       "  <tbody>\n",
       "    <tr>\n",
       "      <th>0</th>\n",
       "      <td>127</td>\n",
       "      <td>{\"guid\":\"770a5bae-0e3f-4a6b-b924-bd87bd51a038\"...</td>\n",
       "    </tr>\n",
       "    <tr>\n",
       "      <th>1</th>\n",
       "      <td>254</td>\n",
       "      <td>{\"guid\":\"64f4c9ef-647b-4e04-b4d4-02297e939388\"...</td>\n",
       "    </tr>\n",
       "    <tr>\n",
       "      <th>2</th>\n",
       "      <td>865</td>\n",
       "      <td>{\"guid\":\"3482206b-d223-4aec-92ba-0150055cd68a\"...</td>\n",
       "    </tr>\n",
       "    <tr>\n",
       "      <th>3</th>\n",
       "      <td>1491</td>\n",
       "      <td>{\"guid\":\"5f4a9215-01de-4777-b70f-a18899db8f1c\"...</td>\n",
       "    </tr>\n",
       "    <tr>\n",
       "      <th>4</th>\n",
       "      <td>598</td>\n",
       "      <td>{\"guid\":\"ed8754bd-67be-4fa1-9289-5508d96f1fa4\"...</td>\n",
       "    </tr>\n",
       "  </tbody>\n",
       "</table>\n",
       "</div>"
      ],
      "text/plain": [
       "   story_id                                         story_json\n",
       "0       127  {\"guid\":\"770a5bae-0e3f-4a6b-b924-bd87bd51a038\"...\n",
       "1       254  {\"guid\":\"64f4c9ef-647b-4e04-b4d4-02297e939388\"...\n",
       "2       865  {\"guid\":\"3482206b-d223-4aec-92ba-0150055cd68a\"...\n",
       "3      1491  {\"guid\":\"5f4a9215-01de-4777-b70f-a18899db8f1c\"...\n",
       "4       598  {\"guid\":\"ed8754bd-67be-4fa1-9289-5508d96f1fa4\"..."
      ]
     },
     "execution_count": 25,
     "metadata": {},
     "output_type": "execute_result"
    }
   ],
   "source": [
    "df_stories = pd.read_csv(PROJECT_PATH + 'stories_description.csv')\n",
    "df_stories.head()"
   ]
  },
  {
   "cell_type": "code",
   "execution_count": null,
   "metadata": {},
   "outputs": [],
   "source": []
  },
  {
   "cell_type": "markdown",
   "metadata": {},
   "source": [
    "# Baseline"
   ]
  },
  {
   "cell_type": "code",
   "execution_count": 26,
   "metadata": {},
   "outputs": [
    {
     "data": {
      "text/plain": [
       "dislike   -10.0\n",
       "skip       -0.1\n",
       "view        0.1\n",
       "like        0.5\n",
       "dtype: float64"
      ]
     },
     "execution_count": 26,
     "metadata": {},
     "output_type": "execute_result"
    }
   ],
   "source": [
    "df_event_weights = pd.Series({\n",
    "    'dislike': -10,\n",
    "    'skip': -0.1,\n",
    "    'view': 0.1,\n",
    "    'like': 0.5,\n",
    "})\n",
    "df_event_weights"
   ]
  },
  {
   "cell_type": "code",
   "execution_count": 27,
   "metadata": {},
   "outputs": [],
   "source": [
    "def tinkoff_metric(df):\n",
    "    s_event_weights = df['event'].map(df_event_weights)\n",
    "    res = s_event_weights * df['score']\n",
    "    return res.mean()"
   ]
  },
  {
   "cell_type": "markdown",
   "metadata": {},
   "source": [
    "## Const"
   ]
  },
  {
   "cell_type": "code",
   "execution_count": 28,
   "metadata": {},
   "outputs": [],
   "source": [
    "df_test_predict = df_user_item_test.copy()\n",
    "df_test_predict['score'] = -1"
   ]
  },
  {
   "cell_type": "code",
   "execution_count": 29,
   "metadata": {},
   "outputs": [
    {
     "data": {
      "text/plain": [
       "0.057477638942901095"
      ]
     },
     "execution_count": 29,
     "metadata": {},
     "output_type": "execute_result"
    }
   ],
   "source": [
    "tinkoff_metric(df_test_predict)"
   ]
  },
  {
   "cell_type": "markdown",
   "metadata": {},
   "source": [
    "## Polular features"
   ]
  },
  {
   "cell_type": "code",
   "execution_count": 30,
   "metadata": {},
   "outputs": [
    {
     "data": {
      "text/plain": [
       "event\n",
       "dislike    0.014606\n",
       "like       0.132426\n",
       "skip       0.353203\n",
       "view       0.499765\n",
       "Name: customer_id, dtype: float64"
      ]
     },
     "execution_count": 30,
     "metadata": {},
     "output_type": "execute_result"
    }
   ],
   "source": [
    "# fit default_value\n",
    "s_default_reaction_proba = df_user_item_train.groupby('event')['customer_id'].count() / len(df_user_item_train)\n",
    "s_default_reaction_proba"
   ]
  },
  {
   "cell_type": "code",
   "execution_count": 78,
   "metadata": {},
   "outputs": [
    {
     "data": {
      "text/html": [
       "<div>\n",
       "<style scoped>\n",
       "    .dataframe tbody tr th:only-of-type {\n",
       "        vertical-align: middle;\n",
       "    }\n",
       "\n",
       "    .dataframe tbody tr th {\n",
       "        vertical-align: top;\n",
       "    }\n",
       "\n",
       "    .dataframe thead th {\n",
       "        text-align: right;\n",
       "    }\n",
       "</style>\n",
       "<table border=\"1\" class=\"dataframe\">\n",
       "  <thead>\n",
       "    <tr style=\"text-align: right;\">\n",
       "      <th>event</th>\n",
       "      <th>dislike</th>\n",
       "      <th>like</th>\n",
       "      <th>skip</th>\n",
       "      <th>view</th>\n",
       "    </tr>\n",
       "    <tr>\n",
       "      <th>customer_id</th>\n",
       "      <th></th>\n",
       "      <th></th>\n",
       "      <th></th>\n",
       "      <th></th>\n",
       "    </tr>\n",
       "  </thead>\n",
       "  <tbody>\n",
       "    <tr>\n",
       "      <th>15</th>\n",
       "      <td>0.000811</td>\n",
       "      <td>0.007357</td>\n",
       "      <td>0.408511</td>\n",
       "      <td>0.583320</td>\n",
       "    </tr>\n",
       "    <tr>\n",
       "      <th>73</th>\n",
       "      <td>0.001043</td>\n",
       "      <td>0.009459</td>\n",
       "      <td>0.810943</td>\n",
       "      <td>0.178555</td>\n",
       "    </tr>\n",
       "    <tr>\n",
       "      <th>129</th>\n",
       "      <td>0.000859</td>\n",
       "      <td>0.007790</td>\n",
       "      <td>0.550188</td>\n",
       "      <td>0.441163</td>\n",
       "    </tr>\n",
       "    <tr>\n",
       "      <th>178</th>\n",
       "      <td>0.002434</td>\n",
       "      <td>0.022071</td>\n",
       "      <td>0.892201</td>\n",
       "      <td>0.083294</td>\n",
       "    </tr>\n",
       "    <tr>\n",
       "      <th>362</th>\n",
       "      <td>0.167478</td>\n",
       "      <td>0.007357</td>\n",
       "      <td>0.019622</td>\n",
       "      <td>0.805542</td>\n",
       "    </tr>\n",
       "    <tr>\n",
       "      <th>...</th>\n",
       "      <td>...</td>\n",
       "      <td>...</td>\n",
       "      <td>...</td>\n",
       "      <td>...</td>\n",
       "    </tr>\n",
       "    <tr>\n",
       "      <th>1034355</th>\n",
       "      <td>0.001217</td>\n",
       "      <td>0.011035</td>\n",
       "      <td>0.862767</td>\n",
       "      <td>0.124980</td>\n",
       "    </tr>\n",
       "    <tr>\n",
       "      <th>1040157</th>\n",
       "      <td>0.002434</td>\n",
       "      <td>0.022071</td>\n",
       "      <td>0.558867</td>\n",
       "      <td>0.416627</td>\n",
       "    </tr>\n",
       "    <tr>\n",
       "      <th>1042646</th>\n",
       "      <td>0.002434</td>\n",
       "      <td>0.022071</td>\n",
       "      <td>0.558867</td>\n",
       "      <td>0.416627</td>\n",
       "    </tr>\n",
       "    <tr>\n",
       "      <th>1085762</th>\n",
       "      <td>0.000974</td>\n",
       "      <td>0.008828</td>\n",
       "      <td>0.290214</td>\n",
       "      <td>0.699984</td>\n",
       "    </tr>\n",
       "    <tr>\n",
       "      <th>1103495</th>\n",
       "      <td>0.001217</td>\n",
       "      <td>0.011035</td>\n",
       "      <td>0.029434</td>\n",
       "      <td>0.958314</td>\n",
       "    </tr>\n",
       "  </tbody>\n",
       "</table>\n",
       "<p>17421 rows × 4 columns</p>\n",
       "</div>"
      ],
      "text/plain": [
       "event         dislike      like      skip      view\n",
       "customer_id                                        \n",
       "15           0.000811  0.007357  0.408511  0.583320\n",
       "73           0.001043  0.009459  0.810943  0.178555\n",
       "129          0.000859  0.007790  0.550188  0.441163\n",
       "178          0.002434  0.022071  0.892201  0.083294\n",
       "362          0.167478  0.007357  0.019622  0.805542\n",
       "...               ...       ...       ...       ...\n",
       "1034355      0.001217  0.011035  0.862767  0.124980\n",
       "1040157      0.002434  0.022071  0.558867  0.416627\n",
       "1042646      0.002434  0.022071  0.558867  0.416627\n",
       "1085762      0.000974  0.008828  0.290214  0.699984\n",
       "1103495      0.001217  0.011035  0.029434  0.958314\n",
       "\n",
       "[17421 rows x 4 columns]"
      ]
     },
     "execution_count": 78,
     "metadata": {},
     "output_type": "execute_result"
    }
   ],
   "source": [
    "# fit users\n",
    "df_user_reaction_proba = df_user_item_train \\\n",
    "    [lambda x: x['customer_id'].isin(\n",
    "        df_user_item_train.groupby('customer_id')['event_dttm'].count()[lambda x: x > 3].index)] \\\n",
    "    .pivot_table(\n",
    "        index='customer_id', columns='event',\n",
    "        values='story_id', aggfunc='count', fill_value=0)\n",
    "\n",
    "df_user_reaction_proba = df_user_reaction_proba + s_default_reaction_proba\n",
    "df_user_reaction_proba = df_user_reaction_proba.div(df_user_reaction_proba.sum(axis=1), axis=0)\n",
    "\n",
    "df_user_reaction_proba"
   ]
  },
  {
   "cell_type": "code",
   "execution_count": 79,
   "metadata": {},
   "outputs": [
    {
     "data": {
      "text/html": [
       "<div>\n",
       "<style scoped>\n",
       "    .dataframe tbody tr th:only-of-type {\n",
       "        vertical-align: middle;\n",
       "    }\n",
       "\n",
       "    .dataframe tbody tr th {\n",
       "        vertical-align: top;\n",
       "    }\n",
       "\n",
       "    .dataframe thead th {\n",
       "        text-align: right;\n",
       "    }\n",
       "</style>\n",
       "<table border=\"1\" class=\"dataframe\">\n",
       "  <thead>\n",
       "    <tr style=\"text-align: right;\">\n",
       "      <th>event</th>\n",
       "      <th>dislike</th>\n",
       "      <th>like</th>\n",
       "      <th>skip</th>\n",
       "      <th>view</th>\n",
       "    </tr>\n",
       "    <tr>\n",
       "      <th>story_id</th>\n",
       "      <th></th>\n",
       "      <th></th>\n",
       "      <th></th>\n",
       "      <th></th>\n",
       "    </tr>\n",
       "  </thead>\n",
       "  <tbody>\n",
       "    <tr>\n",
       "      <th>123</th>\n",
       "      <td>0.000016</td>\n",
       "      <td>0.000146</td>\n",
       "      <td>0.404152</td>\n",
       "      <td>0.595686</td>\n",
       "    </tr>\n",
       "    <tr>\n",
       "      <th>126</th>\n",
       "      <td>0.000022</td>\n",
       "      <td>0.000202</td>\n",
       "      <td>0.776112</td>\n",
       "      <td>0.223664</td>\n",
       "    </tr>\n",
       "    <tr>\n",
       "      <th>127</th>\n",
       "      <td>0.000221</td>\n",
       "      <td>0.002006</td>\n",
       "      <td>0.778079</td>\n",
       "      <td>0.219693</td>\n",
       "    </tr>\n",
       "    <tr>\n",
       "      <th>128</th>\n",
       "      <td>0.000019</td>\n",
       "      <td>0.000170</td>\n",
       "      <td>0.424073</td>\n",
       "      <td>0.575738</td>\n",
       "    </tr>\n",
       "    <tr>\n",
       "      <th>129</th>\n",
       "      <td>0.000044</td>\n",
       "      <td>0.000395</td>\n",
       "      <td>0.514487</td>\n",
       "      <td>0.485074</td>\n",
       "    </tr>\n",
       "    <tr>\n",
       "      <th>...</th>\n",
       "      <td>...</td>\n",
       "      <td>...</td>\n",
       "      <td>...</td>\n",
       "      <td>...</td>\n",
       "    </tr>\n",
       "    <tr>\n",
       "      <th>1100023</th>\n",
       "      <td>0.001043</td>\n",
       "      <td>0.009459</td>\n",
       "      <td>0.168086</td>\n",
       "      <td>0.821412</td>\n",
       "    </tr>\n",
       "    <tr>\n",
       "      <th>1100025</th>\n",
       "      <td>0.000974</td>\n",
       "      <td>0.008828</td>\n",
       "      <td>0.090214</td>\n",
       "      <td>0.899984</td>\n",
       "    </tr>\n",
       "    <tr>\n",
       "      <th>1100026</th>\n",
       "      <td>0.002921</td>\n",
       "      <td>0.026485</td>\n",
       "      <td>0.070641</td>\n",
       "      <td>0.899953</td>\n",
       "    </tr>\n",
       "    <tr>\n",
       "      <th>1100027</th>\n",
       "      <td>0.001826</td>\n",
       "      <td>0.016553</td>\n",
       "      <td>0.044150</td>\n",
       "      <td>0.937471</td>\n",
       "    </tr>\n",
       "    <tr>\n",
       "      <th>1100028</th>\n",
       "      <td>0.001328</td>\n",
       "      <td>0.012039</td>\n",
       "      <td>0.123018</td>\n",
       "      <td>0.863615</td>\n",
       "    </tr>\n",
       "  </tbody>\n",
       "</table>\n",
       "<p>749 rows × 4 columns</p>\n",
       "</div>"
      ],
      "text/plain": [
       "event      dislike      like      skip      view\n",
       "story_id                                        \n",
       "123       0.000016  0.000146  0.404152  0.595686\n",
       "126       0.000022  0.000202  0.776112  0.223664\n",
       "127       0.000221  0.002006  0.778079  0.219693\n",
       "128       0.000019  0.000170  0.424073  0.575738\n",
       "129       0.000044  0.000395  0.514487  0.485074\n",
       "...            ...       ...       ...       ...\n",
       "1100023   0.001043  0.009459  0.168086  0.821412\n",
       "1100025   0.000974  0.008828  0.090214  0.899984\n",
       "1100026   0.002921  0.026485  0.070641  0.899953\n",
       "1100027   0.001826  0.016553  0.044150  0.937471\n",
       "1100028   0.001328  0.012039  0.123018  0.863615\n",
       "\n",
       "[749 rows x 4 columns]"
      ]
     },
     "execution_count": 79,
     "metadata": {},
     "output_type": "execute_result"
    }
   ],
   "source": [
    "# fit items\n",
    "df_item_reaction_proba = df_user_item_train \\\n",
    "    [lambda x: x['story_id'].isin(\n",
    "        df_user_item_train.groupby('story_id')['event_dttm'].count()[lambda x: x > 3].index)] \\\n",
    "    .pivot_table(\n",
    "        index='story_id', columns='event',\n",
    "        values='customer_id', aggfunc='count', fill_value=0)\n",
    "\n",
    "df_item_reaction_proba = df_item_reaction_proba + s_default_reaction_proba\n",
    "df_item_reaction_proba = df_item_reaction_proba.div(df_item_reaction_proba.sum(axis=1), axis=0)\n",
    "\n",
    "df_item_reaction_proba"
   ]
  },
  {
   "cell_type": "code",
   "execution_count": 33,
   "metadata": {},
   "outputs": [],
   "source": [
    "COLS_EVENT = ['dislike', 'like', 'skip', 'view']"
   ]
  },
  {
   "cell_type": "code",
   "execution_count": null,
   "metadata": {},
   "outputs": [],
   "source": []
  },
  {
   "cell_type": "code",
   "execution_count": 41,
   "metadata": {},
   "outputs": [
    {
     "data": {
      "text/html": [
       "<div>\n",
       "<style scoped>\n",
       "    .dataframe tbody tr th:only-of-type {\n",
       "        vertical-align: middle;\n",
       "    }\n",
       "\n",
       "    .dataframe tbody tr th {\n",
       "        vertical-align: top;\n",
       "    }\n",
       "\n",
       "    .dataframe thead th {\n",
       "        text-align: right;\n",
       "    }\n",
       "</style>\n",
       "<table border=\"1\" class=\"dataframe\">\n",
       "  <thead>\n",
       "    <tr style=\"text-align: right;\">\n",
       "      <th></th>\n",
       "      <th>count</th>\n",
       "      <th>sum</th>\n",
       "      <th>mean</th>\n",
       "      <th>0.1</th>\n",
       "      <th>0.25</th>\n",
       "      <th>0.5</th>\n",
       "      <th>0.75</th>\n",
       "      <th>0.9</th>\n",
       "    </tr>\n",
       "    <tr>\n",
       "      <th>customer_id</th>\n",
       "      <th></th>\n",
       "      <th></th>\n",
       "      <th></th>\n",
       "      <th></th>\n",
       "      <th></th>\n",
       "      <th></th>\n",
       "      <th></th>\n",
       "      <th></th>\n",
       "    </tr>\n",
       "  </thead>\n",
       "  <tbody>\n",
       "    <tr>\n",
       "      <th>15</th>\n",
       "      <td>0.461512</td>\n",
       "      <td>1.461347</td>\n",
       "      <td>1.000834</td>\n",
       "      <td>0.621661</td>\n",
       "      <td>0.690875</td>\n",
       "      <td>0.782445</td>\n",
       "      <td>0.874050</td>\n",
       "      <td>1.026817</td>\n",
       "    </tr>\n",
       "    <tr>\n",
       "      <th>73</th>\n",
       "      <td>0.572359</td>\n",
       "      <td>1.395484</td>\n",
       "      <td>0.823479</td>\n",
       "      <td>0.000000</td>\n",
       "      <td>0.000000</td>\n",
       "      <td>0.621661</td>\n",
       "      <td>0.731389</td>\n",
       "      <td>0.866579</td>\n",
       "    </tr>\n",
       "    <tr>\n",
       "      <th>91</th>\n",
       "      <td>0.477912</td>\n",
       "      <td>1.295631</td>\n",
       "      <td>0.818590</td>\n",
       "      <td>0.000000</td>\n",
       "      <td>0.621661</td>\n",
       "      <td>0.690875</td>\n",
       "      <td>0.782445</td>\n",
       "      <td>0.908262</td>\n",
       "    </tr>\n",
       "    <tr>\n",
       "      <th>144</th>\n",
       "      <td>0.179176</td>\n",
       "      <td>0.851739</td>\n",
       "      <td>0.690875</td>\n",
       "      <td>0.530330</td>\n",
       "      <td>0.621661</td>\n",
       "      <td>0.621661</td>\n",
       "      <td>0.690875</td>\n",
       "      <td>0.769667</td>\n",
       "    </tr>\n",
       "    <tr>\n",
       "      <th>150</th>\n",
       "      <td>0.160944</td>\n",
       "      <td>0.000000</td>\n",
       "      <td>0.000000</td>\n",
       "      <td>0.000000</td>\n",
       "      <td>0.000000</td>\n",
       "      <td>0.000000</td>\n",
       "      <td>0.000000</td>\n",
       "      <td>0.000000</td>\n",
       "    </tr>\n",
       "  </tbody>\n",
       "</table>\n",
       "</div>"
      ],
      "text/plain": [
       "                count       sum      mean       0.1      0.25       0.5  \\\n",
       "customer_id                                                               \n",
       "15           0.461512  1.461347  1.000834  0.621661  0.690875  0.782445   \n",
       "73           0.572359  1.395484  0.823479  0.000000  0.000000  0.621661   \n",
       "91           0.477912  1.295631  0.818590  0.000000  0.621661  0.690875   \n",
       "144          0.179176  0.851739  0.690875  0.530330  0.621661  0.621661   \n",
       "150          0.160944  0.000000  0.000000  0.000000  0.000000  0.000000   \n",
       "\n",
       "                 0.75       0.9  \n",
       "customer_id                      \n",
       "15           0.874050  1.026817  \n",
       "73           0.731389  0.866579  \n",
       "91           0.782445  0.908262  \n",
       "144          0.690875  0.769667  \n",
       "150          0.000000  0.000000  "
      ]
     },
     "execution_count": 41,
     "metadata": {},
     "output_type": "execute_result"
    }
   ],
   "source": [
    "df_amnt_agg = pd.concat([\n",
    "    df_trans.groupby('customer_id')['transaction_amt'].agg(['count', 'sum', 'mean']),\n",
    "    df_trans.groupby('customer_id')['transaction_amt'].quantile([0.1, 0.25, 0.5, 0.75, 0.9]).unstack(),\n",
    "], axis=1)\n",
    "\n",
    "df_amnt_agg = np.log1p(df_amnt_agg) / 10\n",
    "\n",
    "df_amnt_agg.head()"
   ]
  },
  {
   "cell_type": "code",
   "execution_count": null,
   "metadata": {},
   "outputs": [],
   "source": []
  },
  {
   "cell_type": "code",
   "execution_count": 42,
   "metadata": {},
   "outputs": [],
   "source": [
    "ix_mcc = df_trans['merchant_mcc'].value_counts().iloc[:127].index.tolist()"
   ]
  },
  {
   "cell_type": "code",
   "execution_count": 43,
   "metadata": {},
   "outputs": [],
   "source": [
    "def norm_row(df):\n",
    "    return df.div(df.sum(axis=1) + 1e-5, axis=0)"
   ]
  },
  {
   "cell_type": "code",
   "execution_count": 44,
   "metadata": {},
   "outputs": [
    {
     "data": {
      "text/html": [
       "<div>\n",
       "<style scoped>\n",
       "    .dataframe tbody tr th:only-of-type {\n",
       "        vertical-align: middle;\n",
       "    }\n",
       "\n",
       "    .dataframe tbody tr th {\n",
       "        vertical-align: top;\n",
       "    }\n",
       "\n",
       "    .dataframe thead tr th {\n",
       "        text-align: left;\n",
       "    }\n",
       "\n",
       "    .dataframe thead tr:last-of-type th {\n",
       "        text-align: right;\n",
       "    }\n",
       "</style>\n",
       "<table border=\"1\" class=\"dataframe\">\n",
       "  <thead>\n",
       "    <tr>\n",
       "      <th></th>\n",
       "      <th colspan=\"10\" halign=\"left\">count</th>\n",
       "      <th>...</th>\n",
       "      <th colspan=\"10\" halign=\"left\">std</th>\n",
       "    </tr>\n",
       "    <tr>\n",
       "      <th>merchant_mcc</th>\n",
       "      <th>0.0</th>\n",
       "      <th>1.0</th>\n",
       "      <th>2.0</th>\n",
       "      <th>3.0</th>\n",
       "      <th>4.0</th>\n",
       "      <th>5.0</th>\n",
       "      <th>6.0</th>\n",
       "      <th>7.0</th>\n",
       "      <th>8.0</th>\n",
       "      <th>9.0</th>\n",
       "      <th>...</th>\n",
       "      <th>118.0</th>\n",
       "      <th>119.0</th>\n",
       "      <th>120.0</th>\n",
       "      <th>121.0</th>\n",
       "      <th>122.0</th>\n",
       "      <th>123.0</th>\n",
       "      <th>124.0</th>\n",
       "      <th>125.0</th>\n",
       "      <th>126.0</th>\n",
       "      <th>127.0</th>\n",
       "    </tr>\n",
       "    <tr>\n",
       "      <th>customer_id</th>\n",
       "      <th></th>\n",
       "      <th></th>\n",
       "      <th></th>\n",
       "      <th></th>\n",
       "      <th></th>\n",
       "      <th></th>\n",
       "      <th></th>\n",
       "      <th></th>\n",
       "      <th></th>\n",
       "      <th></th>\n",
       "      <th></th>\n",
       "      <th></th>\n",
       "      <th></th>\n",
       "      <th></th>\n",
       "      <th></th>\n",
       "      <th></th>\n",
       "      <th></th>\n",
       "      <th></th>\n",
       "      <th></th>\n",
       "      <th></th>\n",
       "      <th></th>\n",
       "    </tr>\n",
       "  </thead>\n",
       "  <tbody>\n",
       "    <tr>\n",
       "      <th>15</th>\n",
       "      <td>0.080000</td>\n",
       "      <td>0.260000</td>\n",
       "      <td>0.020000</td>\n",
       "      <td>0.080000</td>\n",
       "      <td>0.080000</td>\n",
       "      <td>0.000000</td>\n",
       "      <td>0.000000</td>\n",
       "      <td>0.04000</td>\n",
       "      <td>0.030000</td>\n",
       "      <td>0.000000</td>\n",
       "      <td>...</td>\n",
       "      <td>0.0</td>\n",
       "      <td>0.0</td>\n",
       "      <td>0.0</td>\n",
       "      <td>0.0</td>\n",
       "      <td>0.0</td>\n",
       "      <td>0.0</td>\n",
       "      <td>0.0</td>\n",
       "      <td>0.0</td>\n",
       "      <td>0.0</td>\n",
       "      <td>0.0</td>\n",
       "    </tr>\n",
       "    <tr>\n",
       "      <th>73</th>\n",
       "      <td>0.019672</td>\n",
       "      <td>0.150820</td>\n",
       "      <td>0.026230</td>\n",
       "      <td>0.013115</td>\n",
       "      <td>0.036066</td>\n",
       "      <td>0.295082</td>\n",
       "      <td>0.016393</td>\n",
       "      <td>0.02623</td>\n",
       "      <td>0.009836</td>\n",
       "      <td>0.009836</td>\n",
       "      <td>...</td>\n",
       "      <td>0.0</td>\n",
       "      <td>0.0</td>\n",
       "      <td>0.0</td>\n",
       "      <td>0.0</td>\n",
       "      <td>0.0</td>\n",
       "      <td>0.0</td>\n",
       "      <td>0.0</td>\n",
       "      <td>0.0</td>\n",
       "      <td>0.0</td>\n",
       "      <td>0.0</td>\n",
       "    </tr>\n",
       "    <tr>\n",
       "      <th>91</th>\n",
       "      <td>0.025424</td>\n",
       "      <td>0.152542</td>\n",
       "      <td>0.101695</td>\n",
       "      <td>0.016949</td>\n",
       "      <td>0.076271</td>\n",
       "      <td>0.025424</td>\n",
       "      <td>0.144068</td>\n",
       "      <td>0.00000</td>\n",
       "      <td>0.000000</td>\n",
       "      <td>0.067797</td>\n",
       "      <td>...</td>\n",
       "      <td>0.0</td>\n",
       "      <td>0.0</td>\n",
       "      <td>0.0</td>\n",
       "      <td>0.0</td>\n",
       "      <td>0.0</td>\n",
       "      <td>0.0</td>\n",
       "      <td>0.0</td>\n",
       "      <td>0.0</td>\n",
       "      <td>0.0</td>\n",
       "      <td>0.0</td>\n",
       "    </tr>\n",
       "    <tr>\n",
       "      <th>144</th>\n",
       "      <td>0.000000</td>\n",
       "      <td>0.000000</td>\n",
       "      <td>0.000000</td>\n",
       "      <td>0.000000</td>\n",
       "      <td>0.000000</td>\n",
       "      <td>0.000000</td>\n",
       "      <td>0.000000</td>\n",
       "      <td>0.20000</td>\n",
       "      <td>0.399999</td>\n",
       "      <td>0.000000</td>\n",
       "      <td>...</td>\n",
       "      <td>0.0</td>\n",
       "      <td>0.0</td>\n",
       "      <td>0.0</td>\n",
       "      <td>0.0</td>\n",
       "      <td>0.0</td>\n",
       "      <td>0.0</td>\n",
       "      <td>0.0</td>\n",
       "      <td>0.0</td>\n",
       "      <td>0.0</td>\n",
       "      <td>0.0</td>\n",
       "    </tr>\n",
       "    <tr>\n",
       "      <th>150</th>\n",
       "      <td>0.000000</td>\n",
       "      <td>0.499999</td>\n",
       "      <td>0.000000</td>\n",
       "      <td>0.249999</td>\n",
       "      <td>0.000000</td>\n",
       "      <td>0.000000</td>\n",
       "      <td>0.000000</td>\n",
       "      <td>0.00000</td>\n",
       "      <td>0.249999</td>\n",
       "      <td>0.000000</td>\n",
       "      <td>...</td>\n",
       "      <td>0.0</td>\n",
       "      <td>0.0</td>\n",
       "      <td>0.0</td>\n",
       "      <td>0.0</td>\n",
       "      <td>0.0</td>\n",
       "      <td>0.0</td>\n",
       "      <td>0.0</td>\n",
       "      <td>0.0</td>\n",
       "      <td>0.0</td>\n",
       "      <td>0.0</td>\n",
       "    </tr>\n",
       "  </tbody>\n",
       "</table>\n",
       "<p>5 rows × 384 columns</p>\n",
       "</div>"
      ],
      "text/plain": [
       "                 count                                                    \\\n",
       "merchant_mcc     0.0       1.0       2.0       3.0       4.0       5.0     \n",
       "customer_id                                                                \n",
       "15            0.080000  0.260000  0.020000  0.080000  0.080000  0.000000   \n",
       "73            0.019672  0.150820  0.026230  0.013115  0.036066  0.295082   \n",
       "91            0.025424  0.152542  0.101695  0.016949  0.076271  0.025424   \n",
       "144           0.000000  0.000000  0.000000  0.000000  0.000000  0.000000   \n",
       "150           0.000000  0.499999  0.000000  0.249999  0.000000  0.000000   \n",
       "\n",
       "                                                     ...   std              \\\n",
       "merchant_mcc     6.0      7.0       8.0       9.0    ... 118.0 119.0 120.0   \n",
       "customer_id                                          ...                     \n",
       "15            0.000000  0.04000  0.030000  0.000000  ...   0.0   0.0   0.0   \n",
       "73            0.016393  0.02623  0.009836  0.009836  ...   0.0   0.0   0.0   \n",
       "91            0.144068  0.00000  0.000000  0.067797  ...   0.0   0.0   0.0   \n",
       "144           0.000000  0.20000  0.399999  0.000000  ...   0.0   0.0   0.0   \n",
       "150           0.000000  0.00000  0.249999  0.000000  ...   0.0   0.0   0.0   \n",
       "\n",
       "                                                        \n",
       "merchant_mcc 121.0 122.0 123.0 124.0 125.0 126.0 127.0  \n",
       "customer_id                                             \n",
       "15             0.0   0.0   0.0   0.0   0.0   0.0   0.0  \n",
       "73             0.0   0.0   0.0   0.0   0.0   0.0   0.0  \n",
       "91             0.0   0.0   0.0   0.0   0.0   0.0   0.0  \n",
       "144            0.0   0.0   0.0   0.0   0.0   0.0   0.0  \n",
       "150            0.0   0.0   0.0   0.0   0.0   0.0   0.0  \n",
       "\n",
       "[5 rows x 384 columns]"
      ]
     },
     "execution_count": 44,
     "metadata": {},
     "output_type": "execute_result"
    }
   ],
   "source": [
    "df_mcc_agg = df_trans \\\n",
    "    .assign(merchant_mcc=df_trans['merchant_mcc'].map({v: i + 1 for i, v in enumerate(ix_mcc)}).fillna(0))\n",
    "\n",
    "df_mcc_agg = pd.concat([\n",
    "    norm_row(df_mcc_agg.pivot_table(index='customer_id', columns='merchant_mcc',\n",
    "                                    values='transaction_amt',aggfunc=['count']).fillna(0)),\n",
    "    norm_row(df_mcc_agg.pivot_table(index='customer_id', columns='merchant_mcc',\n",
    "                                    values='transaction_amt',aggfunc=['sum']).fillna(0)),\n",
    "    norm_row(df_mcc_agg.pivot_table(index='customer_id', columns='merchant_mcc',\n",
    "                                    values='transaction_amt',aggfunc=['std']).fillna(0)),\n",
    "], axis=1)\n",
    "\n",
    "df_mcc_agg.head()"
   ]
  },
  {
   "cell_type": "code",
   "execution_count": null,
   "metadata": {},
   "outputs": [],
   "source": []
  },
  {
   "cell_type": "code",
   "execution_count": 45,
   "metadata": {},
   "outputs": [
    {
     "data": {
      "text/html": [
       "<div>\n",
       "<style scoped>\n",
       "    .dataframe tbody tr th:only-of-type {\n",
       "        vertical-align: middle;\n",
       "    }\n",
       "\n",
       "    .dataframe tbody tr th {\n",
       "        vertical-align: top;\n",
       "    }\n",
       "\n",
       "    .dataframe thead th {\n",
       "        text-align: right;\n",
       "    }\n",
       "</style>\n",
       "<table border=\"1\" class=\"dataframe\">\n",
       "  <thead>\n",
       "    <tr style=\"text-align: right;\">\n",
       "      <th></th>\n",
       "      <th>v000</th>\n",
       "      <th>v001</th>\n",
       "      <th>v002</th>\n",
       "      <th>v003</th>\n",
       "      <th>v004</th>\n",
       "      <th>v005</th>\n",
       "      <th>v006</th>\n",
       "      <th>v007</th>\n",
       "      <th>v008</th>\n",
       "      <th>v009</th>\n",
       "      <th>...</th>\n",
       "      <th>v054</th>\n",
       "      <th>v055</th>\n",
       "      <th>v056</th>\n",
       "      <th>v057</th>\n",
       "      <th>v058</th>\n",
       "      <th>v059</th>\n",
       "      <th>v060</th>\n",
       "      <th>v061</th>\n",
       "      <th>v062</th>\n",
       "      <th>v063</th>\n",
       "    </tr>\n",
       "    <tr>\n",
       "      <th>customer_id</th>\n",
       "      <th></th>\n",
       "      <th></th>\n",
       "      <th></th>\n",
       "      <th></th>\n",
       "      <th></th>\n",
       "      <th></th>\n",
       "      <th></th>\n",
       "      <th></th>\n",
       "      <th></th>\n",
       "      <th></th>\n",
       "      <th></th>\n",
       "      <th></th>\n",
       "      <th></th>\n",
       "      <th></th>\n",
       "      <th></th>\n",
       "      <th></th>\n",
       "      <th></th>\n",
       "      <th></th>\n",
       "      <th></th>\n",
       "      <th></th>\n",
       "      <th></th>\n",
       "    </tr>\n",
       "  </thead>\n",
       "  <tbody>\n",
       "    <tr>\n",
       "      <th>15</th>\n",
       "      <td>0.045986</td>\n",
       "      <td>0.073066</td>\n",
       "      <td>-0.102657</td>\n",
       "      <td>-0.070000</td>\n",
       "      <td>-0.226388</td>\n",
       "      <td>0.021740</td>\n",
       "      <td>0.095810</td>\n",
       "      <td>0.140051</td>\n",
       "      <td>0.131922</td>\n",
       "      <td>-0.026116</td>\n",
       "      <td>...</td>\n",
       "      <td>-0.005688</td>\n",
       "      <td>0.162406</td>\n",
       "      <td>-0.067965</td>\n",
       "      <td>-0.040175</td>\n",
       "      <td>0.164212</td>\n",
       "      <td>-0.099997</td>\n",
       "      <td>0.077077</td>\n",
       "      <td>0.011274</td>\n",
       "      <td>-0.008279</td>\n",
       "      <td>-0.003820</td>\n",
       "    </tr>\n",
       "    <tr>\n",
       "      <th>73</th>\n",
       "      <td>0.154809</td>\n",
       "      <td>0.037429</td>\n",
       "      <td>-0.177134</td>\n",
       "      <td>-0.045597</td>\n",
       "      <td>-0.121371</td>\n",
       "      <td>-0.060306</td>\n",
       "      <td>0.174855</td>\n",
       "      <td>0.182637</td>\n",
       "      <td>0.093187</td>\n",
       "      <td>-0.010200</td>\n",
       "      <td>...</td>\n",
       "      <td>0.097886</td>\n",
       "      <td>0.177703</td>\n",
       "      <td>0.123618</td>\n",
       "      <td>-0.145646</td>\n",
       "      <td>0.152623</td>\n",
       "      <td>-0.057651</td>\n",
       "      <td>0.164589</td>\n",
       "      <td>-0.121165</td>\n",
       "      <td>-0.115062</td>\n",
       "      <td>-0.051746</td>\n",
       "    </tr>\n",
       "    <tr>\n",
       "      <th>91</th>\n",
       "      <td>0.014153</td>\n",
       "      <td>-0.048872</td>\n",
       "      <td>-0.187590</td>\n",
       "      <td>0.035219</td>\n",
       "      <td>-0.189449</td>\n",
       "      <td>0.017896</td>\n",
       "      <td>0.180154</td>\n",
       "      <td>-0.005428</td>\n",
       "      <td>0.079310</td>\n",
       "      <td>0.065733</td>\n",
       "      <td>...</td>\n",
       "      <td>0.105551</td>\n",
       "      <td>0.161654</td>\n",
       "      <td>-0.068084</td>\n",
       "      <td>-0.094257</td>\n",
       "      <td>0.150516</td>\n",
       "      <td>-0.059367</td>\n",
       "      <td>-0.019642</td>\n",
       "      <td>-0.059673</td>\n",
       "      <td>-0.019760</td>\n",
       "      <td>0.078213</td>\n",
       "    </tr>\n",
       "    <tr>\n",
       "      <th>144</th>\n",
       "      <td>0.003958</td>\n",
       "      <td>0.175994</td>\n",
       "      <td>-0.069661</td>\n",
       "      <td>0.079811</td>\n",
       "      <td>-0.202884</td>\n",
       "      <td>-0.170080</td>\n",
       "      <td>0.166775</td>\n",
       "      <td>0.042914</td>\n",
       "      <td>0.159432</td>\n",
       "      <td>-0.060284</td>\n",
       "      <td>...</td>\n",
       "      <td>0.018247</td>\n",
       "      <td>0.256953</td>\n",
       "      <td>-0.035306</td>\n",
       "      <td>-0.055328</td>\n",
       "      <td>0.184141</td>\n",
       "      <td>-0.125160</td>\n",
       "      <td>-0.011663</td>\n",
       "      <td>-0.024973</td>\n",
       "      <td>-0.033970</td>\n",
       "      <td>0.025868</td>\n",
       "    </tr>\n",
       "    <tr>\n",
       "      <th>150</th>\n",
       "      <td>-0.117107</td>\n",
       "      <td>0.131219</td>\n",
       "      <td>-0.116869</td>\n",
       "      <td>0.079403</td>\n",
       "      <td>-0.202366</td>\n",
       "      <td>0.062064</td>\n",
       "      <td>0.164296</td>\n",
       "      <td>0.051221</td>\n",
       "      <td>0.113916</td>\n",
       "      <td>0.027527</td>\n",
       "      <td>...</td>\n",
       "      <td>0.004127</td>\n",
       "      <td>0.177279</td>\n",
       "      <td>0.014191</td>\n",
       "      <td>-0.062098</td>\n",
       "      <td>0.028283</td>\n",
       "      <td>-0.136526</td>\n",
       "      <td>-0.015416</td>\n",
       "      <td>0.072359</td>\n",
       "      <td>-0.042742</td>\n",
       "      <td>0.024230</td>\n",
       "    </tr>\n",
       "  </tbody>\n",
       "</table>\n",
       "<p>5 rows × 64 columns</p>\n",
       "</div>"
      ],
      "text/plain": [
       "                 v000      v001      v002      v003      v004      v005  \\\n",
       "customer_id                                                               \n",
       "15           0.045986  0.073066 -0.102657 -0.070000 -0.226388  0.021740   \n",
       "73           0.154809  0.037429 -0.177134 -0.045597 -0.121371 -0.060306   \n",
       "91           0.014153 -0.048872 -0.187590  0.035219 -0.189449  0.017896   \n",
       "144          0.003958  0.175994 -0.069661  0.079811 -0.202884 -0.170080   \n",
       "150         -0.117107  0.131219 -0.116869  0.079403 -0.202366  0.062064   \n",
       "\n",
       "                 v006      v007      v008      v009  ...      v054      v055  \\\n",
       "customer_id                                          ...                       \n",
       "15           0.095810  0.140051  0.131922 -0.026116  ... -0.005688  0.162406   \n",
       "73           0.174855  0.182637  0.093187 -0.010200  ...  0.097886  0.177703   \n",
       "91           0.180154 -0.005428  0.079310  0.065733  ...  0.105551  0.161654   \n",
       "144          0.166775  0.042914  0.159432 -0.060284  ...  0.018247  0.256953   \n",
       "150          0.164296  0.051221  0.113916  0.027527  ...  0.004127  0.177279   \n",
       "\n",
       "                 v056      v057      v058      v059      v060      v061  \\\n",
       "customer_id                                                               \n",
       "15          -0.067965 -0.040175  0.164212 -0.099997  0.077077  0.011274   \n",
       "73           0.123618 -0.145646  0.152623 -0.057651  0.164589 -0.121165   \n",
       "91          -0.068084 -0.094257  0.150516 -0.059367 -0.019642 -0.059673   \n",
       "144         -0.035306 -0.055328  0.184141 -0.125160 -0.011663 -0.024973   \n",
       "150          0.014191 -0.062098  0.028283 -0.136526 -0.015416  0.072359   \n",
       "\n",
       "                 v062      v063  \n",
       "customer_id                      \n",
       "15          -0.008279 -0.003820  \n",
       "73          -0.115062 -0.051746  \n",
       "91          -0.019760  0.078213  \n",
       "144         -0.033970  0.025868  \n",
       "150         -0.042742  0.024230  \n",
       "\n",
       "[5 rows x 64 columns]"
      ]
     },
     "execution_count": 45,
     "metadata": {},
     "output_type": "execute_result"
    }
   ],
   "source": [
    "df_embeddings = pd.read_pickle(PROJECT_PATH + \"tinkoff_all_vectors.pickle\").set_index('customer_id')\n",
    "df_embeddings.head()"
   ]
  },
  {
   "cell_type": "code",
   "execution_count": null,
   "metadata": {},
   "outputs": [],
   "source": []
  },
  {
   "cell_type": "code",
   "execution_count": 118,
   "metadata": {},
   "outputs": [],
   "source": [
    "import re"
   ]
  },
  {
   "cell_type": "code",
   "execution_count": 86,
   "metadata": {},
   "outputs": [
    {
     "data": {
      "text/html": [
       "<div>\n",
       "<style scoped>\n",
       "    .dataframe tbody tr th:only-of-type {\n",
       "        vertical-align: middle;\n",
       "    }\n",
       "\n",
       "    .dataframe tbody tr th {\n",
       "        vertical-align: top;\n",
       "    }\n",
       "\n",
       "    .dataframe thead th {\n",
       "        text-align: right;\n",
       "    }\n",
       "</style>\n",
       "<table border=\"1\" class=\"dataframe\">\n",
       "  <thead>\n",
       "    <tr style=\"text-align: right;\">\n",
       "      <th></th>\n",
       "      <th>story_id</th>\n",
       "      <th>story_json</th>\n",
       "    </tr>\n",
       "  </thead>\n",
       "  <tbody>\n",
       "    <tr>\n",
       "      <th>0</th>\n",
       "      <td>127</td>\n",
       "      <td>{\"guid\":\"770a5bae-0e3f-4a6b-b924-bd87bd51a038\"...</td>\n",
       "    </tr>\n",
       "    <tr>\n",
       "      <th>1</th>\n",
       "      <td>254</td>\n",
       "      <td>{\"guid\":\"64f4c9ef-647b-4e04-b4d4-02297e939388\"...</td>\n",
       "    </tr>\n",
       "    <tr>\n",
       "      <th>2</th>\n",
       "      <td>865</td>\n",
       "      <td>{\"guid\":\"3482206b-d223-4aec-92ba-0150055cd68a\"...</td>\n",
       "    </tr>\n",
       "    <tr>\n",
       "      <th>3</th>\n",
       "      <td>1491</td>\n",
       "      <td>{\"guid\":\"5f4a9215-01de-4777-b70f-a18899db8f1c\"...</td>\n",
       "    </tr>\n",
       "    <tr>\n",
       "      <th>4</th>\n",
       "      <td>598</td>\n",
       "      <td>{\"guid\":\"ed8754bd-67be-4fa1-9289-5508d96f1fa4\"...</td>\n",
       "    </tr>\n",
       "    <tr>\n",
       "      <th>...</th>\n",
       "      <td>...</td>\n",
       "      <td>...</td>\n",
       "    </tr>\n",
       "    <tr>\n",
       "      <th>954</th>\n",
       "      <td>882</td>\n",
       "      <td>{\"guid\":\"15eebb21-5e66-4e04-bd89-7003b8a90e31\"...</td>\n",
       "    </tr>\n",
       "    <tr>\n",
       "      <th>955</th>\n",
       "      <td>1473</td>\n",
       "      <td>{\"guid\":\"4f9261e5-b049-41bd-9817-cb678c536c88\"...</td>\n",
       "    </tr>\n",
       "    <tr>\n",
       "      <th>956</th>\n",
       "      <td>266</td>\n",
       "      <td>{\"guid\":\"e98bd2c6-274c-4ce4-b137-2df085621388\"...</td>\n",
       "    </tr>\n",
       "    <tr>\n",
       "      <th>957</th>\n",
       "      <td>764</td>\n",
       "      <td>{\"guid\":\"0bce8dea-18f4-4b52-a8c3-a049be1c9c4d\"...</td>\n",
       "    </tr>\n",
       "    <tr>\n",
       "      <th>958</th>\n",
       "      <td>224</td>\n",
       "      <td>{\"guid\":\"d24210e8-5247-4fc0-85e8-2c18a8e1363d\"...</td>\n",
       "    </tr>\n",
       "  </tbody>\n",
       "</table>\n",
       "<p>959 rows × 2 columns</p>\n",
       "</div>"
      ],
      "text/plain": [
       "     story_id                                         story_json\n",
       "0         127  {\"guid\":\"770a5bae-0e3f-4a6b-b924-bd87bd51a038\"...\n",
       "1         254  {\"guid\":\"64f4c9ef-647b-4e04-b4d4-02297e939388\"...\n",
       "2         865  {\"guid\":\"3482206b-d223-4aec-92ba-0150055cd68a\"...\n",
       "3        1491  {\"guid\":\"5f4a9215-01de-4777-b70f-a18899db8f1c\"...\n",
       "4         598  {\"guid\":\"ed8754bd-67be-4fa1-9289-5508d96f1fa4\"...\n",
       "..        ...                                                ...\n",
       "954       882  {\"guid\":\"15eebb21-5e66-4e04-bd89-7003b8a90e31\"...\n",
       "955      1473  {\"guid\":\"4f9261e5-b049-41bd-9817-cb678c536c88\"...\n",
       "956       266  {\"guid\":\"e98bd2c6-274c-4ce4-b137-2df085621388\"...\n",
       "957       764  {\"guid\":\"0bce8dea-18f4-4b52-a8c3-a049be1c9c4d\"...\n",
       "958       224  {\"guid\":\"d24210e8-5247-4fc0-85e8-2c18a8e1363d\"...\n",
       "\n",
       "[959 rows x 2 columns]"
      ]
     },
     "execution_count": 86,
     "metadata": {},
     "output_type": "execute_result"
    }
   ],
   "source": [
    "df_stories"
   ]
  },
  {
   "cell_type": "code",
   "execution_count": 134,
   "metadata": {},
   "outputs": [
    {
     "data": {
      "text/html": [
       "<div>\n",
       "<style scoped>\n",
       "    .dataframe tbody tr th:only-of-type {\n",
       "        vertical-align: middle;\n",
       "    }\n",
       "\n",
       "    .dataframe tbody tr th {\n",
       "        vertical-align: top;\n",
       "    }\n",
       "\n",
       "    .dataframe thead th {\n",
       "        text-align: right;\n",
       "    }\n",
       "</style>\n",
       "<table border=\"1\" class=\"dataframe\">\n",
       "  <thead>\n",
       "    <tr style=\"text-align: right;\">\n",
       "      <th></th>\n",
       "      <th>json_len</th>\n",
       "      <th>word_count</th>\n",
       "    </tr>\n",
       "    <tr>\n",
       "      <th>story_id</th>\n",
       "      <th></th>\n",
       "      <th></th>\n",
       "    </tr>\n",
       "  </thead>\n",
       "  <tbody>\n",
       "    <tr>\n",
       "      <th>127</th>\n",
       "      <td>0.946553</td>\n",
       "      <td>0.1125</td>\n",
       "    </tr>\n",
       "    <tr>\n",
       "      <th>254</th>\n",
       "      <td>0.944707</td>\n",
       "      <td>0.1000</td>\n",
       "    </tr>\n",
       "    <tr>\n",
       "      <th>865</th>\n",
       "      <td>1.035609</td>\n",
       "      <td>0.4850</td>\n",
       "    </tr>\n",
       "    <tr>\n",
       "      <th>1491</th>\n",
       "      <td>1.032430</td>\n",
       "      <td>0.5700</td>\n",
       "    </tr>\n",
       "    <tr>\n",
       "      <th>598</th>\n",
       "      <td>1.031012</td>\n",
       "      <td>0.4650</td>\n",
       "    </tr>\n",
       "    <tr>\n",
       "      <th>...</th>\n",
       "      <td>...</td>\n",
       "      <td>...</td>\n",
       "    </tr>\n",
       "    <tr>\n",
       "      <th>882</th>\n",
       "      <td>0.968689</td>\n",
       "      <td>0.1250</td>\n",
       "    </tr>\n",
       "    <tr>\n",
       "      <th>1473</th>\n",
       "      <td>0.966890</td>\n",
       "      <td>0.1550</td>\n",
       "    </tr>\n",
       "    <tr>\n",
       "      <th>266</th>\n",
       "      <td>0.974432</td>\n",
       "      <td>0.2000</td>\n",
       "    </tr>\n",
       "    <tr>\n",
       "      <th>764</th>\n",
       "      <td>0.936837</td>\n",
       "      <td>0.1425</td>\n",
       "    </tr>\n",
       "    <tr>\n",
       "      <th>224</th>\n",
       "      <td>0.966224</td>\n",
       "      <td>0.1575</td>\n",
       "    </tr>\n",
       "  </tbody>\n",
       "</table>\n",
       "<p>959 rows × 2 columns</p>\n",
       "</div>"
      ],
      "text/plain": [
       "          json_len  word_count\n",
       "story_id                      \n",
       "127       0.946553      0.1125\n",
       "254       0.944707      0.1000\n",
       "865       1.035609      0.4850\n",
       "1491      1.032430      0.5700\n",
       "598       1.031012      0.4650\n",
       "...            ...         ...\n",
       "882       0.968689      0.1250\n",
       "1473      0.966890      0.1550\n",
       "266       0.974432      0.2000\n",
       "764       0.936837      0.1425\n",
       "224       0.966224      0.1575\n",
       "\n",
       "[959 rows x 2 columns]"
      ]
     },
     "execution_count": 134,
     "metadata": {},
     "output_type": "execute_result"
    }
   ],
   "source": [
    "df_stori_features = (np.log1p(df_stories.set_index('story_id')['story_json'].str.len()) / 10) \\\n",
    "    .rename('json_len').to_frame()\n",
    "df_stori_features['word_count'] = df_stories.set_index('story_id')['story_json'].apply(\n",
    "    lambda x: len(re.findall(r'[а-яА-Я]+', x))) / 400\n",
    "    \n",
    "df_stori_features"
   ]
  },
  {
   "cell_type": "code",
   "execution_count": 129,
   "metadata": {},
   "outputs": [
    {
     "data": {
      "text/plain": [
       "<matplotlib.axes._subplots.AxesSubplot at 0x7feca8b725c0>"
      ]
     },
     "execution_count": 129,
     "metadata": {},
     "output_type": "execute_result"
    },
    {
     "data": {
      "image/png": "[encoded data removed]",
      "text/plain": [
       "<Figure size 432x288 with 1 Axes>"
      ]
     },
     "metadata": {
      "needs_background": "light"
     },
     "output_type": "display_data"
    }
   ],
   "source": [
    "df_stori_features['word_count'].hist()"
   ]
  },
  {
   "cell_type": "code",
   "execution_count": null,
   "metadata": {},
   "outputs": [],
   "source": []
  },
  {
   "cell_type": "code",
   "execution_count": 135,
   "metadata": {},
   "outputs": [],
   "source": [
    "def make_features(df, use_amnt_agg=False, use_mcc_agg=False, use_embeddings=False):\n",
    "    feature_list = [\n",
    "        df_user_reaction_proba.reindex(index=df['customer_id'], columns=COLS_EVENT)\n",
    "            .fillna(s_default_reaction_proba).values,\n",
    "        np.log1p(df.groupby('customer_id')[['event']].count().reindex(index=df['customer_id'])\n",
    "                 .fillna(0.0).values),\n",
    "        df_item_reaction_proba.reindex(index=df['story_id'], columns=COLS_EVENT)\n",
    "            .fillna(s_default_reaction_proba).values,\n",
    "        np.log1p(df.groupby('story_id')[['event']].count().reindex(index=df['story_id'])\n",
    "                 .fillna(0.0).values),\n",
    "        df_stori_features.reindex(index=df['story_id'])\n",
    "            .fillna({'json_len': 1.014882, 'word_count': 0.4}).values\n",
    "    ]\n",
    "    \n",
    "    if use_amnt_agg:\n",
    "        feature_list.append(\n",
    "            df_amnt_agg.reindex(index=df['customer_id']).fillna(0.0).values)        \n",
    "    \n",
    "    if use_mcc_agg:\n",
    "        feature_list.append(\n",
    "            df_mcc_agg.reindex(index=df['customer_id']).fillna(0.0).values)\n",
    "        \n",
    "    if use_embeddings:\n",
    "        feature_list.append(\n",
    "            df_embeddings.reindex(index=df['customer_id']).fillna(0.0).values)\n",
    "    \n",
    "    X = np.concatenate(feature_list, axis=1)\n",
    "    return X"
   ]
  },
  {
   "cell_type": "code",
   "execution_count": 101,
   "metadata": {},
   "outputs": [],
   "source": [
    "y_train = df_user_item_train['event'].map({v: i for i, v in enumerate(COLS_EVENT)})\n",
    "y_test = df_user_item_test['event'].map({v: i for i, v in enumerate(COLS_EVENT)})"
   ]
  },
  {
   "cell_type": "code",
   "execution_count": null,
   "metadata": {},
   "outputs": [],
   "source": []
  },
  {
   "cell_type": "code",
   "execution_count": 48,
   "metadata": {},
   "outputs": [],
   "source": [
    "import xgboost as xgb\n",
    "from sklearn.linear_model import LogisticRegression\n",
    "from sklearn.ensemble import RandomForestClassifier\n",
    "import lightgbm"
   ]
  },
  {
   "cell_type": "code",
   "execution_count": null,
   "metadata": {},
   "outputs": [],
   "source": []
  },
  {
   "cell_type": "code",
   "execution_count": 68,
   "metadata": {},
   "outputs": [],
   "source": [
    "def roc_auc_mc_score(df):\n",
    "    def pair_ranking_rate(df):\n",
    "        events = df['event'].map({'dislike': 0, 'skip': 1, 'view': 2, 'like': 3}).values\n",
    "        scores = df['score'].values\n",
    "        mask = (np.sign(events.reshape(-1, 1) - events.reshape(1, -1)) > 0).astype(int)\n",
    "        right_pairs = ((mask * np.sign(scores.reshape(-1, 1) - scores.reshape(1, -1))) > 0).astype(float)\n",
    "        return right_pairs.sum() / mask.sum() if mask.sum() > 0 else np.NaN\n",
    "    \n",
    "    return df.groupby('customer_id').apply(pair_ranking_rate).mean()"
   ]
  },
  {
   "cell_type": "code",
   "execution_count": 69,
   "metadata": {},
   "outputs": [],
   "source": [
    "def estimate_model_and_features(model):\n",
    "    model.fit(X_train, y_train)\n",
    "    predict = model.predict_proba(X_test)\n",
    "\n",
    "    score1 = tinkoff_metric(df_user_item_test.assign(\n",
    "        score=np.sign((predict * np.array([[-10, 0.5, -0.1, 0.1]])).sum(axis=1))))\n",
    "    \n",
    "    score2 = roc_auc_mc_score(df_user_item_test.assign(\n",
    "        score=(predict * np.array([[-10, 0.5, -0.1, 0.1]])).sum(axis=1)))\n",
    "    print(f'{model.__class__.__name__:25s}: {score1:.4f}, {score2:.4f}') "
   ]
  },
  {
   "cell_type": "code",
   "execution_count": null,
   "metadata": {},
   "outputs": [],
   "source": []
  },
  {
   "cell_type": "code",
   "execution_count": 148,
   "metadata": {},
   "outputs": [],
   "source": [
    "def estimate_model_and_features_ens(model):\n",
    "    model.fit(X_train, df_user_item_train['event'].map({'dislike': 0, 'skip': 1, 'view': 1, 'like': 1}))\n",
    "    predict1 = model.predict_proba(X_test)[:, 1]\n",
    "\n",
    "    model.fit(X_train, df_user_item_train['event'].map({'dislike': 0, 'skip': 0, 'view': 1, 'like': 1}))\n",
    "    predict2 = model.predict_proba(X_test)[:, 1]\n",
    "\n",
    "    model.fit(X_train, df_user_item_train['event'].map({'dislike': 0, 'skip': 0, 'view': 0, 'like': 1}))\n",
    "    predict3 = model.predict_proba(X_test)[:, 1]\n",
    "    \n",
    "    predict = (predict1 + 0.5 * predict2 + predict3)\n",
    "\n",
    "    score2 = roc_auc_mc_score(df_user_item_test.assign(score=predict))\n",
    "    print(f'{model.__class__.__name__:25s}: {score2:.4f}') "
   ]
  },
  {
   "cell_type": "markdown",
   "metadata": {},
   "source": [
    "# Base features"
   ]
  },
  {
   "cell_type": "code",
   "execution_count": 149,
   "metadata": {},
   "outputs": [
    {
     "data": {
      "text/plain": [
       "((354855, 12), (118286, 12))"
      ]
     },
     "execution_count": 149,
     "metadata": {},
     "output_type": "execute_result"
    }
   ],
   "source": [
    "X_train = make_features(df_user_item_train)\n",
    "X_test = make_features(df_user_item_test)\n",
    "X_train.shape, X_test.shape"
   ]
  },
  {
   "cell_type": "code",
   "execution_count": 150,
   "metadata": {},
   "outputs": [
    {
     "name": "stdout",
     "output_type": "stream",
     "text": [
      "LogisticRegression       : 0.5979\n",
      "RandomForestClassifier   : 0.5956\n",
      "LGBMClassifier           : 0.6127\n",
      "CPU times: user 5min 40s, sys: 18.7 s, total: 5min 59s\n",
      "Wall time: 2min 14s\n"
     ]
    }
   ],
   "source": [
    "%%time\n",
    "estimate_model_and_features_ens(LogisticRegression(solver='liblinear', multi_class='ovr'))\n",
    "estimate_model_and_features_ens(RandomForestClassifier(n_estimators=100, n_jobs=4))\n",
    "# estimate_model_and_features_ens(xgb.XGBClassifier(n_estimators=300, n_jobs=4))\n",
    "estimate_model_and_features_ens(lightgbm.LGBMClassifier(n_estimators=300, n_jobs=4))"
   ]
  },
  {
   "cell_type": "code",
   "execution_count": 151,
   "metadata": {},
   "outputs": [],
   "source": [
    "def estimate_model_and_features_ens(model):\n",
    "    model.fit(X_train, df_user_item_train['event'].map({'dislike': 0, 'skip': 1, 'view': 1, 'like': 1}))\n",
    "    predict1 = model.predict_proba(X_test)[:, 1]\n",
    "\n",
    "    model.fit(X_train, df_user_item_train['event'].map({'dislike': 0, 'skip': 0, 'view': 1, 'like': 1}))\n",
    "    predict2 = model.predict_proba(X_test)[:, 1]\n",
    "\n",
    "    model.fit(X_train, df_user_item_train['event'].map({'dislike': 0, 'skip': 0, 'view': 0, 'like': 1}))\n",
    "    predict3 = model.predict_proba(X_test)[:, 1]\n",
    "    \n",
    "    predict = (predict1 + 2.0 * predict2 + predict3)\n",
    "\n",
    "    score2 = roc_auc_mc_score(df_user_item_test.assign(score=predict))\n",
    "    print(f'{model.__class__.__name__:25s}: {score2:.4f}') "
   ]
  },
  {
   "cell_type": "code",
   "execution_count": 152,
   "metadata": {},
   "outputs": [
    {
     "name": "stdout",
     "output_type": "stream",
     "text": [
      "LogisticRegression       : 0.6071\n",
      "RandomForestClassifier   : 0.6013\n",
      "LGBMClassifier           : 0.6195\n",
      "CPU times: user 5min 41s, sys: 18.6 s, total: 6min\n",
      "Wall time: 2min 14s\n"
     ]
    }
   ],
   "source": [
    "%%time\n",
    "estimate_model_and_features_ens(LogisticRegression(solver='liblinear', multi_class='ovr'))\n",
    "estimate_model_and_features_ens(RandomForestClassifier(n_estimators=100, n_jobs=4))\n",
    "# estimate_model_and_features_ens(xgb.XGBClassifier(n_estimators=300, n_jobs=4))\n",
    "estimate_model_and_features_ens(lightgbm.LGBMClassifier(n_estimators=300, n_jobs=4))"
   ]
  },
  {
   "cell_type": "code",
   "execution_count": 155,
   "metadata": {},
   "outputs": [],
   "source": [
    "def estimate_model_and_features_ens(model):\n",
    "    model.fit(X_train, df_user_item_train['event'].map({'dislike': 0, 'skip': 1, 'view': 1, 'like': 1}))\n",
    "    predict1_tr = model.predict_proba(X_train)[:, 1]\n",
    "    predict1_ts = model.predict_proba(X_test)[:, 1]\n",
    "\n",
    "    model.fit(X_train, df_user_item_train['event'].map({'dislike': 0, 'skip': 0, 'view': 1, 'like': 1}))\n",
    "    predict2_tr = model.predict_proba(X_train)[:, 1]\n",
    "    predict2_ts = model.predict_proba(X_test)[:, 1]\n",
    "\n",
    "    model.fit(X_train, df_user_item_train['event'].map({'dislike': 0, 'skip': 0, 'view': 0, 'like': 1}))\n",
    "    predict3_tr = model.predict_proba(X_train)[:, 1]\n",
    "    predict3_ts = model.predict_proba(X_test)[:, 1]\n",
    "    \n",
    "    predict_tr = (predict1_tr + 10.0 * predict2_tr + 2 * predict3_tr)\n",
    "    predict_ts = (predict1_ts + 10.0 * predict2_ts + 2 * predict3_ts)\n",
    "\n",
    "    score_tr = roc_auc_mc_score(df_user_item_train.assign(score=predict_tr))\n",
    "    score_ts = roc_auc_mc_score(df_user_item_test.assign(score=predict_ts))\n",
    "    print(f'{model.__class__.__name__:25s}: train {score_tr:.4f}, test {score_ts:.4f}') "
   ]
  },
  {
   "cell_type": "code",
   "execution_count": 156,
   "metadata": {},
   "outputs": [
    {
     "name": "stdout",
     "output_type": "stream",
     "text": [
      "LogisticRegression       : train 0.6549, test 0.6080\n",
      "RandomForestClassifier   : train 0.8752, test 0.6032\n",
      "LGBMClassifier           : train 0.7021, test 0.6206\n",
      "CPU times: user 8min 34s, sys: 23.9 s, total: 8min 58s\n",
      "Wall time: 4min 23s\n"
     ]
    }
   ],
   "source": [
    "%%time\n",
    "estimate_model_and_features_ens(LogisticRegression(solver='liblinear', multi_class='ovr'))\n",
    "estimate_model_and_features_ens(RandomForestClassifier(n_estimators=100, n_jobs=4))\n",
    "# estimate_model_and_features_ens(xgb.XGBClassifier(n_estimators=300, n_jobs=4))\n",
    "estimate_model_and_features_ens(lightgbm.LGBMClassifier(n_estimators=300, n_jobs=4))"
   ]
  },
  {
   "cell_type": "code",
   "execution_count": null,
   "metadata": {},
   "outputs": [],
   "source": []
  },
  {
   "cell_type": "code",
   "execution_count": 141,
   "metadata": {},
   "outputs": [
    {
     "name": "stdout",
     "output_type": "stream",
     "text": [
      "LogisticRegression       : 0.6061\n",
      "RandomForestClassifier   : 0.6005\n",
      "LGBMClassifier           : 0.6163\n",
      "CPU times: user 6min 2s, sys: 29 s, total: 6min 31s\n",
      "Wall time: 2min 25s\n"
     ]
    }
   ],
   "source": [
    "%%time\n",
    "estimate_model_and_features_ens(LogisticRegression(solver='liblinear', multi_class='ovr'))\n",
    "estimate_model_and_features_ens(RandomForestClassifier(n_estimators=100, n_jobs=4))\n",
    "# estimate_model_and_features_ens(xgb.XGBClassifier(n_estimators=300, n_jobs=4))\n",
    "estimate_model_and_features_ens(lightgbm.LGBMClassifier(n_estimators=300, n_jobs=4))"
   ]
  },
  {
   "cell_type": "code",
   "execution_count": null,
   "metadata": {},
   "outputs": [],
   "source": []
  },
  {
   "cell_type": "code",
   "execution_count": 71,
   "metadata": {},
   "outputs": [
    {
     "name": "stdout",
     "output_type": "stream",
     "text": [
      "LogisticRegression       : 0.1014, 0.5891\n",
      "RandomForestClassifier   : 0.0853, 0.5354\n",
      "LGBMClassifier           : 0.0794, 0.5674\n",
      "CPU times: user 4min, sys: 14.5 s, total: 4min 15s\n",
      "Wall time: 1min 54s\n"
     ]
    }
   ],
   "source": [
    "%%time\n",
    "estimate_model_and_features(LogisticRegression(solver='liblinear', multi_class='ovr'))\n",
    "estimate_model_and_features(RandomForestClassifier(n_estimators=100, n_jobs=4))\n",
    "# estimate_model_and_features(xgb.XGBClassifier(n_estimators=300, n_jobs=4))\n",
    "estimate_model_and_features(lightgbm.LGBMClassifier(n_estimators=300, n_jobs=4))"
   ]
  },
  {
   "cell_type": "markdown",
   "metadata": {},
   "source": [
    "# use_amnt_agg features"
   ]
  },
  {
   "cell_type": "code",
   "execution_count": 142,
   "metadata": {},
   "outputs": [
    {
     "data": {
      "text/plain": [
       "((354855, 20), (118286, 20))"
      ]
     },
     "execution_count": 142,
     "metadata": {},
     "output_type": "execute_result"
    }
   ],
   "source": [
    "X_train = make_features(df_user_item_train, use_amnt_agg=True)\n",
    "X_test = make_features(df_user_item_test, use_amnt_agg=True)\n",
    "X_train.shape, X_test.shape"
   ]
  },
  {
   "cell_type": "code",
   "execution_count": 143,
   "metadata": {},
   "outputs": [
    {
     "name": "stdout",
     "output_type": "stream",
     "text": [
      "LogisticRegression       : 0.6069\n",
      "RandomForestClassifier   : 0.5976\n",
      "LGBMClassifier           : 0.6172\n",
      "CPU times: user 7min 34s, sys: 51.8 s, total: 8min 26s\n",
      "Wall time: 3min 10s\n"
     ]
    }
   ],
   "source": [
    "%%time\n",
    "estimate_model_and_features_ens(LogisticRegression(solver='liblinear', multi_class='ovr'))\n",
    "estimate_model_and_features_ens(RandomForestClassifier(n_estimators=100, n_jobs=4))\n",
    "# estimate_model_and_features_ens(xgb.XGBClassifier(n_estimators=300, n_jobs=4))\n",
    "estimate_model_and_features_ens(lightgbm.LGBMClassifier(n_estimators=300, n_jobs=4))"
   ]
  },
  {
   "cell_type": "markdown",
   "metadata": {},
   "source": [
    "# use_mcc_agg features"
   ]
  },
  {
   "cell_type": "code",
   "execution_count": 144,
   "metadata": {},
   "outputs": [
    {
     "data": {
      "text/plain": [
       "((354855, 396), (118286, 396))"
      ]
     },
     "execution_count": 144,
     "metadata": {},
     "output_type": "execute_result"
    }
   ],
   "source": [
    "X_train = make_features(df_user_item_train, use_mcc_agg=True)\n",
    "X_test = make_features(df_user_item_test, use_mcc_agg=True)\n",
    "X_train.shape, X_test.shape"
   ]
  },
  {
   "cell_type": "code",
   "execution_count": 145,
   "metadata": {},
   "outputs": [
    {
     "name": "stdout",
     "output_type": "stream",
     "text": [
      "LogisticRegression       : 0.6078\n",
      "RandomForestClassifier   : 0.5953\n",
      "LGBMClassifier           : 0.6140\n",
      "CPU times: user 25min 4s, sys: 2min 2s, total: 27min 7s\n",
      "Wall time: 9min 1s\n"
     ]
    }
   ],
   "source": [
    "%%time\n",
    "estimate_model_and_features_ens(LogisticRegression(solver='liblinear', multi_class='ovr'))\n",
    "estimate_model_and_features_ens(RandomForestClassifier(n_estimators=100, n_jobs=4))\n",
    "# estimate_model_and_features_ens(xgb.XGBClassifier(n_estimators=300, n_jobs=4))\n",
    "estimate_model_and_features_ens(lightgbm.LGBMClassifier(n_estimators=300, n_jobs=4))"
   ]
  },
  {
   "cell_type": "code",
   "execution_count": null,
   "metadata": {},
   "outputs": [],
   "source": []
  },
  {
   "cell_type": "markdown",
   "metadata": {},
   "source": [
    "# use_embeddings features"
   ]
  },
  {
   "cell_type": "code",
   "execution_count": 146,
   "metadata": {},
   "outputs": [
    {
     "data": {
      "text/plain": [
       "((354855, 76), (118286, 76))"
      ]
     },
     "execution_count": 146,
     "metadata": {},
     "output_type": "execute_result"
    }
   ],
   "source": [
    "X_train = make_features(df_user_item_train, use_embeddings=True)\n",
    "X_test = make_features(df_user_item_test, use_embeddings=True)\n",
    "X_train.shape, X_test.shape"
   ]
  },
  {
   "cell_type": "code",
   "execution_count": 147,
   "metadata": {},
   "outputs": [
    {
     "name": "stdout",
     "output_type": "stream",
     "text": [
      "LogisticRegression       : 0.6062\n",
      "RandomForestClassifier   : 0.5989\n",
      "LGBMClassifier           : 0.6165\n",
      "CPU times: user 20min 57s, sys: 56.9 s, total: 21min 54s\n",
      "Wall time: 6min 55s\n"
     ]
    }
   ],
   "source": [
    "%%time\n",
    "estimate_model_and_features_ens(LogisticRegression(solver='liblinear', multi_class='ovr'))\n",
    "estimate_model_and_features_ens(RandomForestClassifier(n_estimators=100, n_jobs=4))\n",
    "# estimate_model_and_features_ens(xgb.XGBClassifier(n_estimators=300, n_jobs=4))\n",
    "estimate_model_and_features_ens(lightgbm.LGBMClassifier(n_estimators=300, n_jobs=4))"
   ]
  },
  {
   "cell_type": "code",
   "execution_count": null,
   "metadata": {},
   "outputs": [],
   "source": []
  }
 ],
 "metadata": {
  "kernelspec": {
   "display_name": "automl_env",
   "language": "python",
   "name": "automl_env"
  },
  "language_info": {
   "codemirror_mode": {
    "name": "ipython",
    "version": 3
   },
   "file_extension": ".py",
   "mimetype": "text/x-python",
   "name": "python",
   "nbconvert_exporter": "python",
   "pygments_lexer": "ipython3",
   "version": "3.6.4"
  }
 },
 "nbformat": 4,
 "nbformat_minor": 2
}
