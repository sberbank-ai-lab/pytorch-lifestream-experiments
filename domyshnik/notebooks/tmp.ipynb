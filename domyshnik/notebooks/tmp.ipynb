version https://git-lfs.github.com/spec/v1
oid sha256:f604d153e672e735bf745b4207359d5e0927259acfcfdca2518c9c27d561c3a6
size 1554
