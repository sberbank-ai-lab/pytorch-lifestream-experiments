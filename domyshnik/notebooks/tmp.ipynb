version https://git-lfs.github.com/spec/v1
oid sha256:9ecf9785bf7699cc1424b9dc55799761f136874b5f44b22edb3395b27f394b75
size 18794
