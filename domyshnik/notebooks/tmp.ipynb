version https://git-lfs.github.com/spec/v1
oid sha256:943934d0dff333d9600d0eb7cbf478a113d701994bc4bb57589c885265dae37e
size 5946
